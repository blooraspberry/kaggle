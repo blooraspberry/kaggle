{
 "cells": [
  {
   "cell_type": "code",
<<<<<<< HEAD
   "execution_count": 834,
=======
   "execution_count": 309,
>>>>>>> 2bc5832c1e434469df2bc6cc8a5ae0ae5a09d85c
   "id": "43da1992-aa1a-405e-a8bc-e5d60063a3e1",
   "metadata": {},
   "outputs": [],
   "source": [
    "import pandas as pd\n",
    "import numpy as np\n",
    "import seaborn as sns"
   ]
  },
  {
   "cell_type": "code",
<<<<<<< HEAD
   "execution_count": 855,
=======
   "execution_count": 218,
>>>>>>> 2bc5832c1e434469df2bc6cc8a5ae0ae5a09d85c
   "id": "2aca6ac6-bd08-40ed-833a-a82dd079e566",
   "metadata": {},
   "outputs": [],
   "source": [
    "df=pd.read_csv('train.csv')"
   ]
  },
  {
   "cell_type": "code",
<<<<<<< HEAD
   "execution_count": 856,
=======
   "execution_count": 299,
>>>>>>> 2bc5832c1e434469df2bc6cc8a5ae0ae5a09d85c
   "id": "61a7d67c-600e-451c-8e9b-3e2688b0fc74",
   "metadata": {},
   "outputs": [
    {
     "data": {
      "text/html": [
       "<div>\n",
       "<style scoped>\n",
       "    .dataframe tbody tr th:only-of-type {\n",
       "        vertical-align: middle;\n",
       "    }\n",
       "\n",
       "    .dataframe tbody tr th {\n",
       "        vertical-align: top;\n",
       "    }\n",
       "\n",
       "    .dataframe thead th {\n",
       "        text-align: right;\n",
       "    }\n",
       "</style>\n",
       "<table border=\"1\" class=\"dataframe\">\n",
       "  <thead>\n",
       "    <tr style=\"text-align: right;\">\n",
       "      <th></th>\n",
       "      <th>id</th>\n",
       "      <th>Gender</th>\n",
       "      <th>Age</th>\n",
       "      <th>Height</th>\n",
       "      <th>Weight</th>\n",
       "      <th>family_history_with_overweight</th>\n",
       "      <th>FAVC</th>\n",
       "      <th>FCVC</th>\n",
       "      <th>NCP</th>\n",
       "      <th>CAEC</th>\n",
<<<<<<< HEAD
       "      <th>SMOKE</th>\n",
       "      <th>CH2O</th>\n",
       "      <th>SCC</th>\n",
=======
       "      <th>...</th>\n",
>>>>>>> 2bc5832c1e434469df2bc6cc8a5ae0ae5a09d85c
       "      <th>FAF</th>\n",
       "      <th>TUE</th>\n",
       "      <th>CALC</th>\n",
       "      <th>MTRANS</th>\n",
       "      <th>NObeyesdad</th>\n",
<<<<<<< HEAD
=======
       "      <th>Gender_Female</th>\n",
       "      <th>CALC_numerical</th>\n",
       "      <th>CAEC_numerical</th>\n",
       "      <th>target</th>\n",
       "      <th>WH</th>\n",
>>>>>>> 2bc5832c1e434469df2bc6cc8a5ae0ae5a09d85c
       "    </tr>\n",
       "  </thead>\n",
       "  <tbody>\n",
       "    <tr>\n",
       "      <th>count</th>\n",
       "      <td>20758.00000</td>\n",
       "      <td>20758</td>\n",
       "      <td>20758.000000</td>\n",
       "      <td>20758.000000</td>\n",
       "      <td>20758.000000</td>\n",
<<<<<<< HEAD
       "      <td>20758</td>\n",
       "      <td>20758</td>\n",
       "      <td>20758.000000</td>\n",
       "      <td>20758.000000</td>\n",
       "      <td>20758</td>\n",
       "      <td>20758</td>\n",
       "      <td>20758.000000</td>\n",
       "      <td>20758</td>\n",
=======
       "      <td>20758.000000</td>\n",
       "      <td>20758.000000</td>\n",
       "      <td>20758.000000</td>\n",
       "      <td>20758.000000</td>\n",
       "      <td>20758</td>\n",
       "      <td>...</td>\n",
>>>>>>> 2bc5832c1e434469df2bc6cc8a5ae0ae5a09d85c
       "      <td>20758.000000</td>\n",
       "      <td>20758.000000</td>\n",
       "      <td>20758</td>\n",
       "      <td>20758</td>\n",
       "      <td>20758</td>\n",
<<<<<<< HEAD
=======
       "      <td>20758.000000</td>\n",
       "      <td>20758.000000</td>\n",
       "      <td>20758.000000</td>\n",
       "      <td>20758.000000</td>\n",
       "      <td>20758.000000</td>\n",
>>>>>>> 2bc5832c1e434469df2bc6cc8a5ae0ae5a09d85c
       "    </tr>\n",
       "    <tr>\n",
       "      <th>unique</th>\n",
       "      <td>NaN</td>\n",
       "      <td>2</td>\n",
       "      <td>NaN</td>\n",
       "      <td>NaN</td>\n",
       "      <td>NaN</td>\n",
<<<<<<< HEAD
       "      <td>2</td>\n",
       "      <td>2</td>\n",
       "      <td>NaN</td>\n",
       "      <td>NaN</td>\n",
       "      <td>4</td>\n",
       "      <td>2</td>\n",
       "      <td>NaN</td>\n",
       "      <td>2</td>\n",
=======
       "      <td>NaN</td>\n",
       "      <td>NaN</td>\n",
       "      <td>NaN</td>\n",
       "      <td>NaN</td>\n",
       "      <td>4</td>\n",
       "      <td>...</td>\n",
>>>>>>> 2bc5832c1e434469df2bc6cc8a5ae0ae5a09d85c
       "      <td>NaN</td>\n",
       "      <td>NaN</td>\n",
       "      <td>3</td>\n",
       "      <td>5</td>\n",
       "      <td>7</td>\n",
<<<<<<< HEAD
=======
       "      <td>NaN</td>\n",
       "      <td>NaN</td>\n",
       "      <td>NaN</td>\n",
       "      <td>NaN</td>\n",
       "      <td>NaN</td>\n",
>>>>>>> 2bc5832c1e434469df2bc6cc8a5ae0ae5a09d85c
       "    </tr>\n",
       "    <tr>\n",
       "      <th>top</th>\n",
       "      <td>NaN</td>\n",
       "      <td>Female</td>\n",
       "      <td>NaN</td>\n",
       "      <td>NaN</td>\n",
       "      <td>NaN</td>\n",
<<<<<<< HEAD
       "      <td>yes</td>\n",
       "      <td>yes</td>\n",
       "      <td>NaN</td>\n",
       "      <td>NaN</td>\n",
       "      <td>Sometimes</td>\n",
       "      <td>no</td>\n",
       "      <td>NaN</td>\n",
       "      <td>no</td>\n",
=======
       "      <td>NaN</td>\n",
       "      <td>NaN</td>\n",
       "      <td>NaN</td>\n",
       "      <td>NaN</td>\n",
       "      <td>Sometimes</td>\n",
       "      <td>...</td>\n",
>>>>>>> 2bc5832c1e434469df2bc6cc8a5ae0ae5a09d85c
       "      <td>NaN</td>\n",
       "      <td>NaN</td>\n",
       "      <td>Sometimes</td>\n",
       "      <td>Public_Transportation</td>\n",
       "      <td>Obesity_Type_III</td>\n",
<<<<<<< HEAD
=======
       "      <td>NaN</td>\n",
       "      <td>NaN</td>\n",
       "      <td>NaN</td>\n",
       "      <td>NaN</td>\n",
       "      <td>NaN</td>\n",
>>>>>>> 2bc5832c1e434469df2bc6cc8a5ae0ae5a09d85c
       "    </tr>\n",
       "    <tr>\n",
       "      <th>freq</th>\n",
       "      <td>NaN</td>\n",
       "      <td>10422</td>\n",
       "      <td>NaN</td>\n",
       "      <td>NaN</td>\n",
       "      <td>NaN</td>\n",
<<<<<<< HEAD
       "      <td>17014</td>\n",
       "      <td>18982</td>\n",
       "      <td>NaN</td>\n",
       "      <td>NaN</td>\n",
       "      <td>17529</td>\n",
       "      <td>20513</td>\n",
       "      <td>NaN</td>\n",
       "      <td>20071</td>\n",
=======
       "      <td>NaN</td>\n",
       "      <td>NaN</td>\n",
       "      <td>NaN</td>\n",
       "      <td>NaN</td>\n",
       "      <td>17529</td>\n",
       "      <td>...</td>\n",
>>>>>>> 2bc5832c1e434469df2bc6cc8a5ae0ae5a09d85c
       "      <td>NaN</td>\n",
       "      <td>NaN</td>\n",
       "      <td>15066</td>\n",
       "      <td>16687</td>\n",
       "      <td>4046</td>\n",
<<<<<<< HEAD
=======
       "      <td>NaN</td>\n",
       "      <td>NaN</td>\n",
       "      <td>NaN</td>\n",
       "      <td>NaN</td>\n",
       "      <td>NaN</td>\n",
>>>>>>> 2bc5832c1e434469df2bc6cc8a5ae0ae5a09d85c
       "    </tr>\n",
       "    <tr>\n",
       "      <th>mean</th>\n",
       "      <td>10378.50000</td>\n",
       "      <td>NaN</td>\n",
       "      <td>23.841804</td>\n",
       "      <td>1.700245</td>\n",
       "      <td>87.887768</td>\n",
<<<<<<< HEAD
       "      <td>NaN</td>\n",
       "      <td>NaN</td>\n",
       "      <td>2.445908</td>\n",
       "      <td>2.761332</td>\n",
       "      <td>NaN</td>\n",
       "      <td>NaN</td>\n",
       "      <td>2.029418</td>\n",
       "      <td>NaN</td>\n",
=======
       "      <td>0.819636</td>\n",
       "      <td>0.914443</td>\n",
       "      <td>2.445908</td>\n",
       "      <td>2.761332</td>\n",
       "      <td>NaN</td>\n",
       "      <td>...</td>\n",
>>>>>>> 2bc5832c1e434469df2bc6cc8a5ae0ae5a09d85c
       "      <td>0.981747</td>\n",
       "      <td>0.616756</td>\n",
       "      <td>NaN</td>\n",
       "      <td>NaN</td>\n",
       "      <td>NaN</td>\n",
<<<<<<< HEAD
=======
       "      <td>0.502071</td>\n",
       "      <td>0.233028</td>\n",
       "      <td>0.347813</td>\n",
       "      <td>2.991473</td>\n",
       "      <td>51.489937</td>\n",
>>>>>>> 2bc5832c1e434469df2bc6cc8a5ae0ae5a09d85c
       "    </tr>\n",
       "    <tr>\n",
       "      <th>std</th>\n",
       "      <td>5992.46278</td>\n",
       "      <td>NaN</td>\n",
       "      <td>5.688072</td>\n",
       "      <td>0.087312</td>\n",
       "      <td>26.379443</td>\n",
<<<<<<< HEAD
       "      <td>NaN</td>\n",
       "      <td>NaN</td>\n",
       "      <td>0.533218</td>\n",
       "      <td>0.705375</td>\n",
       "      <td>NaN</td>\n",
       "      <td>NaN</td>\n",
       "      <td>0.608467</td>\n",
       "      <td>NaN</td>\n",
=======
       "      <td>0.384500</td>\n",
       "      <td>0.279716</td>\n",
       "      <td>0.533218</td>\n",
       "      <td>0.705375</td>\n",
       "      <td>NaN</td>\n",
       "      <td>...</td>\n",
>>>>>>> 2bc5832c1e434469df2bc6cc8a5ae0ae5a09d85c
       "      <td>0.838302</td>\n",
       "      <td>0.602113</td>\n",
       "      <td>NaN</td>\n",
       "      <td>NaN</td>\n",
       "      <td>NaN</td>\n",
<<<<<<< HEAD
=======
       "      <td>0.500008</td>\n",
       "      <td>0.142107</td>\n",
       "      <td>0.144657</td>\n",
       "      <td>1.893176</td>\n",
       "      <td>14.613828</td>\n",
>>>>>>> 2bc5832c1e434469df2bc6cc8a5ae0ae5a09d85c
       "    </tr>\n",
       "    <tr>\n",
       "      <th>min</th>\n",
       "      <td>0.00000</td>\n",
       "      <td>NaN</td>\n",
       "      <td>14.000000</td>\n",
       "      <td>1.450000</td>\n",
       "      <td>39.000000</td>\n",
<<<<<<< HEAD
       "      <td>NaN</td>\n",
       "      <td>NaN</td>\n",
       "      <td>1.000000</td>\n",
       "      <td>1.000000</td>\n",
       "      <td>NaN</td>\n",
       "      <td>NaN</td>\n",
       "      <td>1.000000</td>\n",
       "      <td>NaN</td>\n",
=======
       "      <td>0.000000</td>\n",
       "      <td>0.000000</td>\n",
       "      <td>1.000000</td>\n",
       "      <td>1.000000</td>\n",
       "      <td>NaN</td>\n",
       "      <td>...</td>\n",
>>>>>>> 2bc5832c1e434469df2bc6cc8a5ae0ae5a09d85c
       "      <td>0.000000</td>\n",
       "      <td>0.000000</td>\n",
       "      <td>NaN</td>\n",
       "      <td>NaN</td>\n",
       "      <td>NaN</td>\n",
<<<<<<< HEAD
=======
       "      <td>0.000000</td>\n",
       "      <td>0.000000</td>\n",
       "      <td>0.000000</td>\n",
       "      <td>0.000000</td>\n",
       "      <td>22.689706</td>\n",
>>>>>>> 2bc5832c1e434469df2bc6cc8a5ae0ae5a09d85c
       "    </tr>\n",
       "    <tr>\n",
       "      <th>25%</th>\n",
       "      <td>5189.25000</td>\n",
       "      <td>NaN</td>\n",
       "      <td>20.000000</td>\n",
       "      <td>1.631856</td>\n",
       "      <td>66.000000</td>\n",
<<<<<<< HEAD
       "      <td>NaN</td>\n",
       "      <td>NaN</td>\n",
       "      <td>2.000000</td>\n",
       "      <td>3.000000</td>\n",
       "      <td>NaN</td>\n",
       "      <td>NaN</td>\n",
       "      <td>1.792022</td>\n",
       "      <td>NaN</td>\n",
=======
       "      <td>1.000000</td>\n",
       "      <td>1.000000</td>\n",
       "      <td>2.000000</td>\n",
       "      <td>3.000000</td>\n",
       "      <td>NaN</td>\n",
       "      <td>...</td>\n",
>>>>>>> 2bc5832c1e434469df2bc6cc8a5ae0ae5a09d85c
       "      <td>0.008013</td>\n",
       "      <td>0.000000</td>\n",
       "      <td>NaN</td>\n",
       "      <td>NaN</td>\n",
       "      <td>NaN</td>\n",
<<<<<<< HEAD
=======
       "      <td>0.000000</td>\n",
       "      <td>0.300000</td>\n",
       "      <td>0.300000</td>\n",
       "      <td>1.000000</td>\n",
       "      <td>40.097824</td>\n",
>>>>>>> 2bc5832c1e434469df2bc6cc8a5ae0ae5a09d85c
       "    </tr>\n",
       "    <tr>\n",
       "      <th>50%</th>\n",
       "      <td>10378.50000</td>\n",
       "      <td>NaN</td>\n",
       "      <td>22.815416</td>\n",
       "      <td>1.700000</td>\n",
       "      <td>84.064875</td>\n",
<<<<<<< HEAD
       "      <td>NaN</td>\n",
       "      <td>NaN</td>\n",
       "      <td>2.393837</td>\n",
       "      <td>3.000000</td>\n",
       "      <td>NaN</td>\n",
       "      <td>NaN</td>\n",
       "      <td>2.000000</td>\n",
       "      <td>NaN</td>\n",
=======
       "      <td>1.000000</td>\n",
       "      <td>1.000000</td>\n",
       "      <td>2.393837</td>\n",
       "      <td>3.000000</td>\n",
       "      <td>NaN</td>\n",
       "      <td>...</td>\n",
>>>>>>> 2bc5832c1e434469df2bc6cc8a5ae0ae5a09d85c
       "      <td>1.000000</td>\n",
       "      <td>0.573887</td>\n",
       "      <td>NaN</td>\n",
       "      <td>NaN</td>\n",
       "      <td>NaN</td>\n",
<<<<<<< HEAD
=======
       "      <td>1.000000</td>\n",
       "      <td>0.300000</td>\n",
       "      <td>0.300000</td>\n",
       "      <td>3.000000</td>\n",
       "      <td>49.977641</td>\n",
>>>>>>> 2bc5832c1e434469df2bc6cc8a5ae0ae5a09d85c
       "    </tr>\n",
       "    <tr>\n",
       "      <th>75%</th>\n",
       "      <td>15567.75000</td>\n",
       "      <td>NaN</td>\n",
       "      <td>26.000000</td>\n",
       "      <td>1.762887</td>\n",
       "      <td>111.600553</td>\n",
<<<<<<< HEAD
       "      <td>NaN</td>\n",
       "      <td>NaN</td>\n",
       "      <td>3.000000</td>\n",
       "      <td>3.000000</td>\n",
       "      <td>NaN</td>\n",
       "      <td>NaN</td>\n",
       "      <td>2.549617</td>\n",
       "      <td>NaN</td>\n",
=======
       "      <td>1.000000</td>\n",
       "      <td>1.000000</td>\n",
       "      <td>3.000000</td>\n",
       "      <td>3.000000</td>\n",
       "      <td>NaN</td>\n",
       "      <td>...</td>\n",
>>>>>>> 2bc5832c1e434469df2bc6cc8a5ae0ae5a09d85c
       "      <td>1.587406</td>\n",
       "      <td>1.000000</td>\n",
       "      <td>NaN</td>\n",
       "      <td>NaN</td>\n",
       "      <td>NaN</td>\n",
<<<<<<< HEAD
=======
       "      <td>1.000000</td>\n",
       "      <td>0.300000</td>\n",
       "      <td>0.300000</td>\n",
       "      <td>4.000000</td>\n",
       "      <td>64.865535</td>\n",
>>>>>>> 2bc5832c1e434469df2bc6cc8a5ae0ae5a09d85c
       "    </tr>\n",
       "    <tr>\n",
       "      <th>max</th>\n",
       "      <td>20757.00000</td>\n",
       "      <td>NaN</td>\n",
       "      <td>61.000000</td>\n",
       "      <td>1.975663</td>\n",
       "      <td>165.057269</td>\n",
<<<<<<< HEAD
       "      <td>NaN</td>\n",
       "      <td>NaN</td>\n",
       "      <td>3.000000</td>\n",
       "      <td>4.000000</td>\n",
       "      <td>NaN</td>\n",
       "      <td>NaN</td>\n",
       "      <td>3.000000</td>\n",
       "      <td>NaN</td>\n",
=======
       "      <td>1.000000</td>\n",
       "      <td>1.000000</td>\n",
       "      <td>3.000000</td>\n",
       "      <td>4.000000</td>\n",
       "      <td>NaN</td>\n",
       "      <td>...</td>\n",
>>>>>>> 2bc5832c1e434469df2bc6cc8a5ae0ae5a09d85c
       "      <td>3.000000</td>\n",
       "      <td>2.000000</td>\n",
       "      <td>NaN</td>\n",
       "      <td>NaN</td>\n",
       "      <td>NaN</td>\n",
<<<<<<< HEAD
       "    </tr>\n",
       "  </tbody>\n",
       "</table>\n",
=======
       "      <td>1.000000</td>\n",
       "      <td>0.600000</td>\n",
       "      <td>1.000000</td>\n",
       "      <td>6.000000</td>\n",
       "      <td>95.277585</td>\n",
       "    </tr>\n",
       "  </tbody>\n",
       "</table>\n",
       "<p>11 rows × 23 columns</p>\n",
>>>>>>> 2bc5832c1e434469df2bc6cc8a5ae0ae5a09d85c
       "</div>"
      ],
      "text/plain": [
       "                 id  Gender           Age        Height        Weight  \\\n",
       "count   20758.00000   20758  20758.000000  20758.000000  20758.000000   \n",
       "unique          NaN       2           NaN           NaN           NaN   \n",
       "top             NaN  Female           NaN           NaN           NaN   \n",
       "freq            NaN   10422           NaN           NaN           NaN   \n",
       "mean    10378.50000     NaN     23.841804      1.700245     87.887768   \n",
       "std      5992.46278     NaN      5.688072      0.087312     26.379443   \n",
       "min         0.00000     NaN     14.000000      1.450000     39.000000   \n",
       "25%      5189.25000     NaN     20.000000      1.631856     66.000000   \n",
       "50%     10378.50000     NaN     22.815416      1.700000     84.064875   \n",
       "75%     15567.75000     NaN     26.000000      1.762887    111.600553   \n",
       "max     20757.00000     NaN     61.000000      1.975663    165.057269   \n",
       "\n",
<<<<<<< HEAD
       "       family_history_with_overweight   FAVC          FCVC           NCP  \\\n",
       "count                           20758  20758  20758.000000  20758.000000   \n",
       "unique                              2      2           NaN           NaN   \n",
       "top                               yes    yes           NaN           NaN   \n",
       "freq                            17014  18982           NaN           NaN   \n",
       "mean                              NaN    NaN      2.445908      2.761332   \n",
       "std                               NaN    NaN      0.533218      0.705375   \n",
       "min                               NaN    NaN      1.000000      1.000000   \n",
       "25%                               NaN    NaN      2.000000      3.000000   \n",
       "50%                               NaN    NaN      2.393837      3.000000   \n",
       "75%                               NaN    NaN      3.000000      3.000000   \n",
       "max                               NaN    NaN      3.000000      4.000000   \n",
       "\n",
       "             CAEC  SMOKE          CH2O    SCC           FAF           TUE  \\\n",
       "count       20758  20758  20758.000000  20758  20758.000000  20758.000000   \n",
       "unique          4      2           NaN      2           NaN           NaN   \n",
       "top     Sometimes     no           NaN     no           NaN           NaN   \n",
       "freq        17529  20513           NaN  20071           NaN           NaN   \n",
       "mean          NaN    NaN      2.029418    NaN      0.981747      0.616756   \n",
       "std           NaN    NaN      0.608467    NaN      0.838302      0.602113   \n",
       "min           NaN    NaN      1.000000    NaN      0.000000      0.000000   \n",
       "25%           NaN    NaN      1.792022    NaN      0.008013      0.000000   \n",
       "50%           NaN    NaN      2.000000    NaN      1.000000      0.573887   \n",
       "75%           NaN    NaN      2.549617    NaN      1.587406      1.000000   \n",
       "max           NaN    NaN      3.000000    NaN      3.000000      2.000000   \n",
       "\n",
       "             CALC                 MTRANS        NObeyesdad  \n",
       "count       20758                  20758             20758  \n",
       "unique          3                      5                 7  \n",
       "top     Sometimes  Public_Transportation  Obesity_Type_III  \n",
       "freq        15066                  16687              4046  \n",
       "mean          NaN                    NaN               NaN  \n",
       "std           NaN                    NaN               NaN  \n",
       "min           NaN                    NaN               NaN  \n",
       "25%           NaN                    NaN               NaN  \n",
       "50%           NaN                    NaN               NaN  \n",
       "75%           NaN                    NaN               NaN  \n",
       "max           NaN                    NaN               NaN  "
      ]
     },
     "execution_count": 856,
=======
       "        family_history_with_overweight          FAVC          FCVC  \\\n",
       "count                     20758.000000  20758.000000  20758.000000   \n",
       "unique                             NaN           NaN           NaN   \n",
       "top                                NaN           NaN           NaN   \n",
       "freq                               NaN           NaN           NaN   \n",
       "mean                          0.819636      0.914443      2.445908   \n",
       "std                           0.384500      0.279716      0.533218   \n",
       "min                           0.000000      0.000000      1.000000   \n",
       "25%                           1.000000      1.000000      2.000000   \n",
       "50%                           1.000000      1.000000      2.393837   \n",
       "75%                           1.000000      1.000000      3.000000   \n",
       "max                           1.000000      1.000000      3.000000   \n",
       "\n",
       "                 NCP       CAEC  ...           FAF           TUE       CALC  \\\n",
       "count   20758.000000      20758  ...  20758.000000  20758.000000      20758   \n",
       "unique           NaN          4  ...           NaN           NaN          3   \n",
       "top              NaN  Sometimes  ...           NaN           NaN  Sometimes   \n",
       "freq             NaN      17529  ...           NaN           NaN      15066   \n",
       "mean        2.761332        NaN  ...      0.981747      0.616756        NaN   \n",
       "std         0.705375        NaN  ...      0.838302      0.602113        NaN   \n",
       "min         1.000000        NaN  ...      0.000000      0.000000        NaN   \n",
       "25%         3.000000        NaN  ...      0.008013      0.000000        NaN   \n",
       "50%         3.000000        NaN  ...      1.000000      0.573887        NaN   \n",
       "75%         3.000000        NaN  ...      1.587406      1.000000        NaN   \n",
       "max         4.000000        NaN  ...      3.000000      2.000000        NaN   \n",
       "\n",
       "                       MTRANS        NObeyesdad Gender_Female CALC_numerical  \\\n",
       "count                   20758             20758  20758.000000   20758.000000   \n",
       "unique                      5                 7           NaN            NaN   \n",
       "top     Public_Transportation  Obesity_Type_III           NaN            NaN   \n",
       "freq                    16687              4046           NaN            NaN   \n",
       "mean                      NaN               NaN      0.502071       0.233028   \n",
       "std                       NaN               NaN      0.500008       0.142107   \n",
       "min                       NaN               NaN      0.000000       0.000000   \n",
       "25%                       NaN               NaN      0.000000       0.300000   \n",
       "50%                       NaN               NaN      1.000000       0.300000   \n",
       "75%                       NaN               NaN      1.000000       0.300000   \n",
       "max                       NaN               NaN      1.000000       0.600000   \n",
       "\n",
       "       CAEC_numerical        target            WH  \n",
       "count    20758.000000  20758.000000  20758.000000  \n",
       "unique            NaN           NaN           NaN  \n",
       "top               NaN           NaN           NaN  \n",
       "freq              NaN           NaN           NaN  \n",
       "mean         0.347813      2.991473     51.489937  \n",
       "std          0.144657      1.893176     14.613828  \n",
       "min          0.000000      0.000000     22.689706  \n",
       "25%          0.300000      1.000000     40.097824  \n",
       "50%          0.300000      3.000000     49.977641  \n",
       "75%          0.300000      4.000000     64.865535  \n",
       "max          1.000000      6.000000     95.277585  \n",
       "\n",
       "[11 rows x 23 columns]"
      ]
     },
     "execution_count": 299,
>>>>>>> 2bc5832c1e434469df2bc6cc8a5ae0ae5a09d85c
     "metadata": {},
     "output_type": "execute_result"
    }
   ],
   "source": [
    "df.describe(include='all')"
   ]
  },
  {
   "cell_type": "code",
<<<<<<< HEAD
   "execution_count": 857,
=======
   "execution_count": 221,
>>>>>>> 2bc5832c1e434469df2bc6cc8a5ae0ae5a09d85c
   "id": "40175625-337f-410a-8616-a4483438e35a",
   "metadata": {},
   "outputs": [
    {
     "data": {
      "text/plain": [
       "NObeyesdad\n",
       "Insufficient_Weight    2523\n",
       "Normal_Weight          3082\n",
       "Obesity_Type_I         2910\n",
       "Obesity_Type_II        3248\n",
       "Obesity_Type_III       4046\n",
       "Overweight_Level_I     2427\n",
       "Overweight_Level_II    2522\n",
       "Name: Gender, dtype: int64"
      ]
     },
<<<<<<< HEAD
     "execution_count": 857,
=======
     "execution_count": 221,
>>>>>>> 2bc5832c1e434469df2bc6cc8a5ae0ae5a09d85c
     "metadata": {},
     "output_type": "execute_result"
    }
   ],
   "source": [
    "df.groupby('NObeyesdad').count()['Gender']"
   ]
  },
  {
   "cell_type": "markdown",
   "id": "3b7ea9ed-0363-4bd3-9999-caa3aae899b6",
   "metadata": {},
   "source": [
    "overweight group"
   ]
  },
  {
   "cell_type": "code",
<<<<<<< HEAD
   "execution_count": 858,
=======
   "execution_count": 298,
>>>>>>> 2bc5832c1e434469df2bc6cc8a5ae0ae5a09d85c
   "id": "192134c8-91c7-4fdf-86f1-d6a7c2743315",
   "metadata": {},
   "outputs": [
    {
     "data": {
      "text/plain": [
       "Gender\n",
       "Female    1825\n",
       "Male      3124\n",
       "Name: id, dtype: int64"
      ]
     },
<<<<<<< HEAD
     "execution_count": 858,
=======
     "execution_count": 298,
>>>>>>> 2bc5832c1e434469df2bc6cc8a5ae0ae5a09d85c
     "metadata": {},
     "output_type": "execute_result"
    }
   ],
   "source": [
    "df[df['NObeyesdad'].str.contains('Overweight')].groupby('Gender').count()['id']"
   ]
  },
  {
   "cell_type": "code",
<<<<<<< HEAD
   "execution_count": 859,
=======
   "execution_count": 315,
>>>>>>> 2bc5832c1e434469df2bc6cc8a5ae0ae5a09d85c
   "id": "f680e42d-b9a9-4d30-8ab7-5dcf99854178",
   "metadata": {},
   "outputs": [
    {
     "data": {
      "text/html": [
       "<div>\n",
       "<style scoped>\n",
       "    .dataframe tbody tr th:only-of-type {\n",
       "        vertical-align: middle;\n",
       "    }\n",
       "\n",
       "    .dataframe tbody tr th {\n",
       "        vertical-align: top;\n",
       "    }\n",
       "\n",
       "    .dataframe thead th {\n",
       "        text-align: right;\n",
       "    }\n",
       "</style>\n",
       "<table border=\"1\" class=\"dataframe\">\n",
       "  <thead>\n",
       "    <tr style=\"text-align: right;\">\n",
       "      <th></th>\n",
       "      <th>id</th>\n",
       "      <th>Gender</th>\n",
       "      <th>Age</th>\n",
       "      <th>Height</th>\n",
       "      <th>Weight</th>\n",
       "      <th>family_history_with_overweight</th>\n",
       "      <th>FAVC</th>\n",
       "      <th>FCVC</th>\n",
       "      <th>NCP</th>\n",
       "      <th>CAEC</th>\n",
<<<<<<< HEAD
       "      <th>SMOKE</th>\n",
       "      <th>CH2O</th>\n",
       "      <th>SCC</th>\n",
=======
       "      <th>...</th>\n",
>>>>>>> 2bc5832c1e434469df2bc6cc8a5ae0ae5a09d85c
       "      <th>FAF</th>\n",
       "      <th>TUE</th>\n",
       "      <th>CALC</th>\n",
       "      <th>MTRANS</th>\n",
       "      <th>NObeyesdad</th>\n",
<<<<<<< HEAD
=======
       "      <th>Gender_Female</th>\n",
       "      <th>CALC_numerical</th>\n",
       "      <th>CAEC_numerical</th>\n",
       "      <th>target</th>\n",
       "      <th>WH</th>\n",
>>>>>>> 2bc5832c1e434469df2bc6cc8a5ae0ae5a09d85c
       "    </tr>\n",
       "  </thead>\n",
       "  <tbody>\n",
       "    <tr>\n",
       "      <th>0</th>\n",
       "      <td>0</td>\n",
       "      <td>Male</td>\n",
       "      <td>24.443011</td>\n",
       "      <td>1.699998</td>\n",
       "      <td>81.669950</td>\n",
<<<<<<< HEAD
       "      <td>yes</td>\n",
       "      <td>yes</td>\n",
       "      <td>2.000000</td>\n",
       "      <td>2.983297</td>\n",
       "      <td>Sometimes</td>\n",
       "      <td>no</td>\n",
       "      <td>2.763573</td>\n",
       "      <td>no</td>\n",
=======
       "      <td>1</td>\n",
       "      <td>1</td>\n",
       "      <td>2.000000</td>\n",
       "      <td>2.983297</td>\n",
       "      <td>Sometimes</td>\n",
       "      <td>...</td>\n",
>>>>>>> 2bc5832c1e434469df2bc6cc8a5ae0ae5a09d85c
       "      <td>0.000000</td>\n",
       "      <td>0.976473</td>\n",
       "      <td>Sometimes</td>\n",
       "      <td>Public_Transportation</td>\n",
       "      <td>Overweight_Level_II</td>\n",
<<<<<<< HEAD
=======
       "      <td>0</td>\n",
       "      <td>0.3</td>\n",
       "      <td>0.3</td>\n",
       "      <td>6</td>\n",
       "      <td>48.041204</td>\n",
>>>>>>> 2bc5832c1e434469df2bc6cc8a5ae0ae5a09d85c
       "    </tr>\n",
       "    <tr>\n",
       "      <th>1</th>\n",
       "      <td>1</td>\n",
       "      <td>Female</td>\n",
       "      <td>18.000000</td>\n",
       "      <td>1.560000</td>\n",
       "      <td>57.000000</td>\n",
<<<<<<< HEAD
       "      <td>yes</td>\n",
       "      <td>yes</td>\n",
       "      <td>2.000000</td>\n",
       "      <td>3.000000</td>\n",
       "      <td>Frequently</td>\n",
       "      <td>no</td>\n",
       "      <td>2.000000</td>\n",
       "      <td>no</td>\n",
=======
       "      <td>1</td>\n",
       "      <td>1</td>\n",
       "      <td>2.000000</td>\n",
       "      <td>3.000000</td>\n",
       "      <td>Frequently</td>\n",
       "      <td>...</td>\n",
>>>>>>> 2bc5832c1e434469df2bc6cc8a5ae0ae5a09d85c
       "      <td>1.000000</td>\n",
       "      <td>1.000000</td>\n",
       "      <td>no</td>\n",
       "      <td>Automobile</td>\n",
       "      <td>Normal_Weight</td>\n",
<<<<<<< HEAD
=======
       "      <td>1</td>\n",
       "      <td>0.0</td>\n",
       "      <td>0.6</td>\n",
       "      <td>1</td>\n",
       "      <td>36.538462</td>\n",
>>>>>>> 2bc5832c1e434469df2bc6cc8a5ae0ae5a09d85c
       "    </tr>\n",
       "    <tr>\n",
       "      <th>2</th>\n",
       "      <td>2</td>\n",
       "      <td>Female</td>\n",
       "      <td>18.000000</td>\n",
       "      <td>1.711460</td>\n",
       "      <td>50.165754</td>\n",
<<<<<<< HEAD
       "      <td>yes</td>\n",
       "      <td>yes</td>\n",
       "      <td>1.880534</td>\n",
       "      <td>1.411685</td>\n",
       "      <td>Sometimes</td>\n",
       "      <td>no</td>\n",
       "      <td>1.910378</td>\n",
       "      <td>no</td>\n",
=======
       "      <td>1</td>\n",
       "      <td>1</td>\n",
       "      <td>1.880534</td>\n",
       "      <td>1.411685</td>\n",
       "      <td>Sometimes</td>\n",
       "      <td>...</td>\n",
>>>>>>> 2bc5832c1e434469df2bc6cc8a5ae0ae5a09d85c
       "      <td>0.866045</td>\n",
       "      <td>1.673584</td>\n",
       "      <td>no</td>\n",
       "      <td>Public_Transportation</td>\n",
       "      <td>Insufficient_Weight</td>\n",
<<<<<<< HEAD
=======
       "      <td>1</td>\n",
       "      <td>0.0</td>\n",
       "      <td>0.3</td>\n",
       "      <td>0</td>\n",
       "      <td>29.311672</td>\n",
>>>>>>> 2bc5832c1e434469df2bc6cc8a5ae0ae5a09d85c
       "    </tr>\n",
       "    <tr>\n",
       "      <th>3</th>\n",
       "      <td>3</td>\n",
       "      <td>Female</td>\n",
       "      <td>20.952737</td>\n",
       "      <td>1.710730</td>\n",
       "      <td>131.274851</td>\n",
<<<<<<< HEAD
       "      <td>yes</td>\n",
       "      <td>yes</td>\n",
       "      <td>3.000000</td>\n",
       "      <td>3.000000</td>\n",
       "      <td>Sometimes</td>\n",
       "      <td>no</td>\n",
       "      <td>1.674061</td>\n",
       "      <td>no</td>\n",
=======
       "      <td>1</td>\n",
       "      <td>1</td>\n",
       "      <td>3.000000</td>\n",
       "      <td>3.000000</td>\n",
       "      <td>Sometimes</td>\n",
       "      <td>...</td>\n",
>>>>>>> 2bc5832c1e434469df2bc6cc8a5ae0ae5a09d85c
       "      <td>1.467863</td>\n",
       "      <td>0.780199</td>\n",
       "      <td>Sometimes</td>\n",
       "      <td>Public_Transportation</td>\n",
       "      <td>Obesity_Type_III</td>\n",
<<<<<<< HEAD
=======
       "      <td>1</td>\n",
       "      <td>0.3</td>\n",
       "      <td>0.3</td>\n",
       "      <td>4</td>\n",
       "      <td>76.736160</td>\n",
>>>>>>> 2bc5832c1e434469df2bc6cc8a5ae0ae5a09d85c
       "    </tr>\n",
       "    <tr>\n",
       "      <th>4</th>\n",
       "      <td>4</td>\n",
       "      <td>Male</td>\n",
       "      <td>31.641081</td>\n",
       "      <td>1.914186</td>\n",
       "      <td>93.798055</td>\n",
<<<<<<< HEAD
       "      <td>yes</td>\n",
       "      <td>yes</td>\n",
       "      <td>2.679664</td>\n",
       "      <td>1.971472</td>\n",
       "      <td>Sometimes</td>\n",
       "      <td>no</td>\n",
       "      <td>1.979848</td>\n",
       "      <td>no</td>\n",
=======
       "      <td>1</td>\n",
       "      <td>1</td>\n",
       "      <td>2.679664</td>\n",
       "      <td>1.971472</td>\n",
       "      <td>Sometimes</td>\n",
       "      <td>...</td>\n",
>>>>>>> 2bc5832c1e434469df2bc6cc8a5ae0ae5a09d85c
       "      <td>1.967973</td>\n",
       "      <td>0.931721</td>\n",
       "      <td>Sometimes</td>\n",
       "      <td>Public_Transportation</td>\n",
       "      <td>Overweight_Level_II</td>\n",
<<<<<<< HEAD
       "    </tr>\n",
       "  </tbody>\n",
       "</table>\n",
       "</div>"
      ],
      "text/plain": [
       "   id  Gender        Age    Height      Weight family_history_with_overweight  \\\n",
       "0   0    Male  24.443011  1.699998   81.669950                            yes   \n",
       "1   1  Female  18.000000  1.560000   57.000000                            yes   \n",
       "2   2  Female  18.000000  1.711460   50.165754                            yes   \n",
       "3   3  Female  20.952737  1.710730  131.274851                            yes   \n",
       "4   4    Male  31.641081  1.914186   93.798055                            yes   \n",
       "\n",
       "  FAVC      FCVC       NCP        CAEC SMOKE      CH2O SCC       FAF  \\\n",
       "0  yes  2.000000  2.983297   Sometimes    no  2.763573  no  0.000000   \n",
       "1  yes  2.000000  3.000000  Frequently    no  2.000000  no  1.000000   \n",
       "2  yes  1.880534  1.411685   Sometimes    no  1.910378  no  0.866045   \n",
       "3  yes  3.000000  3.000000   Sometimes    no  1.674061  no  1.467863   \n",
       "4  yes  2.679664  1.971472   Sometimes    no  1.979848  no  1.967973   \n",
       "\n",
       "        TUE       CALC                 MTRANS           NObeyesdad  \n",
       "0  0.976473  Sometimes  Public_Transportation  Overweight_Level_II  \n",
       "1  1.000000         no             Automobile        Normal_Weight  \n",
       "2  1.673584         no  Public_Transportation  Insufficient_Weight  \n",
       "3  0.780199  Sometimes  Public_Transportation     Obesity_Type_III  \n",
       "4  0.931721  Sometimes  Public_Transportation  Overweight_Level_II  "
      ]
     },
     "execution_count": 859,
=======
       "      <td>0</td>\n",
       "      <td>0.3</td>\n",
       "      <td>0.3</td>\n",
       "      <td>6</td>\n",
       "      <td>49.001536</td>\n",
       "    </tr>\n",
       "  </tbody>\n",
       "</table>\n",
       "<p>5 rows × 23 columns</p>\n",
       "</div>"
      ],
      "text/plain": [
       "   id  Gender        Age    Height      Weight  \\\n",
       "0   0    Male  24.443011  1.699998   81.669950   \n",
       "1   1  Female  18.000000  1.560000   57.000000   \n",
       "2   2  Female  18.000000  1.711460   50.165754   \n",
       "3   3  Female  20.952737  1.710730  131.274851   \n",
       "4   4    Male  31.641081  1.914186   93.798055   \n",
       "\n",
       "   family_history_with_overweight  FAVC      FCVC       NCP        CAEC  ...  \\\n",
       "0                               1     1  2.000000  2.983297   Sometimes  ...   \n",
       "1                               1     1  2.000000  3.000000  Frequently  ...   \n",
       "2                               1     1  1.880534  1.411685   Sometimes  ...   \n",
       "3                               1     1  3.000000  3.000000   Sometimes  ...   \n",
       "4                               1     1  2.679664  1.971472   Sometimes  ...   \n",
       "\n",
       "        FAF       TUE       CALC                 MTRANS           NObeyesdad  \\\n",
       "0  0.000000  0.976473  Sometimes  Public_Transportation  Overweight_Level_II   \n",
       "1  1.000000  1.000000         no             Automobile        Normal_Weight   \n",
       "2  0.866045  1.673584         no  Public_Transportation  Insufficient_Weight   \n",
       "3  1.467863  0.780199  Sometimes  Public_Transportation     Obesity_Type_III   \n",
       "4  1.967973  0.931721  Sometimes  Public_Transportation  Overweight_Level_II   \n",
       "\n",
       "  Gender_Female CALC_numerical CAEC_numerical  target         WH  \n",
       "0             0            0.3            0.3       6  48.041204  \n",
       "1             1            0.0            0.6       1  36.538462  \n",
       "2             1            0.0            0.3       0  29.311672  \n",
       "3             1            0.3            0.3       4  76.736160  \n",
       "4             0            0.3            0.3       6  49.001536  \n",
       "\n",
       "[5 rows x 23 columns]"
      ]
     },
     "execution_count": 315,
>>>>>>> 2bc5832c1e434469df2bc6cc8a5ae0ae5a09d85c
     "metadata": {},
     "output_type": "execute_result"
    }
   ],
   "source": [
    "df.head()"
   ]
  },
  {
<<<<<<< HEAD
   "cell_type": "markdown",
   "id": "2b8528ab-2e32-42ef-94b1-6f11da4e8af6",
   "metadata": {},
   "source": [
    "### Data Cleaning"
   ]
  },
  {
   "cell_type": "code",
   "execution_count": 860,
   "id": "19056d31-c33d-4930-9dd0-01a4f75b2bc6",
   "metadata": {},
   "outputs": [],
   "source": [
    "def data_cleaning(df):\n",
    "    df['Gender_Female']=df['Gender'].map({'Female': 1, 'Male': 0})\n",
    "    df['family_history_with_overweight']=df['family_history_with_overweight'].map({'yes': 1, 'no': 0})\n",
    "    df['FAVC']=df['FAVC'].map({'yes': 1, 'no': 0})\n",
    "    df['SMOKE']=df['SMOKE'].map({'yes': 1, 'no': 0})\n",
    "    df['SCC']=df['SCC'].map({'yes': 1, 'no': 0})\n",
    "    df['CALC_numerical']=df['CALC'].map({'no': 0, 'Sometimes': 0.3, 'Frequently': 0.6, 'Always': 1})\n",
    "    df['CAEC_numerical'] = df['CAEC'].map({'no': 0, 'Sometimes': 0.3, 'Frequently': 0.6, 'Always': 1})\n",
    "    df['WH']=df['Weight']/df['Height']\n",
    "    # df = df.loc[:, ~df.columns.isin(['target', 'NObeyesdad'])] \n",
    "    return df"
   ]
  },
  {
   "cell_type": "code",
   "execution_count": 861,
   "id": "5501fd94-4fe4-4d9c-af65-b0fbad4da4c3",
   "metadata": {},
   "outputs": [],
   "source": [
    "# df['Gender_Female']=df['Gender'].map({'Female': 1, 'Male': 0})\n",
    "# df['family_history_with_overweight']=df['family_history_with_overweight'].map({'yes': 1, 'no': 0})\n",
    "# df['FAVC']=df['FAVC'].map({'yes': 1, 'no': 0})\n",
    "# df['SMOKE']=df['SMOKE'].map({'yes': 1, 'no': 0})\n",
    "# df['SCC']=df['SCC'].map({'yes': 1, 'no': 0})\n",
    "# df['CALC_numerical']=df['CALC'].map({'no': 0, 'Sometimes': 0.3, 'Frequently': 0.6, 'Always': 1})\n",
    "# df['CAEC_numerical'] = df['CAEC'].map({'no': 0, 'Sometimes': 0.3, 'Frequently': 0.6, 'Always': 1})"
   ]
  },
  {
   "cell_type": "code",
   "execution_count": 862,
   "id": "1cf826ce-4a85-41d0-a319-5d6b3548d982",
   "metadata": {},
   "outputs": [
    {
     "data": {
      "text/plain": [
       "NObeyesdad\n",
       "Insufficient_Weight    2523\n",
       "Normal_Weight          3082\n",
       "Obesity_Type_I         2910\n",
       "Obesity_Type_II        3248\n",
       "Obesity_Type_III       4046\n",
       "Overweight_Level_I     2427\n",
       "Overweight_Level_II    2522\n",
       "Name: Gender, dtype: int64"
      ]
     },
     "execution_count": 862,
     "metadata": {},
     "output_type": "execute_result"
    }
   ],
   "source": [
    "df.groupby('NObeyesdad').count()['Gender']"
   ]
  },
  {
   "cell_type": "markdown",
   "id": "ebf5f9be-ee03-4946-be84-14e0957d3c27",
   "metadata": {},
   "source": [
    "Column Selector"
   ]
  },
  {
   "cell_type": "code",
   "execution_count": 863,
   "id": "0966aa2c-c587-4aa8-bac5-916490dae542",
   "metadata": {},
   "outputs": [],
   "source": [
    "from sklearn.compose import make_column_selector as selector"
   ]
  },
  {
   "cell_type": "code",
   "execution_count": 864,
   "id": "548487eb-1e54-4c6d-9a60-5d13f777099c",
   "metadata": {},
   "outputs": [],
   "source": [
    "import xgboost as xgb\n",
    "from sklearn.preprocessing import LabelEncoder, OneHotEncoder\n",
    "from sklearn.datasets import make_classification\n",
    "from sklearn.model_selection import train_test_split, StratifiedShuffleSplit, GridSearchCV\n",
    "from sklearn.pipeline import Pipeline, make_pipeline\n",
    "from sklearn.compose import ColumnTransformer\n",
    "from sklearn.metrics import accuracy_score "
   ]
  },
  {
   "cell_type": "code",
   "execution_count": 865,
   "id": "0c7dda67-a6b4-4f60-9c98-ac691fd7773f",
   "metadata": {},
   "outputs": [],
   "source": [
    "sss = StratifiedShuffleSplit(n_splits=3, test_size=0.15, random_state=30)"
=======
   "cell_type": "code",
   "execution_count": 316,
   "id": "c9aff103-67ec-463f-9170-708b49a963fc",
   "metadata": {},
   "outputs": [
    {
     "name": "stderr",
     "output_type": "stream",
     "text": [
      "/var/folders/6n/mn293n895jxcn389nx9f2c3m0000gn/T/ipykernel_60284/3965515963.py:1: FutureWarning: The default value of numeric_only in DataFrameGroupBy.mean is deprecated. In a future version, numeric_only will default to False. Either specify numeric_only or select only columns which should be valid for the function.\n",
      "  df.groupby('NObeyesdad').mean()[['family_history_with_overweight', 'FAVC', 'FAF', 'FCVC', 'NCP', 'SMOKE', 'CH2O','CALC_numerical', 'CAEC_numerical']]\n"
     ]
    },
    {
     "data": {
      "text/html": [
       "<div>\n",
       "<style scoped>\n",
       "    .dataframe tbody tr th:only-of-type {\n",
       "        vertical-align: middle;\n",
       "    }\n",
       "\n",
       "    .dataframe tbody tr th {\n",
       "        vertical-align: top;\n",
       "    }\n",
       "\n",
       "    .dataframe thead th {\n",
       "        text-align: right;\n",
       "    }\n",
       "</style>\n",
       "<table border=\"1\" class=\"dataframe\">\n",
       "  <thead>\n",
       "    <tr style=\"text-align: right;\">\n",
       "      <th></th>\n",
       "      <th>family_history_with_overweight</th>\n",
       "      <th>FAVC</th>\n",
       "      <th>FAF</th>\n",
       "      <th>FCVC</th>\n",
       "      <th>NCP</th>\n",
       "      <th>SMOKE</th>\n",
       "      <th>CH2O</th>\n",
       "      <th>CALC_numerical</th>\n",
       "      <th>CAEC_numerical</th>\n",
       "    </tr>\n",
       "    <tr>\n",
       "      <th>NObeyesdad</th>\n",
       "      <th></th>\n",
       "      <th></th>\n",
       "      <th></th>\n",
       "      <th></th>\n",
       "      <th></th>\n",
       "      <th></th>\n",
       "      <th></th>\n",
       "      <th></th>\n",
       "      <th></th>\n",
       "    </tr>\n",
       "  </thead>\n",
       "  <tbody>\n",
       "    <tr>\n",
       "      <th>Insufficient_Weight</th>\n",
       "      <td>0.425684</td>\n",
       "      <td>0.853349</td>\n",
       "      <td>1.201782</td>\n",
       "      <td>2.479756</td>\n",
       "      <td>2.919554</td>\n",
       "      <td>0.002774</td>\n",
       "      <td>1.744163</td>\n",
       "      <td>0.195957</td>\n",
       "      <td>0.452874</td>\n",
       "    </tr>\n",
       "    <tr>\n",
       "      <th>Normal_Weight</th>\n",
       "      <td>0.580792</td>\n",
       "      <td>0.839390</td>\n",
       "      <td>1.189580</td>\n",
       "      <td>2.372249</td>\n",
       "      <td>2.889552</td>\n",
       "      <td>0.014925</td>\n",
       "      <td>1.806204</td>\n",
       "      <td>0.202077</td>\n",
       "      <td>0.427677</td>\n",
       "    </tr>\n",
       "    <tr>\n",
       "      <th>Obesity_Type_I</th>\n",
       "      <td>0.983505</td>\n",
       "      <td>0.968041</td>\n",
       "      <td>0.922710</td>\n",
       "      <td>2.097052</td>\n",
       "      <td>2.454551</td>\n",
       "      <td>0.008247</td>\n",
       "      <td>2.129783</td>\n",
       "      <td>0.164536</td>\n",
       "      <td>0.320344</td>\n",
       "    </tr>\n",
       "    <tr>\n",
       "      <th>Obesity_Type_II</th>\n",
       "      <td>0.998461</td>\n",
       "      <td>0.983374</td>\n",
       "      <td>1.029579</td>\n",
       "      <td>2.425227</td>\n",
       "      <td>2.798439</td>\n",
       "      <td>0.035099</td>\n",
       "      <td>1.985064</td>\n",
       "      <td>0.258898</td>\n",
       "      <td>0.303079</td>\n",
       "    </tr>\n",
       "    <tr>\n",
       "      <th>Obesity_Type_III</th>\n",
       "      <td>0.999753</td>\n",
       "      <td>0.999753</td>\n",
       "      <td>0.549225</td>\n",
       "      <td>3.000000</td>\n",
       "      <td>2.999950</td>\n",
       "      <td>0.000989</td>\n",
       "      <td>2.332338</td>\n",
       "      <td>0.300000</td>\n",
       "      <td>0.300395</td>\n",
       "    </tr>\n",
       "    <tr>\n",
       "      <th>Overweight_Level_I</th>\n",
       "      <td>0.688504</td>\n",
       "      <td>0.907705</td>\n",
       "      <td>1.134657</td>\n",
       "      <td>2.256583</td>\n",
       "      <td>2.528178</td>\n",
       "      <td>0.010301</td>\n",
       "      <td>2.069366</td>\n",
       "      <td>0.274413</td>\n",
       "      <td>0.323980</td>\n",
       "    </tr>\n",
       "    <tr>\n",
       "      <th>Overweight_Level_II</th>\n",
       "      <td>0.923473</td>\n",
       "      <td>0.786281</td>\n",
       "      <td>1.060895</td>\n",
       "      <td>2.224499</td>\n",
       "      <td>2.594109</td>\n",
       "      <td>0.009913</td>\n",
       "      <td>2.004470</td>\n",
       "      <td>0.206384</td>\n",
       "      <td>0.333426</td>\n",
       "    </tr>\n",
       "  </tbody>\n",
       "</table>\n",
       "</div>"
      ],
      "text/plain": [
       "                     family_history_with_overweight      FAVC       FAF  \\\n",
       "NObeyesdad                                                                \n",
       "Insufficient_Weight                        0.425684  0.853349  1.201782   \n",
       "Normal_Weight                              0.580792  0.839390  1.189580   \n",
       "Obesity_Type_I                             0.983505  0.968041  0.922710   \n",
       "Obesity_Type_II                            0.998461  0.983374  1.029579   \n",
       "Obesity_Type_III                           0.999753  0.999753  0.549225   \n",
       "Overweight_Level_I                         0.688504  0.907705  1.134657   \n",
       "Overweight_Level_II                        0.923473  0.786281  1.060895   \n",
       "\n",
       "                         FCVC       NCP     SMOKE      CH2O  CALC_numerical  \\\n",
       "NObeyesdad                                                                    \n",
       "Insufficient_Weight  2.479756  2.919554  0.002774  1.744163        0.195957   \n",
       "Normal_Weight        2.372249  2.889552  0.014925  1.806204        0.202077   \n",
       "Obesity_Type_I       2.097052  2.454551  0.008247  2.129783        0.164536   \n",
       "Obesity_Type_II      2.425227  2.798439  0.035099  1.985064        0.258898   \n",
       "Obesity_Type_III     3.000000  2.999950  0.000989  2.332338        0.300000   \n",
       "Overweight_Level_I   2.256583  2.528178  0.010301  2.069366        0.274413   \n",
       "Overweight_Level_II  2.224499  2.594109  0.009913  2.004470        0.206384   \n",
       "\n",
       "                     CAEC_numerical  \n",
       "NObeyesdad                           \n",
       "Insufficient_Weight        0.452874  \n",
       "Normal_Weight              0.427677  \n",
       "Obesity_Type_I             0.320344  \n",
       "Obesity_Type_II            0.303079  \n",
       "Obesity_Type_III           0.300395  \n",
       "Overweight_Level_I         0.323980  \n",
       "Overweight_Level_II        0.333426  "
      ]
     },
     "execution_count": 316,
     "metadata": {},
     "output_type": "execute_result"
    }
   ],
   "source": [
    "df.groupby('NObeyesdad').mean()[['family_history_with_overweight', 'FAVC', 'FAF', 'FCVC', 'NCP', 'SMOKE', 'CH2O','CALC_numerical', 'CAEC_numerical']]"
   ]
  },
  {
   "cell_type": "markdown",
   "id": "2b8528ab-2e32-42ef-94b1-6f11da4e8af6",
   "metadata": {},
   "source": [
    "### Data Cleaning"
>>>>>>> 2bc5832c1e434469df2bc6cc8a5ae0ae5a09d85c
   ]
  },
  {
   "cell_type": "code",
<<<<<<< HEAD
   "execution_count": 866,
   "id": "34b606bb-7868-4687-9020-3942cb3829fc",
=======
   "execution_count": 222,
   "id": "731c5dcb-972e-4b6a-877d-c51d32ff7939",
>>>>>>> 2bc5832c1e434469df2bc6cc8a5ae0ae5a09d85c
   "metadata": {},
   "outputs": [
    {
     "data": {
<<<<<<< HEAD
      "text/html": [
       "<style>#sk-container-id-55 {color: black;background-color: white;}#sk-container-id-55 pre{padding: 0;}#sk-container-id-55 div.sk-toggleable {background-color: white;}#sk-container-id-55 label.sk-toggleable__label {cursor: pointer;display: block;width: 100%;margin-bottom: 0;padding: 0.3em;box-sizing: border-box;text-align: center;}#sk-container-id-55 label.sk-toggleable__label-arrow:before {content: \"▸\";float: left;margin-right: 0.25em;color: #696969;}#sk-container-id-55 label.sk-toggleable__label-arrow:hover:before {color: black;}#sk-container-id-55 div.sk-estimator:hover label.sk-toggleable__label-arrow:before {color: black;}#sk-container-id-55 div.sk-toggleable__content {max-height: 0;max-width: 0;overflow: hidden;text-align: left;background-color: #f0f8ff;}#sk-container-id-55 div.sk-toggleable__content pre {margin: 0.2em;color: black;border-radius: 0.25em;background-color: #f0f8ff;}#sk-container-id-55 input.sk-toggleable__control:checked~div.sk-toggleable__content {max-height: 200px;max-width: 100%;overflow: auto;}#sk-container-id-55 input.sk-toggleable__control:checked~label.sk-toggleable__label-arrow:before {content: \"▾\";}#sk-container-id-55 div.sk-estimator input.sk-toggleable__control:checked~label.sk-toggleable__label {background-color: #d4ebff;}#sk-container-id-55 div.sk-label input.sk-toggleable__control:checked~label.sk-toggleable__label {background-color: #d4ebff;}#sk-container-id-55 input.sk-hidden--visually {border: 0;clip: rect(1px 1px 1px 1px);clip: rect(1px, 1px, 1px, 1px);height: 1px;margin: -1px;overflow: hidden;padding: 0;position: absolute;width: 1px;}#sk-container-id-55 div.sk-estimator {font-family: monospace;background-color: #f0f8ff;border: 1px dotted black;border-radius: 0.25em;box-sizing: border-box;margin-bottom: 0.5em;}#sk-container-id-55 div.sk-estimator:hover {background-color: #d4ebff;}#sk-container-id-55 div.sk-parallel-item::after {content: \"\";width: 100%;border-bottom: 1px solid gray;flex-grow: 1;}#sk-container-id-55 div.sk-label:hover label.sk-toggleable__label {background-color: #d4ebff;}#sk-container-id-55 div.sk-serial::before {content: \"\";position: absolute;border-left: 1px solid gray;box-sizing: border-box;top: 0;bottom: 0;left: 50%;z-index: 0;}#sk-container-id-55 div.sk-serial {display: flex;flex-direction: column;align-items: center;background-color: white;padding-right: 0.2em;padding-left: 0.2em;position: relative;}#sk-container-id-55 div.sk-item {position: relative;z-index: 1;}#sk-container-id-55 div.sk-parallel {display: flex;align-items: stretch;justify-content: center;background-color: white;position: relative;}#sk-container-id-55 div.sk-item::before, #sk-container-id-55 div.sk-parallel-item::before {content: \"\";position: absolute;border-left: 1px solid gray;box-sizing: border-box;top: 0;bottom: 0;left: 50%;z-index: -1;}#sk-container-id-55 div.sk-parallel-item {display: flex;flex-direction: column;z-index: 1;position: relative;background-color: white;}#sk-container-id-55 div.sk-parallel-item:first-child::after {align-self: flex-end;width: 50%;}#sk-container-id-55 div.sk-parallel-item:last-child::after {align-self: flex-start;width: 50%;}#sk-container-id-55 div.sk-parallel-item:only-child::after {width: 0;}#sk-container-id-55 div.sk-dashed-wrapped {border: 1px dashed gray;margin: 0 0.4em 0.5em 0.4em;box-sizing: border-box;padding-bottom: 0.4em;background-color: white;}#sk-container-id-55 div.sk-label label {font-family: monospace;font-weight: bold;display: inline-block;line-height: 1.2em;}#sk-container-id-55 div.sk-label-container {text-align: center;}#sk-container-id-55 div.sk-container {/* jupyter's `normalize.less` sets `[hidden] { display: none; }` but bootstrap.min.css set `[hidden] { display: none !important; }` so we also need the `!important` here to be able to override the default hidden behavior on the sphinx rendered scikit-learn.org. See: https://github.com/scikit-learn/scikit-learn/issues/21755 */display: inline-block !important;position: relative;}#sk-container-id-55 div.sk-text-repr-fallback {display: none;}</style><div id=\"sk-container-id-55\" class=\"sk-top-container\"><div class=\"sk-text-repr-fallback\"><pre>LabelEncoder()</pre><b>In a Jupyter environment, please rerun this cell to show the HTML representation or trust the notebook. <br />On GitHub, the HTML representation is unable to render, please try loading this page with nbviewer.org.</b></div><div class=\"sk-container\" hidden><div class=\"sk-item\"><div class=\"sk-estimator sk-toggleable\"><input class=\"sk-toggleable__control sk-hidden--visually\" id=\"sk-estimator-id-334\" type=\"checkbox\" checked><label for=\"sk-estimator-id-334\" class=\"sk-toggleable__label sk-toggleable__label-arrow\">LabelEncoder</label><div class=\"sk-toggleable__content\"><pre>LabelEncoder()</pre></div></div></div></div></div>"
      ],
      "text/plain": [
       "LabelEncoder()"
      ]
     },
     "execution_count": 866,
=======
      "text/plain": [
       "id                                  int64\n",
       "Gender                             object\n",
       "Age                               float64\n",
       "Height                            float64\n",
       "Weight                            float64\n",
       "family_history_with_overweight     object\n",
       "FAVC                               object\n",
       "FCVC                              float64\n",
       "NCP                               float64\n",
       "CAEC                               object\n",
       "SMOKE                              object\n",
       "CH2O                              float64\n",
       "SCC                                object\n",
       "FAF                               float64\n",
       "TUE                               float64\n",
       "CALC                               object\n",
       "MTRANS                             object\n",
       "NObeyesdad                         object\n",
       "dtype: object"
      ]
     },
     "execution_count": 222,
>>>>>>> 2bc5832c1e434469df2bc6cc8a5ae0ae5a09d85c
     "metadata": {},
     "output_type": "execute_result"
    }
   ],
   "source": [
<<<<<<< HEAD
    "le = LabelEncoder()\n",
    "le.fit(df['NObeyesdad'])"
=======
    "df.dtypes"
>>>>>>> 2bc5832c1e434469df2bc6cc8a5ae0ae5a09d85c
   ]
  },
  {
   "cell_type": "code",
<<<<<<< HEAD
   "execution_count": 867,
   "id": "8fde7371-f1ae-46c9-b675-e65b110842e8",
   "metadata": {},
   "outputs": [],
   "source": [
    "le.classes_\n",
    "df['target']=le.transform(df['NObeyesdad'])"
=======
   "execution_count": 223,
   "id": "5501fd94-4fe4-4d9c-af65-b0fbad4da4c3",
   "metadata": {},
   "outputs": [],
   "source": [
    "df['Gender_Female']=df['Gender'].map({'Female': 1, 'Male': 0})\n",
    "df['family_history_with_overweight']=df['family_history_with_overweight'].map({'yes': 1, 'no': 0})\n",
    "df['FAVC']=df['FAVC'].map({'yes': 1, 'no': 0})\n",
    "df['SMOKE']=df['SMOKE'].map({'yes': 1, 'no': 0})\n",
    "df['SCC']=df['SCC'].map({'yes': 1, 'no': 0})\n",
    "df['CALC_numerical']=df['CALC'].map({'no': 0, 'Sometimes': 0.3, 'Frequently': 0.6, 'Always': 1})\n",
    "df['CAEC_numerical'] = df['CAEC'].map({'no': 0, 'Sometimes': 0.3, 'Frequently': 0.6, 'Always': 1})"
>>>>>>> 2bc5832c1e434469df2bc6cc8a5ae0ae5a09d85c
   ]
  },
  {
   "cell_type": "code",
<<<<<<< HEAD
   "execution_count": 868,
   "id": "88d63e85-0d3d-417b-af85-a322995bb2d4",
   "metadata": {},
   "outputs": [],
   "source": [
    "df=data_cleaning(df)"
=======
   "execution_count": 225,
   "id": "1cf826ce-4a85-41d0-a319-5d6b3548d982",
   "metadata": {},
   "outputs": [
    {
     "data": {
      "text/plain": [
       "NObeyesdad\n",
       "Insufficient_Weight    2523\n",
       "Normal_Weight          3082\n",
       "Obesity_Type_I         2910\n",
       "Obesity_Type_II        3248\n",
       "Obesity_Type_III       4046\n",
       "Overweight_Level_I     2427\n",
       "Overweight_Level_II    2522\n",
       "Name: Gender, dtype: int64"
      ]
     },
     "execution_count": 225,
     "metadata": {},
     "output_type": "execute_result"
    }
   ],
   "source": [
    "df.groupby('NObeyesdad').count()['Gender']"
>>>>>>> 2bc5832c1e434469df2bc6cc8a5ae0ae5a09d85c
   ]
  },
  {
   "cell_type": "markdown",
<<<<<<< HEAD
   "id": "e167fff9-1e9f-4569-8e9e-5fed47a50040",
   "metadata": {},
   "source": [
    "Feature Engineering"
=======
   "id": "ebf5f9be-ee03-4946-be84-14e0957d3c27",
   "metadata": {},
   "source": [
    "Column Selector"
>>>>>>> 2bc5832c1e434469df2bc6cc8a5ae0ae5a09d85c
   ]
  },
  {
   "cell_type": "code",
<<<<<<< HEAD
   "execution_count": 869,
   "id": "cf1c108b-ee90-4349-8313-6df6904f693d",
   "metadata": {},
   "outputs": [],
   "source": [
    "y=df['target']\n",
    "X=df.loc[:, ~df.columns.isin(['id', 'target', 'NObeyesdad'])] # 'Weight', 'Height'"
=======
   "execution_count": 226,
   "id": "0966aa2c-c587-4aa8-bac5-916490dae542",
   "metadata": {},
   "outputs": [],
   "source": [
    "from sklearn.compose import make_column_selector as selector"
>>>>>>> 2bc5832c1e434469df2bc6cc8a5ae0ae5a09d85c
   ]
  },
  {
   "cell_type": "code",
<<<<<<< HEAD
   "execution_count": 870,
   "id": "b1d74081-4846-4710-bc2f-ab2bca1cf89c",
   "metadata": {},
   "outputs": [],
   "source": [
    "column_names = df.columns"
=======
   "execution_count": 227,
   "id": "548487eb-1e54-4c6d-9a60-5d13f777099c",
   "metadata": {},
   "outputs": [],
   "source": [
    "import xgboost as xgb\n",
    "from sklearn.preprocessing import LabelEncoder, OneHotEncoder\n",
    "from sklearn.datasets import make_classification\n",
    "from sklearn.model_selection import train_test_split, StratifiedShuffleSplit, GridSearchCV\n",
    "from sklearn.pipeline import Pipeline, make_pipeline\n",
    "from sklearn.compose import ColumnTransformer\n",
    "from sklearn.metrics import accuracy_score "
>>>>>>> 2bc5832c1e434469df2bc6cc8a5ae0ae5a09d85c
   ]
  },
  {
   "cell_type": "code",
<<<<<<< HEAD
   "execution_count": 871,
   "id": "b6544788-abe2-4909-9f51-64ca125b2446",
   "metadata": {},
   "outputs": [],
   "source": [
    "preprocessor = ColumnTransformer(\n",
    "    [\n",
    "        (\"one-hot-encoder\", categorical_preprocessor, ['MTRANS']),\n",
    "        (\"passthrough\", 'passthrough', numerical_columns),\n",
    "    ]\n",
    ")"
=======
   "execution_count": 228,
   "id": "0c7dda67-a6b4-4f60-9c98-ac691fd7773f",
   "metadata": {},
   "outputs": [],
   "source": [
    "sss = StratifiedShuffleSplit(n_splits=3, test_size=0.15, random_state=30)"
>>>>>>> 2bc5832c1e434469df2bc6cc8a5ae0ae5a09d85c
   ]
  },
  {
   "cell_type": "code",
<<<<<<< HEAD
   "execution_count": 872,
   "id": "ec8c5c07-e20a-4622-b976-30792f0e1149",
   "metadata": {},
   "outputs": [
    {
     "name": "stdout",
     "output_type": "stream",
     "text": [
      "4    3439\n",
      "3    2761\n",
      "1    2620\n",
      "2    2473\n",
      "6    2144\n",
      "0    2144\n",
      "5    2063\n",
      "Name: target, dtype: int64\n",
      "4    607\n",
      "3    487\n",
      "1    462\n",
      "2    437\n",
      "0    379\n",
      "6    378\n",
      "5    364\n",
      "Name: target, dtype: int64\n"
     ]
    }
   ],
   "source": [
    "for train,test in sss.split(X,y):     #this will splits the index\n",
    "    X_train = X.iloc[train]\n",
    "    y_train = y.iloc[train]\n",
    "    X_test = X.iloc[test]\n",
    "    y_test = y.iloc[test]\n",
    "print(y_train.value_counts())  \n",
    "print(y_test.value_counts())"
=======
   "execution_count": 229,
   "id": "34b606bb-7868-4687-9020-3942cb3829fc",
   "metadata": {},
   "outputs": [
    {
     "data": {
      "text/html": [
       "<style>#sk-container-id-18 {color: black;background-color: white;}#sk-container-id-18 pre{padding: 0;}#sk-container-id-18 div.sk-toggleable {background-color: white;}#sk-container-id-18 label.sk-toggleable__label {cursor: pointer;display: block;width: 100%;margin-bottom: 0;padding: 0.3em;box-sizing: border-box;text-align: center;}#sk-container-id-18 label.sk-toggleable__label-arrow:before {content: \"▸\";float: left;margin-right: 0.25em;color: #696969;}#sk-container-id-18 label.sk-toggleable__label-arrow:hover:before {color: black;}#sk-container-id-18 div.sk-estimator:hover label.sk-toggleable__label-arrow:before {color: black;}#sk-container-id-18 div.sk-toggleable__content {max-height: 0;max-width: 0;overflow: hidden;text-align: left;background-color: #f0f8ff;}#sk-container-id-18 div.sk-toggleable__content pre {margin: 0.2em;color: black;border-radius: 0.25em;background-color: #f0f8ff;}#sk-container-id-18 input.sk-toggleable__control:checked~div.sk-toggleable__content {max-height: 200px;max-width: 100%;overflow: auto;}#sk-container-id-18 input.sk-toggleable__control:checked~label.sk-toggleable__label-arrow:before {content: \"▾\";}#sk-container-id-18 div.sk-estimator input.sk-toggleable__control:checked~label.sk-toggleable__label {background-color: #d4ebff;}#sk-container-id-18 div.sk-label input.sk-toggleable__control:checked~label.sk-toggleable__label {background-color: #d4ebff;}#sk-container-id-18 input.sk-hidden--visually {border: 0;clip: rect(1px 1px 1px 1px);clip: rect(1px, 1px, 1px, 1px);height: 1px;margin: -1px;overflow: hidden;padding: 0;position: absolute;width: 1px;}#sk-container-id-18 div.sk-estimator {font-family: monospace;background-color: #f0f8ff;border: 1px dotted black;border-radius: 0.25em;box-sizing: border-box;margin-bottom: 0.5em;}#sk-container-id-18 div.sk-estimator:hover {background-color: #d4ebff;}#sk-container-id-18 div.sk-parallel-item::after {content: \"\";width: 100%;border-bottom: 1px solid gray;flex-grow: 1;}#sk-container-id-18 div.sk-label:hover label.sk-toggleable__label {background-color: #d4ebff;}#sk-container-id-18 div.sk-serial::before {content: \"\";position: absolute;border-left: 1px solid gray;box-sizing: border-box;top: 0;bottom: 0;left: 50%;z-index: 0;}#sk-container-id-18 div.sk-serial {display: flex;flex-direction: column;align-items: center;background-color: white;padding-right: 0.2em;padding-left: 0.2em;position: relative;}#sk-container-id-18 div.sk-item {position: relative;z-index: 1;}#sk-container-id-18 div.sk-parallel {display: flex;align-items: stretch;justify-content: center;background-color: white;position: relative;}#sk-container-id-18 div.sk-item::before, #sk-container-id-18 div.sk-parallel-item::before {content: \"\";position: absolute;border-left: 1px solid gray;box-sizing: border-box;top: 0;bottom: 0;left: 50%;z-index: -1;}#sk-container-id-18 div.sk-parallel-item {display: flex;flex-direction: column;z-index: 1;position: relative;background-color: white;}#sk-container-id-18 div.sk-parallel-item:first-child::after {align-self: flex-end;width: 50%;}#sk-container-id-18 div.sk-parallel-item:last-child::after {align-self: flex-start;width: 50%;}#sk-container-id-18 div.sk-parallel-item:only-child::after {width: 0;}#sk-container-id-18 div.sk-dashed-wrapped {border: 1px dashed gray;margin: 0 0.4em 0.5em 0.4em;box-sizing: border-box;padding-bottom: 0.4em;background-color: white;}#sk-container-id-18 div.sk-label label {font-family: monospace;font-weight: bold;display: inline-block;line-height: 1.2em;}#sk-container-id-18 div.sk-label-container {text-align: center;}#sk-container-id-18 div.sk-container {/* jupyter's `normalize.less` sets `[hidden] { display: none; }` but bootstrap.min.css set `[hidden] { display: none !important; }` so we also need the `!important` here to be able to override the default hidden behavior on the sphinx rendered scikit-learn.org. See: https://github.com/scikit-learn/scikit-learn/issues/21755 */display: inline-block !important;position: relative;}#sk-container-id-18 div.sk-text-repr-fallback {display: none;}</style><div id=\"sk-container-id-18\" class=\"sk-top-container\"><div class=\"sk-text-repr-fallback\"><pre>LabelEncoder()</pre><b>In a Jupyter environment, please rerun this cell to show the HTML representation or trust the notebook. <br />On GitHub, the HTML representation is unable to render, please try loading this page with nbviewer.org.</b></div><div class=\"sk-container\" hidden><div class=\"sk-item\"><div class=\"sk-estimator sk-toggleable\"><input class=\"sk-toggleable__control sk-hidden--visually\" id=\"sk-estimator-id-100\" type=\"checkbox\" checked><label for=\"sk-estimator-id-100\" class=\"sk-toggleable__label sk-toggleable__label-arrow\">LabelEncoder</label><div class=\"sk-toggleable__content\"><pre>LabelEncoder()</pre></div></div></div></div></div>"
      ],
      "text/plain": [
       "LabelEncoder()"
      ]
     },
     "execution_count": 229,
     "metadata": {},
     "output_type": "execute_result"
    }
   ],
   "source": [
    "le = LabelEncoder()\n",
    "le.fit(df['NObeyesdad'])"
>>>>>>> 2bc5832c1e434469df2bc6cc8a5ae0ae5a09d85c
   ]
  },
  {
   "cell_type": "code",
<<<<<<< HEAD
   "execution_count": 873,
   "id": "90e7dda7-74a5-4d0b-bc87-9d1e08a0f737",
   "metadata": {},
   "outputs": [],
   "source": [
    "numerical_columns_selector = selector(dtype_exclude=object)\n",
    "categorical_columns_selector = selector(dtype_include=object)\n",
    "\n",
    "numerical_columns = numerical_columns_selector(X_train)\n",
    "categorical_columns = categorical_columns_selector(X_train)"
=======
   "execution_count": 230,
   "id": "8fde7371-f1ae-46c9-b675-e65b110842e8",
   "metadata": {},
   "outputs": [],
   "source": [
    "le.classes_\n",
    "df['target']=le.transform(df['NObeyesdad'])"
>>>>>>> 2bc5832c1e434469df2bc6cc8a5ae0ae5a09d85c
   ]
  },
  {
   "cell_type": "code",
<<<<<<< HEAD
   "execution_count": 874,
   "id": "e53d03e5-fc31-4283-91b6-24f3e529b03b",
   "metadata": {},
   "outputs": [],
   "source": [
    "categorical_preprocessor = OneHotEncoder(handle_unknown=\"ignore\")"
   ]
  },
  {
   "cell_type": "code",
   "execution_count": 875,
   "id": "80d2e0da-8e23-496c-bdc2-62ae22acc6a8",
   "metadata": {
    "scrolled": true
   },
=======
   "execution_count": 468,
   "id": "26e85907-7c91-4041-ad0a-8e83f1ff703d",
   "metadata": {},
>>>>>>> 2bc5832c1e434469df2bc6cc8a5ae0ae5a09d85c
   "outputs": [
    {
     "data": {
      "text/html": [
       "<div>\n",
       "<style scoped>\n",
       "    .dataframe tbody tr th:only-of-type {\n",
       "        vertical-align: middle;\n",
       "    }\n",
       "\n",
       "    .dataframe tbody tr th {\n",
       "        vertical-align: top;\n",
       "    }\n",
       "\n",
       "    .dataframe thead th {\n",
       "        text-align: right;\n",
       "    }\n",
       "</style>\n",
       "<table border=\"1\" class=\"dataframe\">\n",
       "  <thead>\n",
       "    <tr style=\"text-align: right;\">\n",
       "      <th></th>\n",
<<<<<<< HEAD
       "      <th>Age</th>\n",
       "      <th>Height</th>\n",
       "      <th>Weight</th>\n",
=======
       "      <th>Gender</th>\n",
       "      <th>Age</th>\n",
       "      <th>Height</th>\n",
>>>>>>> 2bc5832c1e434469df2bc6cc8a5ae0ae5a09d85c
       "      <th>family_history_with_overweight</th>\n",
       "      <th>FAVC</th>\n",
       "      <th>FCVC</th>\n",
       "      <th>NCP</th>\n",
<<<<<<< HEAD
=======
       "      <th>CAEC</th>\n",
>>>>>>> 2bc5832c1e434469df2bc6cc8a5ae0ae5a09d85c
       "      <th>SMOKE</th>\n",
       "      <th>CH2O</th>\n",
       "      <th>SCC</th>\n",
       "      <th>FAF</th>\n",
       "      <th>TUE</th>\n",
<<<<<<< HEAD
=======
       "      <th>CALC</th>\n",
       "      <th>MTRANS</th>\n",
>>>>>>> 2bc5832c1e434469df2bc6cc8a5ae0ae5a09d85c
       "      <th>Gender_Female</th>\n",
       "      <th>CALC_numerical</th>\n",
       "      <th>CAEC_numerical</th>\n",
       "      <th>WH</th>\n",
       "    </tr>\n",
       "  </thead>\n",
       "  <tbody>\n",
       "    <tr>\n",
       "      <th>0</th>\n",
<<<<<<< HEAD
       "      <td>24.443011</td>\n",
       "      <td>1.699998</td>\n",
       "      <td>81.669950</td>\n",
=======
       "      <td>Male</td>\n",
       "      <td>24.443011</td>\n",
       "      <td>1.699998</td>\n",
>>>>>>> 2bc5832c1e434469df2bc6cc8a5ae0ae5a09d85c
       "      <td>1</td>\n",
       "      <td>1</td>\n",
       "      <td>2.000000</td>\n",
       "      <td>2.983297</td>\n",
<<<<<<< HEAD
=======
       "      <td>Sometimes</td>\n",
>>>>>>> 2bc5832c1e434469df2bc6cc8a5ae0ae5a09d85c
       "      <td>0</td>\n",
       "      <td>2.763573</td>\n",
       "      <td>0</td>\n",
       "      <td>0.000000</td>\n",
       "      <td>0.976473</td>\n",
<<<<<<< HEAD
=======
       "      <td>Sometimes</td>\n",
       "      <td>Public_Transportation</td>\n",
>>>>>>> 2bc5832c1e434469df2bc6cc8a5ae0ae5a09d85c
       "      <td>0</td>\n",
       "      <td>0.3</td>\n",
       "      <td>0.3</td>\n",
       "      <td>48.041204</td>\n",
       "    </tr>\n",
       "    <tr>\n",
       "      <th>1</th>\n",
<<<<<<< HEAD
       "      <td>18.000000</td>\n",
       "      <td>1.560000</td>\n",
       "      <td>57.000000</td>\n",
=======
       "      <td>Female</td>\n",
       "      <td>18.000000</td>\n",
       "      <td>1.560000</td>\n",
>>>>>>> 2bc5832c1e434469df2bc6cc8a5ae0ae5a09d85c
       "      <td>1</td>\n",
       "      <td>1</td>\n",
       "      <td>2.000000</td>\n",
       "      <td>3.000000</td>\n",
<<<<<<< HEAD
=======
       "      <td>Frequently</td>\n",
>>>>>>> 2bc5832c1e434469df2bc6cc8a5ae0ae5a09d85c
       "      <td>0</td>\n",
       "      <td>2.000000</td>\n",
       "      <td>0</td>\n",
       "      <td>1.000000</td>\n",
       "      <td>1.000000</td>\n",
<<<<<<< HEAD
=======
       "      <td>no</td>\n",
       "      <td>Automobile</td>\n",
>>>>>>> 2bc5832c1e434469df2bc6cc8a5ae0ae5a09d85c
       "      <td>1</td>\n",
       "      <td>0.0</td>\n",
       "      <td>0.6</td>\n",
       "      <td>36.538462</td>\n",
       "    </tr>\n",
       "    <tr>\n",
       "      <th>2</th>\n",
<<<<<<< HEAD
       "      <td>18.000000</td>\n",
       "      <td>1.711460</td>\n",
       "      <td>50.165754</td>\n",
=======
       "      <td>Female</td>\n",
       "      <td>18.000000</td>\n",
       "      <td>1.711460</td>\n",
>>>>>>> 2bc5832c1e434469df2bc6cc8a5ae0ae5a09d85c
       "      <td>1</td>\n",
       "      <td>1</td>\n",
       "      <td>1.880534</td>\n",
       "      <td>1.411685</td>\n",
<<<<<<< HEAD
=======
       "      <td>Sometimes</td>\n",
>>>>>>> 2bc5832c1e434469df2bc6cc8a5ae0ae5a09d85c
       "      <td>0</td>\n",
       "      <td>1.910378</td>\n",
       "      <td>0</td>\n",
       "      <td>0.866045</td>\n",
       "      <td>1.673584</td>\n",
<<<<<<< HEAD
=======
       "      <td>no</td>\n",
       "      <td>Public_Transportation</td>\n",
>>>>>>> 2bc5832c1e434469df2bc6cc8a5ae0ae5a09d85c
       "      <td>1</td>\n",
       "      <td>0.0</td>\n",
       "      <td>0.3</td>\n",
       "      <td>29.311672</td>\n",
       "    </tr>\n",
       "    <tr>\n",
       "      <th>3</th>\n",
<<<<<<< HEAD
       "      <td>20.952737</td>\n",
       "      <td>1.710730</td>\n",
       "      <td>131.274851</td>\n",
=======
       "      <td>Female</td>\n",
       "      <td>20.952737</td>\n",
       "      <td>1.710730</td>\n",
>>>>>>> 2bc5832c1e434469df2bc6cc8a5ae0ae5a09d85c
       "      <td>1</td>\n",
       "      <td>1</td>\n",
       "      <td>3.000000</td>\n",
       "      <td>3.000000</td>\n",
<<<<<<< HEAD
=======
       "      <td>Sometimes</td>\n",
>>>>>>> 2bc5832c1e434469df2bc6cc8a5ae0ae5a09d85c
       "      <td>0</td>\n",
       "      <td>1.674061</td>\n",
       "      <td>0</td>\n",
       "      <td>1.467863</td>\n",
       "      <td>0.780199</td>\n",
<<<<<<< HEAD
=======
       "      <td>Sometimes</td>\n",
       "      <td>Public_Transportation</td>\n",
>>>>>>> 2bc5832c1e434469df2bc6cc8a5ae0ae5a09d85c
       "      <td>1</td>\n",
       "      <td>0.3</td>\n",
       "      <td>0.3</td>\n",
       "      <td>76.736160</td>\n",
       "    </tr>\n",
       "    <tr>\n",
       "      <th>4</th>\n",
<<<<<<< HEAD
       "      <td>31.641081</td>\n",
       "      <td>1.914186</td>\n",
       "      <td>93.798055</td>\n",
=======
       "      <td>Male</td>\n",
       "      <td>31.641081</td>\n",
       "      <td>1.914186</td>\n",
>>>>>>> 2bc5832c1e434469df2bc6cc8a5ae0ae5a09d85c
       "      <td>1</td>\n",
       "      <td>1</td>\n",
       "      <td>2.679664</td>\n",
       "      <td>1.971472</td>\n",
<<<<<<< HEAD
=======
       "      <td>Sometimes</td>\n",
>>>>>>> 2bc5832c1e434469df2bc6cc8a5ae0ae5a09d85c
       "      <td>0</td>\n",
       "      <td>1.979848</td>\n",
       "      <td>0</td>\n",
       "      <td>1.967973</td>\n",
       "      <td>0.931721</td>\n",
<<<<<<< HEAD
=======
       "      <td>Sometimes</td>\n",
       "      <td>Public_Transportation</td>\n",
>>>>>>> 2bc5832c1e434469df2bc6cc8a5ae0ae5a09d85c
       "      <td>0</td>\n",
       "      <td>0.3</td>\n",
       "      <td>0.3</td>\n",
       "      <td>49.001536</td>\n",
       "    </tr>\n",
<<<<<<< HEAD
       "    <tr>\n",
       "      <th>...</th>\n",
       "      <td>...</td>\n",
       "      <td>...</td>\n",
       "      <td>...</td>\n",
       "      <td>...</td>\n",
       "      <td>...</td>\n",
       "      <td>...</td>\n",
       "      <td>...</td>\n",
       "      <td>...</td>\n",
       "      <td>...</td>\n",
       "      <td>...</td>\n",
       "      <td>...</td>\n",
       "      <td>...</td>\n",
       "      <td>...</td>\n",
       "      <td>...</td>\n",
       "      <td>...</td>\n",
       "      <td>...</td>\n",
       "    </tr>\n",
       "    <tr>\n",
       "      <th>20753</th>\n",
       "      <td>25.137087</td>\n",
       "      <td>1.766626</td>\n",
       "      <td>114.187096</td>\n",
       "      <td>1</td>\n",
       "      <td>1</td>\n",
       "      <td>2.919584</td>\n",
       "      <td>3.000000</td>\n",
       "      <td>0</td>\n",
       "      <td>2.151809</td>\n",
       "      <td>0</td>\n",
       "      <td>1.330519</td>\n",
       "      <td>0.196680</td>\n",
       "      <td>0</td>\n",
       "      <td>0.3</td>\n",
       "      <td>0.3</td>\n",
       "      <td>64.635693</td>\n",
       "    </tr>\n",
       "    <tr>\n",
       "      <th>20754</th>\n",
       "      <td>18.000000</td>\n",
       "      <td>1.710000</td>\n",
       "      <td>50.000000</td>\n",
       "      <td>0</td>\n",
       "      <td>1</td>\n",
       "      <td>3.000000</td>\n",
       "      <td>4.000000</td>\n",
       "      <td>0</td>\n",
       "      <td>1.000000</td>\n",
       "      <td>0</td>\n",
       "      <td>2.000000</td>\n",
       "      <td>1.000000</td>\n",
       "      <td>0</td>\n",
       "      <td>0.3</td>\n",
       "      <td>0.6</td>\n",
       "      <td>29.239766</td>\n",
       "    </tr>\n",
       "    <tr>\n",
       "      <th>20755</th>\n",
       "      <td>20.101026</td>\n",
       "      <td>1.819557</td>\n",
       "      <td>105.580491</td>\n",
       "      <td>1</td>\n",
       "      <td>1</td>\n",
       "      <td>2.407817</td>\n",
       "      <td>3.000000</td>\n",
       "      <td>0</td>\n",
       "      <td>2.000000</td>\n",
       "      <td>0</td>\n",
       "      <td>1.158040</td>\n",
       "      <td>1.198439</td>\n",
       "      <td>0</td>\n",
       "      <td>0.0</td>\n",
       "      <td>0.3</td>\n",
       "      <td>58.025383</td>\n",
       "    </tr>\n",
       "    <tr>\n",
       "      <th>20756</th>\n",
       "      <td>33.852953</td>\n",
       "      <td>1.700000</td>\n",
       "      <td>83.520113</td>\n",
       "      <td>1</td>\n",
       "      <td>1</td>\n",
       "      <td>2.671238</td>\n",
       "      <td>1.971472</td>\n",
       "      <td>0</td>\n",
       "      <td>2.144838</td>\n",
       "      <td>0</td>\n",
       "      <td>0.000000</td>\n",
       "      <td>0.973834</td>\n",
       "      <td>0</td>\n",
       "      <td>0.0</td>\n",
       "      <td>0.3</td>\n",
       "      <td>49.129478</td>\n",
       "    </tr>\n",
       "    <tr>\n",
       "      <th>20757</th>\n",
       "      <td>26.680376</td>\n",
       "      <td>1.816547</td>\n",
       "      <td>118.134898</td>\n",
       "      <td>1</td>\n",
       "      <td>1</td>\n",
       "      <td>3.000000</td>\n",
       "      <td>3.000000</td>\n",
       "      <td>0</td>\n",
       "      <td>2.003563</td>\n",
       "      <td>0</td>\n",
       "      <td>0.684487</td>\n",
       "      <td>0.713823</td>\n",
       "      <td>0</td>\n",
       "      <td>0.3</td>\n",
       "      <td>0.3</td>\n",
       "      <td>65.032668</td>\n",
       "    </tr>\n",
       "  </tbody>\n",
       "</table>\n",
       "<p>20758 rows × 16 columns</p>\n",
       "</div>"
      ],
      "text/plain": [
       "             Age    Height      Weight  family_history_with_overweight  FAVC  \\\n",
       "0      24.443011  1.699998   81.669950                               1     1   \n",
       "1      18.000000  1.560000   57.000000                               1     1   \n",
       "2      18.000000  1.711460   50.165754                               1     1   \n",
       "3      20.952737  1.710730  131.274851                               1     1   \n",
       "4      31.641081  1.914186   93.798055                               1     1   \n",
       "...          ...       ...         ...                             ...   ...   \n",
       "20753  25.137087  1.766626  114.187096                               1     1   \n",
       "20754  18.000000  1.710000   50.000000                               0     1   \n",
       "20755  20.101026  1.819557  105.580491                               1     1   \n",
       "20756  33.852953  1.700000   83.520113                               1     1   \n",
       "20757  26.680376  1.816547  118.134898                               1     1   \n",
       "\n",
       "           FCVC       NCP  SMOKE      CH2O  SCC       FAF       TUE  \\\n",
       "0      2.000000  2.983297      0  2.763573    0  0.000000  0.976473   \n",
       "1      2.000000  3.000000      0  2.000000    0  1.000000  1.000000   \n",
       "2      1.880534  1.411685      0  1.910378    0  0.866045  1.673584   \n",
       "3      3.000000  3.000000      0  1.674061    0  1.467863  0.780199   \n",
       "4      2.679664  1.971472      0  1.979848    0  1.967973  0.931721   \n",
       "...         ...       ...    ...       ...  ...       ...       ...   \n",
       "20753  2.919584  3.000000      0  2.151809    0  1.330519  0.196680   \n",
       "20754  3.000000  4.000000      0  1.000000    0  2.000000  1.000000   \n",
       "20755  2.407817  3.000000      0  2.000000    0  1.158040  1.198439   \n",
       "20756  2.671238  1.971472      0  2.144838    0  0.000000  0.973834   \n",
       "20757  3.000000  3.000000      0  2.003563    0  0.684487  0.713823   \n",
       "\n",
       "       Gender_Female  CALC_numerical  CAEC_numerical         WH  \n",
       "0                  0             0.3             0.3  48.041204  \n",
       "1                  1             0.0             0.6  36.538462  \n",
       "2                  1             0.0             0.3  29.311672  \n",
       "3                  1             0.3             0.3  76.736160  \n",
       "4                  0             0.3             0.3  49.001536  \n",
       "...              ...             ...             ...        ...  \n",
       "20753              0             0.3             0.3  64.635693  \n",
       "20754              0             0.3             0.6  29.239766  \n",
       "20755              0             0.0             0.3  58.025383  \n",
       "20756              0             0.0             0.3  49.129478  \n",
       "20757              0             0.3             0.3  65.032668  \n",
       "\n",
       "[20758 rows x 16 columns]"
      ]
     },
     "execution_count": 875,
=======
       "  </tbody>\n",
       "</table>\n",
       "</div>"
      ],
      "text/plain": [
       "   Gender        Age    Height  family_history_with_overweight  FAVC  \\\n",
       "0    Male  24.443011  1.699998                               1     1   \n",
       "1  Female  18.000000  1.560000                               1     1   \n",
       "2  Female  18.000000  1.711460                               1     1   \n",
       "3  Female  20.952737  1.710730                               1     1   \n",
       "4    Male  31.641081  1.914186                               1     1   \n",
       "\n",
       "       FCVC       NCP        CAEC  SMOKE      CH2O  SCC       FAF       TUE  \\\n",
       "0  2.000000  2.983297   Sometimes      0  2.763573    0  0.000000  0.976473   \n",
       "1  2.000000  3.000000  Frequently      0  2.000000    0  1.000000  1.000000   \n",
       "2  1.880534  1.411685   Sometimes      0  1.910378    0  0.866045  1.673584   \n",
       "3  3.000000  3.000000   Sometimes      0  1.674061    0  1.467863  0.780199   \n",
       "4  2.679664  1.971472   Sometimes      0  1.979848    0  1.967973  0.931721   \n",
       "\n",
       "        CALC                 MTRANS  Gender_Female  CALC_numerical  \\\n",
       "0  Sometimes  Public_Transportation              0             0.3   \n",
       "1         no             Automobile              1             0.0   \n",
       "2         no  Public_Transportation              1             0.0   \n",
       "3  Sometimes  Public_Transportation              1             0.3   \n",
       "4  Sometimes  Public_Transportation              0             0.3   \n",
       "\n",
       "   CAEC_numerical         WH  \n",
       "0             0.3  48.041204  \n",
       "1             0.6  36.538462  \n",
       "2             0.3  29.311672  \n",
       "3             0.3  76.736160  \n",
       "4             0.3  49.001536  "
      ]
     },
     "execution_count": 468,
>>>>>>> 2bc5832c1e434469df2bc6cc8a5ae0ae5a09d85c
     "metadata": {},
     "output_type": "execute_result"
    }
   ],
   "source": [
<<<<<<< HEAD
    "df[numerical_columns]"
=======
    "X.head()"
>>>>>>> 2bc5832c1e434469df2bc6cc8a5ae0ae5a09d85c
   ]
  },
  {
   "cell_type": "markdown",
<<<<<<< HEAD
   "id": "b1523c25-4870-4b6e-9370-f6fbd11a7f8b",
   "metadata": {},
   "source": [
    "### Multi Class Classification"
=======
   "id": "e167fff9-1e9f-4569-8e9e-5fed47a50040",
   "metadata": {},
   "source": [
    "Feature Engineering"
>>>>>>> 2bc5832c1e434469df2bc6cc8a5ae0ae5a09d85c
   ]
  },
  {
   "cell_type": "code",
<<<<<<< HEAD
   "execution_count": 876,
   "id": "30ccfefa-4640-4b2f-848f-2adb2fc4236f",
=======
   "execution_count": 469,
   "id": "02267da9-6156-4224-9507-0e81b3bf00d5",
   "metadata": {},
   "outputs": [],
   "source": [
    "df['WH']=df['Weight']/df['Height']"
   ]
  },
  {
   "cell_type": "code",
   "execution_count": 518,
   "id": "cf1c108b-ee90-4349-8313-6df6904f693d",
   "metadata": {},
   "outputs": [],
   "source": [
    "y=df['target']\n",
    "X=df.loc[:, ~df.columns.isin(['id', 'target', 'NObeyesdad'])] # 'Weight', 'Height'"
   ]
  },
  {
   "cell_type": "code",
   "execution_count": 519,
   "id": "b1d74081-4846-4710-bc2f-ab2bca1cf89c",
   "metadata": {},
   "outputs": [],
   "source": [
    "column_names = df.columns"
   ]
  },
  {
   "cell_type": "code",
   "execution_count": 520,
   "id": "b6544788-abe2-4909-9f51-64ca125b2446",
>>>>>>> 2bc5832c1e434469df2bc6cc8a5ae0ae5a09d85c
   "metadata": {},
   "outputs": [],
   "source": [
    "preprocessor = ColumnTransformer(\n",
    "    [\n",
    "        (\"one-hot-encoder\", categorical_preprocessor, ['MTRANS']),\n",
    "        (\"passthrough\", 'passthrough', numerical_columns),\n",
    "    ]\n",
    ")"
   ]
  },
  {
   "cell_type": "code",
<<<<<<< HEAD
   "execution_count": 877,
   "id": "ef428ac5-bc5f-449a-b771-a01effe57402",
   "metadata": {},
   "outputs": [],
   "source": [
    "params = {\n",
    "        'min_child_weight': [ 5, 7, 9],\n",
    "        'max_depth': [ 7, 8, 9],\n",
    "        'subsample': [0.7, 0.85, 1.0],\n",
    "        'colsample_bytree': [0.4, 0.6, 0.8],\n",
    "        'learning_rate': [0.01, 0.05, 0.1, 0.2],\n",
    "\n",
    "        }"
=======
   "execution_count": 521,
   "id": "ec8c5c07-e20a-4622-b976-30792f0e1149",
   "metadata": {},
   "outputs": [
    {
     "name": "stdout",
     "output_type": "stream",
     "text": [
      "4    3439\n",
      "3    2761\n",
      "1    2620\n",
      "2    2473\n",
      "6    2144\n",
      "0    2144\n",
      "5    2063\n",
      "Name: target, dtype: int64\n",
      "4    607\n",
      "3    487\n",
      "1    462\n",
      "2    437\n",
      "0    379\n",
      "6    378\n",
      "5    364\n",
      "Name: target, dtype: int64\n"
     ]
    }
   ],
   "source": [
    "for train,test in sss.split(X,y):     #this will splits the index\n",
    "    X_train = X.iloc[train]\n",
    "    y_train = y.iloc[train]\n",
    "    X_test = X.iloc[test]\n",
    "    y_test = y.iloc[test]\n",
    "print(y_train.value_counts())  \n",
    "print(y_test.value_counts())"
>>>>>>> 2bc5832c1e434469df2bc6cc8a5ae0ae5a09d85c
   ]
  },
  {
   "cell_type": "code",
<<<<<<< HEAD
   "execution_count": 878,
   "id": "46cd09c2-b974-4874-a535-5fae98bf7123",
   "metadata": {},
   "outputs": [],
   "source": [
    "gs=GridSearchCV(xgb.XGBClassifier(objective=\"multi:softprob\", nthread=2),\n",
    "                      param_grid=params,\n",
    "                      cv=2,\n",
    "                      refit=True)"
=======
   "execution_count": 522,
   "id": "90e7dda7-74a5-4d0b-bc87-9d1e08a0f737",
   "metadata": {},
   "outputs": [],
   "source": [
    "numerical_columns_selector = selector(dtype_exclude=object)\n",
    "categorical_columns_selector = selector(dtype_include=object)\n",
    "\n",
    "numerical_columns = numerical_columns_selector(X_train)\n",
    "categorical_columns = categorical_columns_selector(X_train)"
>>>>>>> 2bc5832c1e434469df2bc6cc8a5ae0ae5a09d85c
   ]
  },
  {
   "cell_type": "code",
<<<<<<< HEAD
   "execution_count": 879,
   "id": "a7f4582b-c4e2-43f7-8f37-43282ebace4d",
   "metadata": {},
   "outputs": [],
   "source": [
    "model = make_pipeline(preprocessor, \n",
    "                      gs)"
=======
   "execution_count": 523,
   "id": "e53d03e5-fc31-4283-91b6-24f3e529b03b",
   "metadata": {},
   "outputs": [],
   "source": [
    "categorical_preprocessor = OneHotEncoder(handle_unknown=\"ignore\")"
>>>>>>> 2bc5832c1e434469df2bc6cc8a5ae0ae5a09d85c
   ]
  },
  {
   "cell_type": "code",
<<<<<<< HEAD
   "execution_count": 880,
   "id": "58dbd146-e836-4da1-9c76-c6531309431f",
   "metadata": {},
   "outputs": [
    {
     "data": {
      "text/html": [
       "<style>#sk-container-id-56 {color: black;background-color: white;}#sk-container-id-56 pre{padding: 0;}#sk-container-id-56 div.sk-toggleable {background-color: white;}#sk-container-id-56 label.sk-toggleable__label {cursor: pointer;display: block;width: 100%;margin-bottom: 0;padding: 0.3em;box-sizing: border-box;text-align: center;}#sk-container-id-56 label.sk-toggleable__label-arrow:before {content: \"▸\";float: left;margin-right: 0.25em;color: #696969;}#sk-container-id-56 label.sk-toggleable__label-arrow:hover:before {color: black;}#sk-container-id-56 div.sk-estimator:hover label.sk-toggleable__label-arrow:before {color: black;}#sk-container-id-56 div.sk-toggleable__content {max-height: 0;max-width: 0;overflow: hidden;text-align: left;background-color: #f0f8ff;}#sk-container-id-56 div.sk-toggleable__content pre {margin: 0.2em;color: black;border-radius: 0.25em;background-color: #f0f8ff;}#sk-container-id-56 input.sk-toggleable__control:checked~div.sk-toggleable__content {max-height: 200px;max-width: 100%;overflow: auto;}#sk-container-id-56 input.sk-toggleable__control:checked~label.sk-toggleable__label-arrow:before {content: \"▾\";}#sk-container-id-56 div.sk-estimator input.sk-toggleable__control:checked~label.sk-toggleable__label {background-color: #d4ebff;}#sk-container-id-56 div.sk-label input.sk-toggleable__control:checked~label.sk-toggleable__label {background-color: #d4ebff;}#sk-container-id-56 input.sk-hidden--visually {border: 0;clip: rect(1px 1px 1px 1px);clip: rect(1px, 1px, 1px, 1px);height: 1px;margin: -1px;overflow: hidden;padding: 0;position: absolute;width: 1px;}#sk-container-id-56 div.sk-estimator {font-family: monospace;background-color: #f0f8ff;border: 1px dotted black;border-radius: 0.25em;box-sizing: border-box;margin-bottom: 0.5em;}#sk-container-id-56 div.sk-estimator:hover {background-color: #d4ebff;}#sk-container-id-56 div.sk-parallel-item::after {content: \"\";width: 100%;border-bottom: 1px solid gray;flex-grow: 1;}#sk-container-id-56 div.sk-label:hover label.sk-toggleable__label {background-color: #d4ebff;}#sk-container-id-56 div.sk-serial::before {content: \"\";position: absolute;border-left: 1px solid gray;box-sizing: border-box;top: 0;bottom: 0;left: 50%;z-index: 0;}#sk-container-id-56 div.sk-serial {display: flex;flex-direction: column;align-items: center;background-color: white;padding-right: 0.2em;padding-left: 0.2em;position: relative;}#sk-container-id-56 div.sk-item {position: relative;z-index: 1;}#sk-container-id-56 div.sk-parallel {display: flex;align-items: stretch;justify-content: center;background-color: white;position: relative;}#sk-container-id-56 div.sk-item::before, #sk-container-id-56 div.sk-parallel-item::before {content: \"\";position: absolute;border-left: 1px solid gray;box-sizing: border-box;top: 0;bottom: 0;left: 50%;z-index: -1;}#sk-container-id-56 div.sk-parallel-item {display: flex;flex-direction: column;z-index: 1;position: relative;background-color: white;}#sk-container-id-56 div.sk-parallel-item:first-child::after {align-self: flex-end;width: 50%;}#sk-container-id-56 div.sk-parallel-item:last-child::after {align-self: flex-start;width: 50%;}#sk-container-id-56 div.sk-parallel-item:only-child::after {width: 0;}#sk-container-id-56 div.sk-dashed-wrapped {border: 1px dashed gray;margin: 0 0.4em 0.5em 0.4em;box-sizing: border-box;padding-bottom: 0.4em;background-color: white;}#sk-container-id-56 div.sk-label label {font-family: monospace;font-weight: bold;display: inline-block;line-height: 1.2em;}#sk-container-id-56 div.sk-label-container {text-align: center;}#sk-container-id-56 div.sk-container {/* jupyter's `normalize.less` sets `[hidden] { display: none; }` but bootstrap.min.css set `[hidden] { display: none !important; }` so we also need the `!important` here to be able to override the default hidden behavior on the sphinx rendered scikit-learn.org. See: https://github.com/scikit-learn/scikit-learn/issues/21755 */display: inline-block !important;position: relative;}#sk-container-id-56 div.sk-text-repr-fallback {display: none;}</style><div id=\"sk-container-id-56\" class=\"sk-top-container\"><div class=\"sk-text-repr-fallback\"><pre>Pipeline(steps=[(&#x27;columntransformer&#x27;,\n",
       "                 ColumnTransformer(transformers=[(&#x27;one-hot-encoder&#x27;,\n",
       "                                                  OneHotEncoder(handle_unknown=&#x27;ignore&#x27;),\n",
       "                                                  [&#x27;MTRANS&#x27;]),\n",
       "                                                 (&#x27;passthrough&#x27;, &#x27;passthrough&#x27;,\n",
       "                                                  [&#x27;Age&#x27;, &#x27;Height&#x27;, &#x27;Weight&#x27;,\n",
       "                                                   &#x27;family_history_with_overweight&#x27;,\n",
       "                                                   &#x27;FAVC&#x27;, &#x27;FCVC&#x27;, &#x27;NCP&#x27;,\n",
       "                                                   &#x27;SMOKE&#x27;, &#x27;CH2O&#x27;, &#x27;SCC&#x27;,\n",
       "                                                   &#x27;FAF&#x27;, &#x27;TUE&#x27;,\n",
       "                                                   &#x27;Gender_Female&#x27;,\n",
       "                                                   &#x27;CALC_numerical&#x27;,\n",
       "                                                   &#x27;CAEC_numerical&#x27;, &#x27;WH&#x27;])])),\n",
       "                (&#x27;gridsearc...\n",
       "                                                      max_delta_step=None,\n",
       "                                                      max_depth=None,\n",
       "                                                      max_leaves=None,\n",
       "                                                      min_child_weight=None,\n",
       "                                                      missing=nan,\n",
       "                                                      monotone_constraints=None,\n",
       "                                                      multi_strategy=None,\n",
       "                                                      n_estimators=None,\n",
       "                                                      n_jobs=None, nthread=2,\n",
       "                                                      num_parallel_tree=None, ...),\n",
       "                              param_grid={&#x27;colsample_bytree&#x27;: [0.4, 0.6, 0.8],\n",
       "                                          &#x27;learning_rate&#x27;: [0.01, 0.05, 0.1,\n",
       "                                                            0.2],\n",
       "                                          &#x27;max_depth&#x27;: [7, 8, 9],\n",
       "                                          &#x27;min_child_weight&#x27;: [5, 7, 9],\n",
       "                                          &#x27;subsample&#x27;: [0.7, 0.85, 1.0]}))])</pre><b>In a Jupyter environment, please rerun this cell to show the HTML representation or trust the notebook. <br />On GitHub, the HTML representation is unable to render, please try loading this page with nbviewer.org.</b></div><div class=\"sk-container\" hidden><div class=\"sk-item sk-dashed-wrapped\"><div class=\"sk-label-container\"><div class=\"sk-label sk-toggleable\"><input class=\"sk-toggleable__control sk-hidden--visually\" id=\"sk-estimator-id-335\" type=\"checkbox\" ><label for=\"sk-estimator-id-335\" class=\"sk-toggleable__label sk-toggleable__label-arrow\">Pipeline</label><div class=\"sk-toggleable__content\"><pre>Pipeline(steps=[(&#x27;columntransformer&#x27;,\n",
       "                 ColumnTransformer(transformers=[(&#x27;one-hot-encoder&#x27;,\n",
       "                                                  OneHotEncoder(handle_unknown=&#x27;ignore&#x27;),\n",
       "                                                  [&#x27;MTRANS&#x27;]),\n",
       "                                                 (&#x27;passthrough&#x27;, &#x27;passthrough&#x27;,\n",
       "                                                  [&#x27;Age&#x27;, &#x27;Height&#x27;, &#x27;Weight&#x27;,\n",
       "                                                   &#x27;family_history_with_overweight&#x27;,\n",
       "                                                   &#x27;FAVC&#x27;, &#x27;FCVC&#x27;, &#x27;NCP&#x27;,\n",
       "                                                   &#x27;SMOKE&#x27;, &#x27;CH2O&#x27;, &#x27;SCC&#x27;,\n",
       "                                                   &#x27;FAF&#x27;, &#x27;TUE&#x27;,\n",
       "                                                   &#x27;Gender_Female&#x27;,\n",
       "                                                   &#x27;CALC_numerical&#x27;,\n",
       "                                                   &#x27;CAEC_numerical&#x27;, &#x27;WH&#x27;])])),\n",
       "                (&#x27;gridsearc...\n",
       "                                                      max_delta_step=None,\n",
       "                                                      max_depth=None,\n",
       "                                                      max_leaves=None,\n",
       "                                                      min_child_weight=None,\n",
       "                                                      missing=nan,\n",
       "                                                      monotone_constraints=None,\n",
       "                                                      multi_strategy=None,\n",
       "                                                      n_estimators=None,\n",
       "                                                      n_jobs=None, nthread=2,\n",
       "                                                      num_parallel_tree=None, ...),\n",
       "                              param_grid={&#x27;colsample_bytree&#x27;: [0.4, 0.6, 0.8],\n",
       "                                          &#x27;learning_rate&#x27;: [0.01, 0.05, 0.1,\n",
       "                                                            0.2],\n",
       "                                          &#x27;max_depth&#x27;: [7, 8, 9],\n",
       "                                          &#x27;min_child_weight&#x27;: [5, 7, 9],\n",
       "                                          &#x27;subsample&#x27;: [0.7, 0.85, 1.0]}))])</pre></div></div></div><div class=\"sk-serial\"><div class=\"sk-item sk-dashed-wrapped\"><div class=\"sk-label-container\"><div class=\"sk-label sk-toggleable\"><input class=\"sk-toggleable__control sk-hidden--visually\" id=\"sk-estimator-id-336\" type=\"checkbox\" ><label for=\"sk-estimator-id-336\" class=\"sk-toggleable__label sk-toggleable__label-arrow\">columntransformer: ColumnTransformer</label><div class=\"sk-toggleable__content\"><pre>ColumnTransformer(transformers=[(&#x27;one-hot-encoder&#x27;,\n",
       "                                 OneHotEncoder(handle_unknown=&#x27;ignore&#x27;),\n",
       "                                 [&#x27;MTRANS&#x27;]),\n",
       "                                (&#x27;passthrough&#x27;, &#x27;passthrough&#x27;,\n",
       "                                 [&#x27;Age&#x27;, &#x27;Height&#x27;, &#x27;Weight&#x27;,\n",
       "                                  &#x27;family_history_with_overweight&#x27;, &#x27;FAVC&#x27;,\n",
       "                                  &#x27;FCVC&#x27;, &#x27;NCP&#x27;, &#x27;SMOKE&#x27;, &#x27;CH2O&#x27;, &#x27;SCC&#x27;, &#x27;FAF&#x27;,\n",
       "                                  &#x27;TUE&#x27;, &#x27;Gender_Female&#x27;, &#x27;CALC_numerical&#x27;,\n",
       "                                  &#x27;CAEC_numerical&#x27;, &#x27;WH&#x27;])])</pre></div></div></div><div class=\"sk-parallel\"><div class=\"sk-parallel-item\"><div class=\"sk-item\"><div class=\"sk-label-container\"><div class=\"sk-label sk-toggleable\"><input class=\"sk-toggleable__control sk-hidden--visually\" id=\"sk-estimator-id-337\" type=\"checkbox\" ><label for=\"sk-estimator-id-337\" class=\"sk-toggleable__label sk-toggleable__label-arrow\">one-hot-encoder</label><div class=\"sk-toggleable__content\"><pre>[&#x27;MTRANS&#x27;]</pre></div></div></div><div class=\"sk-serial\"><div class=\"sk-item\"><div class=\"sk-estimator sk-toggleable\"><input class=\"sk-toggleable__control sk-hidden--visually\" id=\"sk-estimator-id-338\" type=\"checkbox\" ><label for=\"sk-estimator-id-338\" class=\"sk-toggleable__label sk-toggleable__label-arrow\">OneHotEncoder</label><div class=\"sk-toggleable__content\"><pre>OneHotEncoder(handle_unknown=&#x27;ignore&#x27;)</pre></div></div></div></div></div></div><div class=\"sk-parallel-item\"><div class=\"sk-item\"><div class=\"sk-label-container\"><div class=\"sk-label sk-toggleable\"><input class=\"sk-toggleable__control sk-hidden--visually\" id=\"sk-estimator-id-339\" type=\"checkbox\" ><label for=\"sk-estimator-id-339\" class=\"sk-toggleable__label sk-toggleable__label-arrow\">passthrough</label><div class=\"sk-toggleable__content\"><pre>[&#x27;Age&#x27;, &#x27;Height&#x27;, &#x27;Weight&#x27;, &#x27;family_history_with_overweight&#x27;, &#x27;FAVC&#x27;, &#x27;FCVC&#x27;, &#x27;NCP&#x27;, &#x27;SMOKE&#x27;, &#x27;CH2O&#x27;, &#x27;SCC&#x27;, &#x27;FAF&#x27;, &#x27;TUE&#x27;, &#x27;Gender_Female&#x27;, &#x27;CALC_numerical&#x27;, &#x27;CAEC_numerical&#x27;, &#x27;WH&#x27;]</pre></div></div></div><div class=\"sk-serial\"><div class=\"sk-item\"><div class=\"sk-estimator sk-toggleable\"><input class=\"sk-toggleable__control sk-hidden--visually\" id=\"sk-estimator-id-340\" type=\"checkbox\" ><label for=\"sk-estimator-id-340\" class=\"sk-toggleable__label sk-toggleable__label-arrow\">passthrough</label><div class=\"sk-toggleable__content\"><pre>passthrough</pre></div></div></div></div></div></div></div></div><div class=\"sk-item sk-dashed-wrapped\"><div class=\"sk-label-container\"><div class=\"sk-label sk-toggleable\"><input class=\"sk-toggleable__control sk-hidden--visually\" id=\"sk-estimator-id-341\" type=\"checkbox\" ><label for=\"sk-estimator-id-341\" class=\"sk-toggleable__label sk-toggleable__label-arrow\">gridsearchcv: GridSearchCV</label><div class=\"sk-toggleable__content\"><pre>GridSearchCV(cv=2,\n",
       "             estimator=XGBClassifier(base_score=None, booster=None,\n",
       "                                     callbacks=None, colsample_bylevel=None,\n",
       "                                     colsample_bynode=None,\n",
       "                                     colsample_bytree=None, device=None,\n",
       "                                     early_stopping_rounds=None,\n",
       "                                     enable_categorical=False, eval_metric=None,\n",
       "                                     feature_types=None, gamma=None,\n",
       "                                     grow_policy=None, importance_type=None,\n",
       "                                     interaction_constraints=None,\n",
       "                                     learning_rate=None,...\n",
       "                                     max_delta_step=None, max_depth=None,\n",
       "                                     max_leaves=None, min_child_weight=None,\n",
       "                                     missing=nan, monotone_constraints=None,\n",
       "                                     multi_strategy=None, n_estimators=None,\n",
       "                                     n_jobs=None, nthread=2,\n",
       "                                     num_parallel_tree=None, ...),\n",
       "             param_grid={&#x27;colsample_bytree&#x27;: [0.4, 0.6, 0.8],\n",
       "                         &#x27;learning_rate&#x27;: [0.01, 0.05, 0.1, 0.2],\n",
       "                         &#x27;max_depth&#x27;: [7, 8, 9], &#x27;min_child_weight&#x27;: [5, 7, 9],\n",
       "                         &#x27;subsample&#x27;: [0.7, 0.85, 1.0]})</pre></div></div></div><div class=\"sk-parallel\"><div class=\"sk-parallel-item\"><div class=\"sk-item\"><div class=\"sk-label-container\"><div class=\"sk-label sk-toggleable\"><input class=\"sk-toggleable__control sk-hidden--visually\" id=\"sk-estimator-id-342\" type=\"checkbox\" ><label for=\"sk-estimator-id-342\" class=\"sk-toggleable__label sk-toggleable__label-arrow\">estimator: XGBClassifier</label><div class=\"sk-toggleable__content\"><pre>XGBClassifier(base_score=None, booster=None, callbacks=None,\n",
       "              colsample_bylevel=None, colsample_bynode=None,\n",
       "              colsample_bytree=None, device=None, early_stopping_rounds=None,\n",
       "              enable_categorical=False, eval_metric=None, feature_types=None,\n",
       "              gamma=None, grow_policy=None, importance_type=None,\n",
       "              interaction_constraints=None, learning_rate=None, max_bin=None,\n",
       "              max_cat_threshold=None, max_cat_to_onehot=None,\n",
       "              max_delta_step=None, max_depth=None, max_leaves=None,\n",
       "              min_child_weight=None, missing=nan, monotone_constraints=None,\n",
       "              multi_strategy=None, n_estimators=None, n_jobs=None, nthread=2,\n",
       "              num_parallel_tree=None, ...)</pre></div></div></div><div class=\"sk-serial\"><div class=\"sk-item\"><div class=\"sk-estimator sk-toggleable\"><input class=\"sk-toggleable__control sk-hidden--visually\" id=\"sk-estimator-id-343\" type=\"checkbox\" ><label for=\"sk-estimator-id-343\" class=\"sk-toggleable__label sk-toggleable__label-arrow\">XGBClassifier</label><div class=\"sk-toggleable__content\"><pre>XGBClassifier(base_score=None, booster=None, callbacks=None,\n",
       "              colsample_bylevel=None, colsample_bynode=None,\n",
       "              colsample_bytree=None, device=None, early_stopping_rounds=None,\n",
       "              enable_categorical=False, eval_metric=None, feature_types=None,\n",
       "              gamma=None, grow_policy=None, importance_type=None,\n",
       "              interaction_constraints=None, learning_rate=None, max_bin=None,\n",
       "              max_cat_threshold=None, max_cat_to_onehot=None,\n",
       "              max_delta_step=None, max_depth=None, max_leaves=None,\n",
       "              min_child_weight=None, missing=nan, monotone_constraints=None,\n",
       "              multi_strategy=None, n_estimators=None, n_jobs=None, nthread=2,\n",
       "              num_parallel_tree=None, ...)</pre></div></div></div></div></div></div></div></div></div></div></div></div>"
      ],
      "text/plain": [
       "Pipeline(steps=[('columntransformer',\n",
       "                 ColumnTransformer(transformers=[('one-hot-encoder',\n",
       "                                                  OneHotEncoder(handle_unknown='ignore'),\n",
       "                                                  ['MTRANS']),\n",
       "                                                 ('passthrough', 'passthrough',\n",
       "                                                  ['Age', 'Height', 'Weight',\n",
       "                                                   'family_history_with_overweight',\n",
       "                                                   'FAVC', 'FCVC', 'NCP',\n",
       "                                                   'SMOKE', 'CH2O', 'SCC',\n",
       "                                                   'FAF', 'TUE',\n",
       "                                                   'Gender_Female',\n",
       "                                                   'CALC_numerical',\n",
       "                                                   'CAEC_numerical', 'WH'])])),\n",
       "                ('gridsearc...\n",
       "                                                      max_delta_step=None,\n",
       "                                                      max_depth=None,\n",
       "                                                      max_leaves=None,\n",
       "                                                      min_child_weight=None,\n",
       "                                                      missing=nan,\n",
       "                                                      monotone_constraints=None,\n",
       "                                                      multi_strategy=None,\n",
       "                                                      n_estimators=None,\n",
       "                                                      n_jobs=None, nthread=2,\n",
       "                                                      num_parallel_tree=None, ...),\n",
       "                              param_grid={'colsample_bytree': [0.4, 0.6, 0.8],\n",
       "                                          'learning_rate': [0.01, 0.05, 0.1,\n",
       "                                                            0.2],\n",
       "                                          'max_depth': [7, 8, 9],\n",
       "                                          'min_child_weight': [5, 7, 9],\n",
       "                                          'subsample': [0.7, 0.85, 1.0]}))])"
      ]
     },
     "execution_count": 880,
     "metadata": {},
     "output_type": "execute_result"
    }
   ],
   "source": [
    "model.fit(X_train, y_train)"
   ]
  },
  {
   "cell_type": "code",
   "execution_count": 881,
   "id": "ee30b6f2-cf13-4576-880a-4c5811c7c295",
   "metadata": {},
   "outputs": [
    {
     "data": {
      "text/html": [
       "<style>#sk-container-id-57 {color: black;background-color: white;}#sk-container-id-57 pre{padding: 0;}#sk-container-id-57 div.sk-toggleable {background-color: white;}#sk-container-id-57 label.sk-toggleable__label {cursor: pointer;display: block;width: 100%;margin-bottom: 0;padding: 0.3em;box-sizing: border-box;text-align: center;}#sk-container-id-57 label.sk-toggleable__label-arrow:before {content: \"▸\";float: left;margin-right: 0.25em;color: #696969;}#sk-container-id-57 label.sk-toggleable__label-arrow:hover:before {color: black;}#sk-container-id-57 div.sk-estimator:hover label.sk-toggleable__label-arrow:before {color: black;}#sk-container-id-57 div.sk-toggleable__content {max-height: 0;max-width: 0;overflow: hidden;text-align: left;background-color: #f0f8ff;}#sk-container-id-57 div.sk-toggleable__content pre {margin: 0.2em;color: black;border-radius: 0.25em;background-color: #f0f8ff;}#sk-container-id-57 input.sk-toggleable__control:checked~div.sk-toggleable__content {max-height: 200px;max-width: 100%;overflow: auto;}#sk-container-id-57 input.sk-toggleable__control:checked~label.sk-toggleable__label-arrow:before {content: \"▾\";}#sk-container-id-57 div.sk-estimator input.sk-toggleable__control:checked~label.sk-toggleable__label {background-color: #d4ebff;}#sk-container-id-57 div.sk-label input.sk-toggleable__control:checked~label.sk-toggleable__label {background-color: #d4ebff;}#sk-container-id-57 input.sk-hidden--visually {border: 0;clip: rect(1px 1px 1px 1px);clip: rect(1px, 1px, 1px, 1px);height: 1px;margin: -1px;overflow: hidden;padding: 0;position: absolute;width: 1px;}#sk-container-id-57 div.sk-estimator {font-family: monospace;background-color: #f0f8ff;border: 1px dotted black;border-radius: 0.25em;box-sizing: border-box;margin-bottom: 0.5em;}#sk-container-id-57 div.sk-estimator:hover {background-color: #d4ebff;}#sk-container-id-57 div.sk-parallel-item::after {content: \"\";width: 100%;border-bottom: 1px solid gray;flex-grow: 1;}#sk-container-id-57 div.sk-label:hover label.sk-toggleable__label {background-color: #d4ebff;}#sk-container-id-57 div.sk-serial::before {content: \"\";position: absolute;border-left: 1px solid gray;box-sizing: border-box;top: 0;bottom: 0;left: 50%;z-index: 0;}#sk-container-id-57 div.sk-serial {display: flex;flex-direction: column;align-items: center;background-color: white;padding-right: 0.2em;padding-left: 0.2em;position: relative;}#sk-container-id-57 div.sk-item {position: relative;z-index: 1;}#sk-container-id-57 div.sk-parallel {display: flex;align-items: stretch;justify-content: center;background-color: white;position: relative;}#sk-container-id-57 div.sk-item::before, #sk-container-id-57 div.sk-parallel-item::before {content: \"\";position: absolute;border-left: 1px solid gray;box-sizing: border-box;top: 0;bottom: 0;left: 50%;z-index: -1;}#sk-container-id-57 div.sk-parallel-item {display: flex;flex-direction: column;z-index: 1;position: relative;background-color: white;}#sk-container-id-57 div.sk-parallel-item:first-child::after {align-self: flex-end;width: 50%;}#sk-container-id-57 div.sk-parallel-item:last-child::after {align-self: flex-start;width: 50%;}#sk-container-id-57 div.sk-parallel-item:only-child::after {width: 0;}#sk-container-id-57 div.sk-dashed-wrapped {border: 1px dashed gray;margin: 0 0.4em 0.5em 0.4em;box-sizing: border-box;padding-bottom: 0.4em;background-color: white;}#sk-container-id-57 div.sk-label label {font-family: monospace;font-weight: bold;display: inline-block;line-height: 1.2em;}#sk-container-id-57 div.sk-label-container {text-align: center;}#sk-container-id-57 div.sk-container {/* jupyter's `normalize.less` sets `[hidden] { display: none; }` but bootstrap.min.css set `[hidden] { display: none !important; }` so we also need the `!important` here to be able to override the default hidden behavior on the sphinx rendered scikit-learn.org. See: https://github.com/scikit-learn/scikit-learn/issues/21755 */display: inline-block !important;position: relative;}#sk-container-id-57 div.sk-text-repr-fallback {display: none;}</style><div id=\"sk-container-id-57\" class=\"sk-top-container\"><div class=\"sk-text-repr-fallback\"><pre>XGBClassifier(base_score=None, booster=None, callbacks=None,\n",
       "              colsample_bylevel=None, colsample_bynode=None,\n",
       "              colsample_bytree=0.4, device=None, early_stopping_rounds=None,\n",
       "              enable_categorical=False, eval_metric=None, feature_types=None,\n",
       "              gamma=None, grow_policy=None, importance_type=None,\n",
       "              interaction_constraints=None, learning_rate=0.1, max_bin=None,\n",
       "              max_cat_threshold=None, max_cat_to_onehot=None,\n",
       "              max_delta_step=None, max_depth=9, max_leaves=None,\n",
       "              min_child_weight=5, missing=nan, monotone_constraints=None,\n",
       "              multi_strategy=None, n_estimators=None, n_jobs=None, nthread=2,\n",
       "              num_parallel_tree=None, ...)</pre><b>In a Jupyter environment, please rerun this cell to show the HTML representation or trust the notebook. <br />On GitHub, the HTML representation is unable to render, please try loading this page with nbviewer.org.</b></div><div class=\"sk-container\" hidden><div class=\"sk-item\"><div class=\"sk-estimator sk-toggleable\"><input class=\"sk-toggleable__control sk-hidden--visually\" id=\"sk-estimator-id-344\" type=\"checkbox\" checked><label for=\"sk-estimator-id-344\" class=\"sk-toggleable__label sk-toggleable__label-arrow\">XGBClassifier</label><div class=\"sk-toggleable__content\"><pre>XGBClassifier(base_score=None, booster=None, callbacks=None,\n",
       "              colsample_bylevel=None, colsample_bynode=None,\n",
       "              colsample_bytree=0.4, device=None, early_stopping_rounds=None,\n",
       "              enable_categorical=False, eval_metric=None, feature_types=None,\n",
       "              gamma=None, grow_policy=None, importance_type=None,\n",
       "              interaction_constraints=None, learning_rate=0.1, max_bin=None,\n",
       "              max_cat_threshold=None, max_cat_to_onehot=None,\n",
       "              max_delta_step=None, max_depth=9, max_leaves=None,\n",
       "              min_child_weight=5, missing=nan, monotone_constraints=None,\n",
       "              multi_strategy=None, n_estimators=None, n_jobs=None, nthread=2,\n",
       "              num_parallel_tree=None, ...)</pre></div></div></div></div></div>"
      ],
      "text/plain": [
       "XGBClassifier(base_score=None, booster=None, callbacks=None,\n",
       "              colsample_bylevel=None, colsample_bynode=None,\n",
       "              colsample_bytree=0.4, device=None, early_stopping_rounds=None,\n",
       "              enable_categorical=False, eval_metric=None, feature_types=None,\n",
       "              gamma=None, grow_policy=None, importance_type=None,\n",
       "              interaction_constraints=None, learning_rate=0.1, max_bin=None,\n",
       "              max_cat_threshold=None, max_cat_to_onehot=None,\n",
       "              max_delta_step=None, max_depth=9, max_leaves=None,\n",
       "              min_child_weight=5, missing=nan, monotone_constraints=None,\n",
       "              multi_strategy=None, n_estimators=None, n_jobs=None, nthread=2,\n",
       "              num_parallel_tree=None, ...)"
      ]
     },
     "execution_count": 881,
     "metadata": {},
     "output_type": "execute_result"
    }
   ],
   "source": [
    "gs.best_estimator_"
   ]
  },
  {
   "cell_type": "code",
   "execution_count": 882,
   "id": "f8abab05-7858-4fcb-af9a-278fede254f7",
   "metadata": {},
   "outputs": [],
   "source": [
    "best_params=gs.best_params_"
   ]
  },
  {
   "cell_type": "code",
   "execution_count": 883,
   "id": "1b3bb648-6b81-46c5-966f-25e0b2c74fab",
   "metadata": {},
   "outputs": [
    {
     "data": {
      "text/plain": [
       "{'colsample_bytree': 0.4,\n",
       " 'learning_rate': 0.1,\n",
       " 'max_depth': 9,\n",
       " 'min_child_weight': 5,\n",
       " 'subsample': 0.85}"
      ]
     },
     "execution_count": 883,
     "metadata": {},
     "output_type": "execute_result"
    }
   ],
   "source": [
    "best_params"
   ]
  },
  {
   "cell_type": "code",
   "execution_count": 884,
   "id": "21c672d4-df1a-4d6d-9036-5a8b8e6f25a2",
   "metadata": {},
   "outputs": [
    {
     "data": {
      "text/plain": [
       "0.9076739968261165"
      ]
     },
     "execution_count": 884,
     "metadata": {},
     "output_type": "execute_result"
    }
   ],
   "source": [
    "gs.best_score_"
   ]
  },
  {
   "cell_type": "code",
   "execution_count": 885,
   "id": "1b4897d3-f702-43e7-86b6-1cfad1e57d1a",
   "metadata": {},
   "outputs": [],
   "source": [
    "y_pred = model.predict(X_test)"
   ]
  },
  {
   "cell_type": "code",
   "execution_count": 886,
   "id": "3185313c-db27-4f43-9693-1e2e2c9664c1",
   "metadata": {
    "scrolled": true
   },
   "outputs": [
    {
     "data": {
      "text/plain": [
       "0.909762363519589"
      ]
     },
     "execution_count": 886,
     "metadata": {},
     "output_type": "execute_result"
    }
   ],
   "source": [
    "accuracy_score(y_pred, y_test)"
   ]
  },
  {
   "cell_type": "markdown",
   "id": "f5c35801-f995-45e1-8224-736791ef7efb",
   "metadata": {},
   "source": [
    "#### Fitting in Best Param from GridSearch"
   ]
  },
  {
   "cell_type": "code",
   "execution_count": 887,
   "id": "0d0fbdc6-047c-4ec2-975d-f5372621ce20",
   "metadata": {},
   "outputs": [],
   "source": [
    "from sklearn.feature_selection import SelectFromModel\n",
    "\n",
    "model_reg = make_pipeline(preprocessor, \n",
    "                      xgb.XGBClassifier(**best_params))"
   ]
  },
  {
   "cell_type": "code",
   "execution_count": 888,
   "id": "24390f35-77bb-4425-8e98-0f118726e95a",
   "metadata": {},
   "outputs": [
    {
     "data": {
      "text/html": [
       "<style>#sk-container-id-58 {color: black;background-color: white;}#sk-container-id-58 pre{padding: 0;}#sk-container-id-58 div.sk-toggleable {background-color: white;}#sk-container-id-58 label.sk-toggleable__label {cursor: pointer;display: block;width: 100%;margin-bottom: 0;padding: 0.3em;box-sizing: border-box;text-align: center;}#sk-container-id-58 label.sk-toggleable__label-arrow:before {content: \"▸\";float: left;margin-right: 0.25em;color: #696969;}#sk-container-id-58 label.sk-toggleable__label-arrow:hover:before {color: black;}#sk-container-id-58 div.sk-estimator:hover label.sk-toggleable__label-arrow:before {color: black;}#sk-container-id-58 div.sk-toggleable__content {max-height: 0;max-width: 0;overflow: hidden;text-align: left;background-color: #f0f8ff;}#sk-container-id-58 div.sk-toggleable__content pre {margin: 0.2em;color: black;border-radius: 0.25em;background-color: #f0f8ff;}#sk-container-id-58 input.sk-toggleable__control:checked~div.sk-toggleable__content {max-height: 200px;max-width: 100%;overflow: auto;}#sk-container-id-58 input.sk-toggleable__control:checked~label.sk-toggleable__label-arrow:before {content: \"▾\";}#sk-container-id-58 div.sk-estimator input.sk-toggleable__control:checked~label.sk-toggleable__label {background-color: #d4ebff;}#sk-container-id-58 div.sk-label input.sk-toggleable__control:checked~label.sk-toggleable__label {background-color: #d4ebff;}#sk-container-id-58 input.sk-hidden--visually {border: 0;clip: rect(1px 1px 1px 1px);clip: rect(1px, 1px, 1px, 1px);height: 1px;margin: -1px;overflow: hidden;padding: 0;position: absolute;width: 1px;}#sk-container-id-58 div.sk-estimator {font-family: monospace;background-color: #f0f8ff;border: 1px dotted black;border-radius: 0.25em;box-sizing: border-box;margin-bottom: 0.5em;}#sk-container-id-58 div.sk-estimator:hover {background-color: #d4ebff;}#sk-container-id-58 div.sk-parallel-item::after {content: \"\";width: 100%;border-bottom: 1px solid gray;flex-grow: 1;}#sk-container-id-58 div.sk-label:hover label.sk-toggleable__label {background-color: #d4ebff;}#sk-container-id-58 div.sk-serial::before {content: \"\";position: absolute;border-left: 1px solid gray;box-sizing: border-box;top: 0;bottom: 0;left: 50%;z-index: 0;}#sk-container-id-58 div.sk-serial {display: flex;flex-direction: column;align-items: center;background-color: white;padding-right: 0.2em;padding-left: 0.2em;position: relative;}#sk-container-id-58 div.sk-item {position: relative;z-index: 1;}#sk-container-id-58 div.sk-parallel {display: flex;align-items: stretch;justify-content: center;background-color: white;position: relative;}#sk-container-id-58 div.sk-item::before, #sk-container-id-58 div.sk-parallel-item::before {content: \"\";position: absolute;border-left: 1px solid gray;box-sizing: border-box;top: 0;bottom: 0;left: 50%;z-index: -1;}#sk-container-id-58 div.sk-parallel-item {display: flex;flex-direction: column;z-index: 1;position: relative;background-color: white;}#sk-container-id-58 div.sk-parallel-item:first-child::after {align-self: flex-end;width: 50%;}#sk-container-id-58 div.sk-parallel-item:last-child::after {align-self: flex-start;width: 50%;}#sk-container-id-58 div.sk-parallel-item:only-child::after {width: 0;}#sk-container-id-58 div.sk-dashed-wrapped {border: 1px dashed gray;margin: 0 0.4em 0.5em 0.4em;box-sizing: border-box;padding-bottom: 0.4em;background-color: white;}#sk-container-id-58 div.sk-label label {font-family: monospace;font-weight: bold;display: inline-block;line-height: 1.2em;}#sk-container-id-58 div.sk-label-container {text-align: center;}#sk-container-id-58 div.sk-container {/* jupyter's `normalize.less` sets `[hidden] { display: none; }` but bootstrap.min.css set `[hidden] { display: none !important; }` so we also need the `!important` here to be able to override the default hidden behavior on the sphinx rendered scikit-learn.org. See: https://github.com/scikit-learn/scikit-learn/issues/21755 */display: inline-block !important;position: relative;}#sk-container-id-58 div.sk-text-repr-fallback {display: none;}</style><div id=\"sk-container-id-58\" class=\"sk-top-container\"><div class=\"sk-text-repr-fallback\"><pre>Pipeline(steps=[(&#x27;columntransformer&#x27;,\n",
       "                 ColumnTransformer(transformers=[(&#x27;one-hot-encoder&#x27;,\n",
       "                                                  OneHotEncoder(handle_unknown=&#x27;ignore&#x27;),\n",
       "                                                  [&#x27;MTRANS&#x27;]),\n",
       "                                                 (&#x27;passthrough&#x27;, &#x27;passthrough&#x27;,\n",
       "                                                  [&#x27;Age&#x27;, &#x27;Height&#x27;, &#x27;Weight&#x27;,\n",
       "                                                   &#x27;family_history_with_overweight&#x27;,\n",
       "                                                   &#x27;FAVC&#x27;, &#x27;FCVC&#x27;, &#x27;NCP&#x27;,\n",
       "                                                   &#x27;SMOKE&#x27;, &#x27;CH2O&#x27;, &#x27;SCC&#x27;,\n",
       "                                                   &#x27;FAF&#x27;, &#x27;TUE&#x27;,\n",
       "                                                   &#x27;Gender_Female&#x27;,\n",
       "                                                   &#x27;CALC_numerical&#x27;,\n",
       "                                                   &#x27;CAEC_numerical&#x27;, &#x27;WH&#x27;])])),\n",
       "                (&#x27;xgbclassi...\n",
       "                               feature_types=None, gamma=None, grow_policy=None,\n",
       "                               importance_type=None,\n",
       "                               interaction_constraints=None, learning_rate=0.1,\n",
       "                               max_bin=None, max_cat_threshold=None,\n",
       "                               max_cat_to_onehot=None, max_delta_step=None,\n",
       "                               max_depth=9, max_leaves=None, min_child_weight=5,\n",
       "                               missing=nan, monotone_constraints=None,\n",
       "                               multi_strategy=None, n_estimators=None,\n",
       "                               n_jobs=None, num_parallel_tree=None,\n",
       "                               objective=&#x27;multi:softprob&#x27;, ...))])</pre><b>In a Jupyter environment, please rerun this cell to show the HTML representation or trust the notebook. <br />On GitHub, the HTML representation is unable to render, please try loading this page with nbviewer.org.</b></div><div class=\"sk-container\" hidden><div class=\"sk-item sk-dashed-wrapped\"><div class=\"sk-label-container\"><div class=\"sk-label sk-toggleable\"><input class=\"sk-toggleable__control sk-hidden--visually\" id=\"sk-estimator-id-345\" type=\"checkbox\" ><label for=\"sk-estimator-id-345\" class=\"sk-toggleable__label sk-toggleable__label-arrow\">Pipeline</label><div class=\"sk-toggleable__content\"><pre>Pipeline(steps=[(&#x27;columntransformer&#x27;,\n",
       "                 ColumnTransformer(transformers=[(&#x27;one-hot-encoder&#x27;,\n",
       "                                                  OneHotEncoder(handle_unknown=&#x27;ignore&#x27;),\n",
       "                                                  [&#x27;MTRANS&#x27;]),\n",
       "                                                 (&#x27;passthrough&#x27;, &#x27;passthrough&#x27;,\n",
       "                                                  [&#x27;Age&#x27;, &#x27;Height&#x27;, &#x27;Weight&#x27;,\n",
       "                                                   &#x27;family_history_with_overweight&#x27;,\n",
       "                                                   &#x27;FAVC&#x27;, &#x27;FCVC&#x27;, &#x27;NCP&#x27;,\n",
       "                                                   &#x27;SMOKE&#x27;, &#x27;CH2O&#x27;, &#x27;SCC&#x27;,\n",
       "                                                   &#x27;FAF&#x27;, &#x27;TUE&#x27;,\n",
       "                                                   &#x27;Gender_Female&#x27;,\n",
       "                                                   &#x27;CALC_numerical&#x27;,\n",
       "                                                   &#x27;CAEC_numerical&#x27;, &#x27;WH&#x27;])])),\n",
       "                (&#x27;xgbclassi...\n",
       "                               feature_types=None, gamma=None, grow_policy=None,\n",
       "                               importance_type=None,\n",
       "                               interaction_constraints=None, learning_rate=0.1,\n",
       "                               max_bin=None, max_cat_threshold=None,\n",
       "                               max_cat_to_onehot=None, max_delta_step=None,\n",
       "                               max_depth=9, max_leaves=None, min_child_weight=5,\n",
       "                               missing=nan, monotone_constraints=None,\n",
       "                               multi_strategy=None, n_estimators=None,\n",
       "                               n_jobs=None, num_parallel_tree=None,\n",
       "                               objective=&#x27;multi:softprob&#x27;, ...))])</pre></div></div></div><div class=\"sk-serial\"><div class=\"sk-item sk-dashed-wrapped\"><div class=\"sk-label-container\"><div class=\"sk-label sk-toggleable\"><input class=\"sk-toggleable__control sk-hidden--visually\" id=\"sk-estimator-id-346\" type=\"checkbox\" ><label for=\"sk-estimator-id-346\" class=\"sk-toggleable__label sk-toggleable__label-arrow\">columntransformer: ColumnTransformer</label><div class=\"sk-toggleable__content\"><pre>ColumnTransformer(transformers=[(&#x27;one-hot-encoder&#x27;,\n",
       "                                 OneHotEncoder(handle_unknown=&#x27;ignore&#x27;),\n",
       "                                 [&#x27;MTRANS&#x27;]),\n",
       "                                (&#x27;passthrough&#x27;, &#x27;passthrough&#x27;,\n",
       "                                 [&#x27;Age&#x27;, &#x27;Height&#x27;, &#x27;Weight&#x27;,\n",
       "                                  &#x27;family_history_with_overweight&#x27;, &#x27;FAVC&#x27;,\n",
       "                                  &#x27;FCVC&#x27;, &#x27;NCP&#x27;, &#x27;SMOKE&#x27;, &#x27;CH2O&#x27;, &#x27;SCC&#x27;, &#x27;FAF&#x27;,\n",
       "                                  &#x27;TUE&#x27;, &#x27;Gender_Female&#x27;, &#x27;CALC_numerical&#x27;,\n",
       "                                  &#x27;CAEC_numerical&#x27;, &#x27;WH&#x27;])])</pre></div></div></div><div class=\"sk-parallel\"><div class=\"sk-parallel-item\"><div class=\"sk-item\"><div class=\"sk-label-container\"><div class=\"sk-label sk-toggleable\"><input class=\"sk-toggleable__control sk-hidden--visually\" id=\"sk-estimator-id-347\" type=\"checkbox\" ><label for=\"sk-estimator-id-347\" class=\"sk-toggleable__label sk-toggleable__label-arrow\">one-hot-encoder</label><div class=\"sk-toggleable__content\"><pre>[&#x27;MTRANS&#x27;]</pre></div></div></div><div class=\"sk-serial\"><div class=\"sk-item\"><div class=\"sk-estimator sk-toggleable\"><input class=\"sk-toggleable__control sk-hidden--visually\" id=\"sk-estimator-id-348\" type=\"checkbox\" ><label for=\"sk-estimator-id-348\" class=\"sk-toggleable__label sk-toggleable__label-arrow\">OneHotEncoder</label><div class=\"sk-toggleable__content\"><pre>OneHotEncoder(handle_unknown=&#x27;ignore&#x27;)</pre></div></div></div></div></div></div><div class=\"sk-parallel-item\"><div class=\"sk-item\"><div class=\"sk-label-container\"><div class=\"sk-label sk-toggleable\"><input class=\"sk-toggleable__control sk-hidden--visually\" id=\"sk-estimator-id-349\" type=\"checkbox\" ><label for=\"sk-estimator-id-349\" class=\"sk-toggleable__label sk-toggleable__label-arrow\">passthrough</label><div class=\"sk-toggleable__content\"><pre>[&#x27;Age&#x27;, &#x27;Height&#x27;, &#x27;Weight&#x27;, &#x27;family_history_with_overweight&#x27;, &#x27;FAVC&#x27;, &#x27;FCVC&#x27;, &#x27;NCP&#x27;, &#x27;SMOKE&#x27;, &#x27;CH2O&#x27;, &#x27;SCC&#x27;, &#x27;FAF&#x27;, &#x27;TUE&#x27;, &#x27;Gender_Female&#x27;, &#x27;CALC_numerical&#x27;, &#x27;CAEC_numerical&#x27;, &#x27;WH&#x27;]</pre></div></div></div><div class=\"sk-serial\"><div class=\"sk-item\"><div class=\"sk-estimator sk-toggleable\"><input class=\"sk-toggleable__control sk-hidden--visually\" id=\"sk-estimator-id-350\" type=\"checkbox\" ><label for=\"sk-estimator-id-350\" class=\"sk-toggleable__label sk-toggleable__label-arrow\">passthrough</label><div class=\"sk-toggleable__content\"><pre>passthrough</pre></div></div></div></div></div></div></div></div><div class=\"sk-item\"><div class=\"sk-estimator sk-toggleable\"><input class=\"sk-toggleable__control sk-hidden--visually\" id=\"sk-estimator-id-351\" type=\"checkbox\" ><label for=\"sk-estimator-id-351\" class=\"sk-toggleable__label sk-toggleable__label-arrow\">XGBClassifier</label><div class=\"sk-toggleable__content\"><pre>XGBClassifier(base_score=None, booster=None, callbacks=None,\n",
       "              colsample_bylevel=None, colsample_bynode=None,\n",
       "              colsample_bytree=0.4, device=None, early_stopping_rounds=None,\n",
       "              enable_categorical=False, eval_metric=None, feature_types=None,\n",
       "              gamma=None, grow_policy=None, importance_type=None,\n",
       "              interaction_constraints=None, learning_rate=0.1, max_bin=None,\n",
       "              max_cat_threshold=None, max_cat_to_onehot=None,\n",
       "              max_delta_step=None, max_depth=9, max_leaves=None,\n",
       "              min_child_weight=5, missing=nan, monotone_constraints=None,\n",
       "              multi_strategy=None, n_estimators=None, n_jobs=None,\n",
       "              num_parallel_tree=None, objective=&#x27;multi:softprob&#x27;, ...)</pre></div></div></div></div></div></div></div>"
      ],
      "text/plain": [
       "Pipeline(steps=[('columntransformer',\n",
       "                 ColumnTransformer(transformers=[('one-hot-encoder',\n",
       "                                                  OneHotEncoder(handle_unknown='ignore'),\n",
       "                                                  ['MTRANS']),\n",
       "                                                 ('passthrough', 'passthrough',\n",
       "                                                  ['Age', 'Height', 'Weight',\n",
       "                                                   'family_history_with_overweight',\n",
       "                                                   'FAVC', 'FCVC', 'NCP',\n",
       "                                                   'SMOKE', 'CH2O', 'SCC',\n",
       "                                                   'FAF', 'TUE',\n",
       "                                                   'Gender_Female',\n",
       "                                                   'CALC_numerical',\n",
       "                                                   'CAEC_numerical', 'WH'])])),\n",
       "                ('xgbclassi...\n",
       "                               feature_types=None, gamma=None, grow_policy=None,\n",
       "                               importance_type=None,\n",
       "                               interaction_constraints=None, learning_rate=0.1,\n",
       "                               max_bin=None, max_cat_threshold=None,\n",
       "                               max_cat_to_onehot=None, max_delta_step=None,\n",
       "                               max_depth=9, max_leaves=None, min_child_weight=5,\n",
       "                               missing=nan, monotone_constraints=None,\n",
       "                               multi_strategy=None, n_estimators=None,\n",
       "                               n_jobs=None, num_parallel_tree=None,\n",
       "                               objective='multi:softprob', ...))])"
      ]
     },
     "execution_count": 888,
     "metadata": {},
     "output_type": "execute_result"
    }
   ],
   "source": [
    "model_reg.fit(X_train, y_train)"
   ]
  },
  {
   "cell_type": "code",
   "execution_count": 889,
   "id": "a3e88608-dd17-4236-8b5c-40d38b5034a4",
   "metadata": {},
   "outputs": [
    {
     "name": "stdout",
     "output_type": "stream",
     "text": [
      "Feature Importance:\n",
      "Feature 1: MTRANS_Automobile - Importance: 0.031315550208091736\n",
      "Feature 2: MTRANS_Bike - Importance: 0.0\n",
      "Feature 3: MTRANS_Motorbike - Importance: 0.0\n",
      "Feature 4: MTRANS_Public_Transportation - Importance: 0.016656074672937393\n",
      "Feature 5: MTRANS_Walking - Importance: 0.010904516093432903\n",
      "Feature 6: numerical_Age - Importance: 0.034129053354263306\n",
      "Feature 7: numerical_Height - Importance: 0.024195274338126183\n",
      "Feature 8: numerical_Weight - Importance: 0.11323197185993195\n",
      "Feature 9: numerical_family_history_with_overweight - Importance: 0.053490862250328064\n",
      "Feature 10: numerical_FAVC - Importance: 0.03879859670996666\n",
      "Feature 11: numerical_FCVC - Importance: 0.07468608021736145\n",
      "Feature 12: numerical_NCP - Importance: 0.0245345588773489\n",
      "Feature 13: numerical_SMOKE - Importance: 0.025435645133256912\n",
      "Feature 14: numerical_CH2O - Importance: 0.02712598629295826\n",
      "Feature 15: numerical_SCC - Importance: 0.03537195548415184\n",
      "Feature 16: numerical_FAF - Importance: 0.01891106367111206\n",
      "Feature 17: numerical_TUE - Importance: 0.025565987452864647\n",
      "Feature 18: numerical_Gender_Female - Importance: 0.22423090040683746\n",
      "Feature 19: numerical_CALC_numerical - Importance: 0.030069850385189056\n",
      "Feature 20: numerical_CAEC_numerical - Importance: 0.04387521743774414\n",
      "Feature 21: numerical_WH - Importance: 0.14747090637683868\n"
     ]
    }
   ],
   "source": [
    "# col names\n",
    "one_hot_encoder_feature_names = model_reg.named_steps['columntransformer'].named_transformers_['one-hot-encoder'].get_feature_names_out(input_features=['MTRANS'])\n",
    "all_col_names = one_hot_encoder_feature_names.tolist() + [f'numerical_{idx}' for idx in numerical_columns]  # Convert numerical column indices to strings\n",
    "\n",
    "feature_importances = model_reg.steps[-1][1].feature_importances_\n",
    "\n",
    "# Print feature importance\n",
    "print(\"Feature Importance:\")\n",
    "for i, (col_name, importance) in enumerate(zip(all_col_names, feature_importances)):\n",
    "    print(f\"Feature {i+1}: {col_name} - Importance: {importance}\")"
   ]
  },
  {
   "cell_type": "code",
   "execution_count": 890,
   "id": "9303937c-2101-4e5f-8150-ee6d997179ab",
   "metadata": {},
   "outputs": [
    {
     "data": {
      "text/plain": [
       "0.909762363519589"
      ]
     },
     "execution_count": 890,
     "metadata": {},
     "output_type": "execute_result"
    }
   ],
   "source": [
    "model_reg.score(X_test, y_test)"
   ]
  },
  {
   "cell_type": "markdown",
   "id": "b0350602-c77a-421d-b3c2-ac359bb428cb",
   "metadata": {},
   "source": [
    "### Visualization"
   ]
  },
  {
   "cell_type": "code",
   "execution_count": 828,
   "id": "20ce3dd5-2a99-4210-bdbc-c6beedafeb95",
   "metadata": {},
   "outputs": [],
   "source": [
    "import matplotlib.pyplot as plt"
   ]
  },
  {
   "cell_type": "code",
   "execution_count": 829,
   "id": "f46f7b36-6903-4d2c-91ef-e870855f548f",
   "metadata": {},
   "outputs": [
    {
     "data": {
      "image/png": "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\n",
      "text/plain": [
       "<Figure size 1000x600 with 1 Axes>"
      ]
     },
     "metadata": {},
     "output_type": "display_data"
    }
   ],
   "source": [
    "# Plot bar chart\n",
    "plt.figure(figsize=(10, 6))\n",
    "plt.barh(all_col_names, feature_importances, color='skyblue')\n",
    "plt.xlabel('Importance')\n",
    "plt.ylabel('Feature')\n",
    "plt.title('Feature Importance')\n",
    "plt.gca().invert_yaxis()\n",
    "plt.show()"
   ]
  },
  {
   "cell_type": "code",
   "execution_count": 830,
   "id": "c9a3f41f-a630-417a-81cd-6e89023a245e",
   "metadata": {},
   "outputs": [],
   "source": [
    "test_result=X_test.copy()"
   ]
  },
  {
   "cell_type": "code",
   "execution_count": 831,
   "id": "a47e4a00-6717-4e15-a9b0-940f50ea849f",
   "metadata": {},
   "outputs": [],
   "source": [
    "test_result['pred']= y_pred\n",
    "test_result['actual']= y_test"
   ]
  },
  {
   "cell_type": "code",
   "execution_count": 832,
   "id": "093062ff-370a-4de5-b9b4-daf400031a1f",
   "metadata": {},
   "outputs": [],
   "source": [
    "test_result['corr']=np.where(test_result['pred']==test_result['actual'], 1, 0)"
   ]
  },
  {
   "cell_type": "code",
   "execution_count": 833,
   "id": "b832ca5a-a160-4597-8528-eaeebfe6b999",
   "metadata": {},
   "outputs": [],
   "source": [
    "test_result['actual_le']=le.inverse_transform(test_result['actual'])"
   ]
  },
  {
   "cell_type": "code",
   "execution_count": 546,
   "id": "59d50db9-9c4b-4477-b836-0fb56bf08b73",
   "metadata": {},
   "outputs": [],
   "source": [
    "test_result.to_clipboard()"
   ]
  },
  {
   "cell_type": "code",
   "execution_count": 547,
   "id": "3a68443e-0889-4d1b-9420-519b0d3bfeda",
   "metadata": {},
   "outputs": [],
   "source": [
    "test_result[test_result['pred']!=test_result['actual']].to_clipboard()"
   ]
  },
  {
   "cell_type": "markdown",
   "id": "dc1e74fc-b4c3-43aa-b751-ba4cda857408",
   "metadata": {},
   "source": [
    "https://www.csie.ntu.edu.tw/~cjlin/papers/ranksvm/ranksvml2.pdf"
   ]
  },
  {
   "cell_type": "markdown",
   "id": "7d6a5f28-ce0e-4771-9ffd-dceb4ef942b0",
   "metadata": {},
   "source": [
    "### Ordinal Decision Tree"
   ]
  },
  {
   "cell_type": "code",
   "execution_count": 705,
   "id": "e16ad8f0-9d29-4ec8-aa83-6a85931fce92",
   "metadata": {},
   "outputs": [],
   "source": [
    "from sklearn.base import clone\n",
    "import numpy as np\n",
    "# Source:\n",
    "# 1. https://stackoverflow.com/questions/66486947/how-to-use-ordinal-classifier\n",
    "# 2. https://towardsdatascience.com/simple-trick-to-train-an-ordinal-regression-with-any-classifier-6911183d2a3c\n",
    "\n",
    "\n",
    "class OrdinalClassifier():\n",
    "\n",
    "    def __init__(self, clf):\n",
    "        self.clf = clf\n",
    "        self.clfs = {}\n",
    "\n",
    "    def fit(self, X, y):\n",
    "        self.unique_class = np.sort(np.unique(y))\n",
    "        if self.unique_class.shape[0] > 2:\n",
    "            for i in range(self.unique_class.shape[0] - 1):\n",
    "                # for each k - 1 ordinal value we fit a binary classification problem\n",
    "                binary_y = (y > self.unique_class[i]).astype(np.uint8)\n",
    "                clf = clone(self.clf)\n",
    "                clf.fit(X, binary_y)\n",
    "                self.clfs[i] = clf\n",
    "\n",
    "    def predict_proba(self, X):\n",
    "        clfs_predict = {k: v.predict_proba(X) for k, v in self.clfs.items()}\n",
    "        predicted = []\n",
    "        for i, y in enumerate(self.unique_class):\n",
    "            if i == 0:\n",
    "                # V1 = 1 - Pr(y > V1)\n",
    "                predicted.append(1 - clfs_predict[i][:, 1])\n",
    "            elif y in clfs_predict:\n",
    "                # Vi = Pr(y > Vi-1) - Pr(y > Vi)\n",
    "                predicted.append(clfs_predict[i - 1][:, 1] - clfs_predict[i][:, 1])\n",
    "            else:\n",
    "                # Vk = Pr(y > Vk-1)\n",
    "                predicted.append(clfs_predict[i - 1][:, 1])\n",
    "        return np.vstack(predicted).T\n",
    "\n",
    "    def predict(self, X):\n",
    "        return self.unique_class[np.argmax(self.predict_proba(X), axis=1)]\n",
    "\n",
    "\n",
    "    def score(self, X, y):\n",
    "        # Get predictions\n",
    "        y_pred = self.predict(X)\n",
    "        \n",
    "        # Calculate accuracy\n",
    "        accuracy = (y_pred == y).mean()\n",
    "        \n",
    "        return accuracy\n",
    "    def get_params(self, deep=True):\n",
    "        return {'clf': self.clf}\n",
    "\n",
    "    def set_params(self, **params):\n",
    "        self.clf.set_params(**params)\n",
    "        return self"
   ]
  },
  {
   "cell_type": "code",
   "execution_count": 706,
   "id": "d8a2a946-fa37-4489-9cfc-fb4394211c0b",
   "metadata": {},
   "outputs": [
    {
     "data": {
      "text/plain": [
       "0     Overweight_Level_II\n",
       "1           Normal_Weight\n",
       "2     Insufficient_Weight\n",
       "3        Obesity_Type_III\n",
       "6         Obesity_Type_II\n",
       "8      Overweight_Level_I\n",
       "12         Obesity_Type_I\n",
       "Name: NObeyesdad, dtype: object"
      ]
     },
     "execution_count": 706,
     "metadata": {},
     "output_type": "execute_result"
    }
   ],
   "source": [
    "df['NObeyesdad'].drop_duplicates()"
   ]
  },
  {
   "cell_type": "code",
   "execution_count": 707,
   "id": "cbb62e73-4653-4d12-96f2-26c1cc100506",
   "metadata": {},
   "outputs": [],
   "source": [
    "obmapper = {'Insufficient_Weight': 0,\n",
    "           'Normal_Weight': 1, \n",
    "           'Overweight_Level_I': 2,\n",
    "           'Overweight_Level_II': 3, \n",
    "           'Obesity_Type_I': 4,\n",
    "           'Obesity_Type_II': 5,\n",
    "           'Obesity_Type_III': 6}"
   ]
  },
  {
   "cell_type": "code",
   "execution_count": 708,
   "id": "f0ff5924-ba4d-441f-a22a-a83316189cd6",
   "metadata": {},
   "outputs": [],
   "source": [
    "df['NObeyesdad_num']=df['NObeyesdad'].replace(obmapper)"
   ]
  },
  {
   "cell_type": "markdown",
   "id": "57cdb775-7892-4290-972c-014fa86930fc",
   "metadata": {},
   "source": [
    "Feature Engineering"
   ]
  },
  {
   "cell_type": "markdown",
   "id": "14203b0f-7657-4b44-82a7-32e9cee35ba7",
   "metadata": {},
   "source": [
    "### Decision Tree"
   ]
  },
  {
   "cell_type": "code",
   "execution_count": 709,
   "id": "8b6d2b81-5636-422c-b845-eb9393ed625d",
   "metadata": {},
   "outputs": [],
   "source": [
    "from sklearn.tree import DecisionTreeClassifier"
   ]
  },
  {
   "cell_type": "code",
   "execution_count": 710,
   "id": "7560e08b-4e28-4d92-af5a-14501bf22397",
   "metadata": {},
   "outputs": [],
   "source": [
    "sss = StratifiedShuffleSplit(n_splits=3, test_size=0.15, random_state=30)"
   ]
  },
  {
   "cell_type": "code",
   "execution_count": 711,
   "id": "561ef54b-7b6f-4ced-a09a-79c9dbb6d053",
   "metadata": {},
   "outputs": [],
   "source": [
    "df['WH']=df['Weight']/df['Height']"
   ]
  },
  {
   "cell_type": "code",
   "execution_count": 712,
   "id": "dbbd7000-d2df-4a57-9d61-0b896e9beadd",
   "metadata": {},
   "outputs": [],
   "source": [
    "y=df['NObeyesdad_num']\n",
    "X=df.loc[:, ~df.columns.isin(['id', 'target', 'NObeyesdad', 'NObeyesdad_num'])] # 'Weight', 'Height'"
   ]
  },
  {
   "cell_type": "code",
   "execution_count": 713,
   "id": "90eebe04-a799-46d6-abe2-3b7ebb87b5ed",
   "metadata": {},
   "outputs": [],
   "source": [
    "column_names = df.columns"
   ]
  },
  {
   "cell_type": "code",
   "execution_count": 714,
   "id": "9994989f-3637-4119-a649-146f7051d5ae",
   "metadata": {},
   "outputs": [],
   "source": [
    "preprocessor = ColumnTransformer(\n",
    "    [\n",
    "        (\"one-hot-encoder\", categorical_preprocessor, ['MTRANS']),\n",
    "        (\"passthrough\", 'passthrough', numerical_columns),\n",
    "    ]\n",
    ")"
   ]
  },
  {
   "cell_type": "code",
   "execution_count": 715,
   "id": "c2a4c3a1-ab85-4ccc-8181-b72f0c64b07b",
   "metadata": {},
   "outputs": [],
   "source": [
    "for train,test in sss.split(X,y):     #this will splits the index\n",
    "    X_train = X.iloc[train]\n",
    "    y_train = y.iloc[train]\n",
    "    X_test = X.iloc[test]\n",
    "    y_test = y.iloc[test]"
   ]
  },
  {
   "cell_type": "code",
   "execution_count": 716,
   "id": "fab82f02-c4f8-4086-8d95-a7bc98ea3503",
   "metadata": {},
   "outputs": [],
   "source": [
    "numerical_columns_selector = selector(dtype_exclude=object)\n",
    "categorical_columns_selector = selector(dtype_include=object)\n",
    "\n",
    "numerical_columns = numerical_columns_selector(X_train)\n",
    "categorical_columns = categorical_columns_selector(X_train)"
   ]
  },
  {
   "cell_type": "code",
   "execution_count": 717,
   "id": "adc89f86-18a8-478d-89da-b29293f695f0",
   "metadata": {},
   "outputs": [],
   "source": [
    "categorical_preprocessor = OneHotEncoder(handle_unknown=\"ignore\")"
   ]
  },
  {
   "cell_type": "code",
   "execution_count": 733,
   "id": "56e1394d-7fc0-4669-b006-1e05540c0f7b",
   "metadata": {},
   "outputs": [],
   "source": [
    "params = {\n",
    "        'min_samples_split': np.linspace(0.1, 0.5, 5, endpoint=True),\n",
    "        'max_depth': [ 3, 5, 7, 9],\n",
    "        'min_samples_leaf': [1, 3, 5, 7, 9]\n",
    "\n",
    "        }"
   ]
  },
  {
   "cell_type": "code",
   "execution_count": 734,
   "id": "3c8a3b67-0e12-4ae4-a94f-a1b6508997f0",
   "metadata": {},
   "outputs": [],
   "source": [
    "gs=GridSearchCV(OrdinalClassifier(DecisionTreeClassifier()),\n",
    "                      param_grid=params,\n",
    "                      cv=2,\n",
    "                      refit=True)"
   ]
  },
  {
   "cell_type": "code",
   "execution_count": 735,
   "id": "3e79dbaa-cdc8-4988-bcdf-9950794433de",
   "metadata": {},
   "outputs": [],
   "source": [
    "model = make_pipeline(preprocessor, \n",
    "                      gs)"
   ]
  },
  {
   "cell_type": "code",
   "execution_count": 736,
   "id": "7d6e0976-ecbf-4a72-9143-0b4fecfd5040",
   "metadata": {},
   "outputs": [
    {
     "data": {
      "text/html": [
       "<style>#sk-container-id-49 {color: black;background-color: white;}#sk-container-id-49 pre{padding: 0;}#sk-container-id-49 div.sk-toggleable {background-color: white;}#sk-container-id-49 label.sk-toggleable__label {cursor: pointer;display: block;width: 100%;margin-bottom: 0;padding: 0.3em;box-sizing: border-box;text-align: center;}#sk-container-id-49 label.sk-toggleable__label-arrow:before {content: \"▸\";float: left;margin-right: 0.25em;color: #696969;}#sk-container-id-49 label.sk-toggleable__label-arrow:hover:before {color: black;}#sk-container-id-49 div.sk-estimator:hover label.sk-toggleable__label-arrow:before {color: black;}#sk-container-id-49 div.sk-toggleable__content {max-height: 0;max-width: 0;overflow: hidden;text-align: left;background-color: #f0f8ff;}#sk-container-id-49 div.sk-toggleable__content pre {margin: 0.2em;color: black;border-radius: 0.25em;background-color: #f0f8ff;}#sk-container-id-49 input.sk-toggleable__control:checked~div.sk-toggleable__content {max-height: 200px;max-width: 100%;overflow: auto;}#sk-container-id-49 input.sk-toggleable__control:checked~label.sk-toggleable__label-arrow:before {content: \"▾\";}#sk-container-id-49 div.sk-estimator input.sk-toggleable__control:checked~label.sk-toggleable__label {background-color: #d4ebff;}#sk-container-id-49 div.sk-label input.sk-toggleable__control:checked~label.sk-toggleable__label {background-color: #d4ebff;}#sk-container-id-49 input.sk-hidden--visually {border: 0;clip: rect(1px 1px 1px 1px);clip: rect(1px, 1px, 1px, 1px);height: 1px;margin: -1px;overflow: hidden;padding: 0;position: absolute;width: 1px;}#sk-container-id-49 div.sk-estimator {font-family: monospace;background-color: #f0f8ff;border: 1px dotted black;border-radius: 0.25em;box-sizing: border-box;margin-bottom: 0.5em;}#sk-container-id-49 div.sk-estimator:hover {background-color: #d4ebff;}#sk-container-id-49 div.sk-parallel-item::after {content: \"\";width: 100%;border-bottom: 1px solid gray;flex-grow: 1;}#sk-container-id-49 div.sk-label:hover label.sk-toggleable__label {background-color: #d4ebff;}#sk-container-id-49 div.sk-serial::before {content: \"\";position: absolute;border-left: 1px solid gray;box-sizing: border-box;top: 0;bottom: 0;left: 50%;z-index: 0;}#sk-container-id-49 div.sk-serial {display: flex;flex-direction: column;align-items: center;background-color: white;padding-right: 0.2em;padding-left: 0.2em;position: relative;}#sk-container-id-49 div.sk-item {position: relative;z-index: 1;}#sk-container-id-49 div.sk-parallel {display: flex;align-items: stretch;justify-content: center;background-color: white;position: relative;}#sk-container-id-49 div.sk-item::before, #sk-container-id-49 div.sk-parallel-item::before {content: \"\";position: absolute;border-left: 1px solid gray;box-sizing: border-box;top: 0;bottom: 0;left: 50%;z-index: -1;}#sk-container-id-49 div.sk-parallel-item {display: flex;flex-direction: column;z-index: 1;position: relative;background-color: white;}#sk-container-id-49 div.sk-parallel-item:first-child::after {align-self: flex-end;width: 50%;}#sk-container-id-49 div.sk-parallel-item:last-child::after {align-self: flex-start;width: 50%;}#sk-container-id-49 div.sk-parallel-item:only-child::after {width: 0;}#sk-container-id-49 div.sk-dashed-wrapped {border: 1px dashed gray;margin: 0 0.4em 0.5em 0.4em;box-sizing: border-box;padding-bottom: 0.4em;background-color: white;}#sk-container-id-49 div.sk-label label {font-family: monospace;font-weight: bold;display: inline-block;line-height: 1.2em;}#sk-container-id-49 div.sk-label-container {text-align: center;}#sk-container-id-49 div.sk-container {/* jupyter's `normalize.less` sets `[hidden] { display: none; }` but bootstrap.min.css set `[hidden] { display: none !important; }` so we also need the `!important` here to be able to override the default hidden behavior on the sphinx rendered scikit-learn.org. See: https://github.com/scikit-learn/scikit-learn/issues/21755 */display: inline-block !important;position: relative;}#sk-container-id-49 div.sk-text-repr-fallback {display: none;}</style><div id=\"sk-container-id-49\" class=\"sk-top-container\"><div class=\"sk-text-repr-fallback\"><pre>Pipeline(steps=[(&#x27;columntransformer&#x27;,\n",
       "                 ColumnTransformer(transformers=[(&#x27;one-hot-encoder&#x27;,\n",
       "                                                  OneHotEncoder(handle_unknown=&#x27;ignore&#x27;),\n",
       "                                                  [&#x27;MTRANS&#x27;]),\n",
       "                                                 (&#x27;passthrough&#x27;, &#x27;passthrough&#x27;,\n",
       "                                                  [&#x27;Age&#x27;, &#x27;Height&#x27;, &#x27;Weight&#x27;,\n",
       "                                                   &#x27;family_history_with_overweight&#x27;,\n",
       "                                                   &#x27;FAVC&#x27;, &#x27;FCVC&#x27;, &#x27;NCP&#x27;,\n",
       "                                                   &#x27;SMOKE&#x27;, &#x27;CH2O&#x27;, &#x27;SCC&#x27;,\n",
       "                                                   &#x27;FAF&#x27;, &#x27;TUE&#x27;,\n",
       "                                                   &#x27;Gender_Female&#x27;,\n",
       "                                                   &#x27;CALC_numerical&#x27;,\n",
       "                                                   &#x27;CAEC_numerical&#x27;, &#x27;WH&#x27;])])),\n",
       "                (&#x27;gridsearchcv&#x27;,\n",
       "                 GridSearchCV(cv=2,\n",
       "                              estimator=&lt;__main__.OrdinalClassifier object at 0x12c880400&gt;,\n",
       "                              param_grid={&#x27;max_depth&#x27;: [3, 5, 7, 9],\n",
       "                                          &#x27;min_samples_leaf&#x27;: [1, 3, 5, 7, 9],\n",
       "                                          &#x27;min_samples_split&#x27;: array([0.1, 0.2, 0.3, 0.4, 0.5])}))])</pre><b>In a Jupyter environment, please rerun this cell to show the HTML representation or trust the notebook. <br />On GitHub, the HTML representation is unable to render, please try loading this page with nbviewer.org.</b></div><div class=\"sk-container\" hidden><div class=\"sk-item sk-dashed-wrapped\"><div class=\"sk-label-container\"><div class=\"sk-label sk-toggleable\"><input class=\"sk-toggleable__control sk-hidden--visually\" id=\"sk-estimator-id-286\" type=\"checkbox\" ><label for=\"sk-estimator-id-286\" class=\"sk-toggleable__label sk-toggleable__label-arrow\">Pipeline</label><div class=\"sk-toggleable__content\"><pre>Pipeline(steps=[(&#x27;columntransformer&#x27;,\n",
       "                 ColumnTransformer(transformers=[(&#x27;one-hot-encoder&#x27;,\n",
       "                                                  OneHotEncoder(handle_unknown=&#x27;ignore&#x27;),\n",
       "                                                  [&#x27;MTRANS&#x27;]),\n",
       "                                                 (&#x27;passthrough&#x27;, &#x27;passthrough&#x27;,\n",
       "                                                  [&#x27;Age&#x27;, &#x27;Height&#x27;, &#x27;Weight&#x27;,\n",
       "                                                   &#x27;family_history_with_overweight&#x27;,\n",
       "                                                   &#x27;FAVC&#x27;, &#x27;FCVC&#x27;, &#x27;NCP&#x27;,\n",
       "                                                   &#x27;SMOKE&#x27;, &#x27;CH2O&#x27;, &#x27;SCC&#x27;,\n",
       "                                                   &#x27;FAF&#x27;, &#x27;TUE&#x27;,\n",
       "                                                   &#x27;Gender_Female&#x27;,\n",
       "                                                   &#x27;CALC_numerical&#x27;,\n",
       "                                                   &#x27;CAEC_numerical&#x27;, &#x27;WH&#x27;])])),\n",
       "                (&#x27;gridsearchcv&#x27;,\n",
       "                 GridSearchCV(cv=2,\n",
       "                              estimator=&lt;__main__.OrdinalClassifier object at 0x12c880400&gt;,\n",
       "                              param_grid={&#x27;max_depth&#x27;: [3, 5, 7, 9],\n",
       "                                          &#x27;min_samples_leaf&#x27;: [1, 3, 5, 7, 9],\n",
       "                                          &#x27;min_samples_split&#x27;: array([0.1, 0.2, 0.3, 0.4, 0.5])}))])</pre></div></div></div><div class=\"sk-serial\"><div class=\"sk-item sk-dashed-wrapped\"><div class=\"sk-label-container\"><div class=\"sk-label sk-toggleable\"><input class=\"sk-toggleable__control sk-hidden--visually\" id=\"sk-estimator-id-287\" type=\"checkbox\" ><label for=\"sk-estimator-id-287\" class=\"sk-toggleable__label sk-toggleable__label-arrow\">columntransformer: ColumnTransformer</label><div class=\"sk-toggleable__content\"><pre>ColumnTransformer(transformers=[(&#x27;one-hot-encoder&#x27;,\n",
       "                                 OneHotEncoder(handle_unknown=&#x27;ignore&#x27;),\n",
       "                                 [&#x27;MTRANS&#x27;]),\n",
       "                                (&#x27;passthrough&#x27;, &#x27;passthrough&#x27;,\n",
       "                                 [&#x27;Age&#x27;, &#x27;Height&#x27;, &#x27;Weight&#x27;,\n",
       "                                  &#x27;family_history_with_overweight&#x27;, &#x27;FAVC&#x27;,\n",
       "                                  &#x27;FCVC&#x27;, &#x27;NCP&#x27;, &#x27;SMOKE&#x27;, &#x27;CH2O&#x27;, &#x27;SCC&#x27;, &#x27;FAF&#x27;,\n",
       "                                  &#x27;TUE&#x27;, &#x27;Gender_Female&#x27;, &#x27;CALC_numerical&#x27;,\n",
       "                                  &#x27;CAEC_numerical&#x27;, &#x27;WH&#x27;])])</pre></div></div></div><div class=\"sk-parallel\"><div class=\"sk-parallel-item\"><div class=\"sk-item\"><div class=\"sk-label-container\"><div class=\"sk-label sk-toggleable\"><input class=\"sk-toggleable__control sk-hidden--visually\" id=\"sk-estimator-id-288\" type=\"checkbox\" ><label for=\"sk-estimator-id-288\" class=\"sk-toggleable__label sk-toggleable__label-arrow\">one-hot-encoder</label><div class=\"sk-toggleable__content\"><pre>[&#x27;MTRANS&#x27;]</pre></div></div></div><div class=\"sk-serial\"><div class=\"sk-item\"><div class=\"sk-estimator sk-toggleable\"><input class=\"sk-toggleable__control sk-hidden--visually\" id=\"sk-estimator-id-289\" type=\"checkbox\" ><label for=\"sk-estimator-id-289\" class=\"sk-toggleable__label sk-toggleable__label-arrow\">OneHotEncoder</label><div class=\"sk-toggleable__content\"><pre>OneHotEncoder(handle_unknown=&#x27;ignore&#x27;)</pre></div></div></div></div></div></div><div class=\"sk-parallel-item\"><div class=\"sk-item\"><div class=\"sk-label-container\"><div class=\"sk-label sk-toggleable\"><input class=\"sk-toggleable__control sk-hidden--visually\" id=\"sk-estimator-id-290\" type=\"checkbox\" ><label for=\"sk-estimator-id-290\" class=\"sk-toggleable__label sk-toggleable__label-arrow\">passthrough</label><div class=\"sk-toggleable__content\"><pre>[&#x27;Age&#x27;, &#x27;Height&#x27;, &#x27;Weight&#x27;, &#x27;family_history_with_overweight&#x27;, &#x27;FAVC&#x27;, &#x27;FCVC&#x27;, &#x27;NCP&#x27;, &#x27;SMOKE&#x27;, &#x27;CH2O&#x27;, &#x27;SCC&#x27;, &#x27;FAF&#x27;, &#x27;TUE&#x27;, &#x27;Gender_Female&#x27;, &#x27;CALC_numerical&#x27;, &#x27;CAEC_numerical&#x27;, &#x27;WH&#x27;]</pre></div></div></div><div class=\"sk-serial\"><div class=\"sk-item\"><div class=\"sk-estimator sk-toggleable\"><input class=\"sk-toggleable__control sk-hidden--visually\" id=\"sk-estimator-id-291\" type=\"checkbox\" ><label for=\"sk-estimator-id-291\" class=\"sk-toggleable__label sk-toggleable__label-arrow\">passthrough</label><div class=\"sk-toggleable__content\"><pre>passthrough</pre></div></div></div></div></div></div></div></div><div class=\"sk-item sk-dashed-wrapped\"><div class=\"sk-label-container\"><div class=\"sk-label sk-toggleable\"><input class=\"sk-toggleable__control sk-hidden--visually\" id=\"sk-estimator-id-292\" type=\"checkbox\" ><label for=\"sk-estimator-id-292\" class=\"sk-toggleable__label sk-toggleable__label-arrow\">gridsearchcv: GridSearchCV</label><div class=\"sk-toggleable__content\"><pre>GridSearchCV(cv=2, estimator=&lt;__main__.OrdinalClassifier object at 0x12c880400&gt;,\n",
       "             param_grid={&#x27;max_depth&#x27;: [3, 5, 7, 9],\n",
       "                         &#x27;min_samples_leaf&#x27;: [1, 3, 5, 7, 9],\n",
       "                         &#x27;min_samples_split&#x27;: array([0.1, 0.2, 0.3, 0.4, 0.5])})</pre></div></div></div><div class=\"sk-parallel\"><div class=\"sk-parallel-item\"><div class=\"sk-item\"><div class=\"sk-label-container\"><div class=\"sk-label sk-toggleable\"><input class=\"sk-toggleable__control sk-hidden--visually\" id=\"sk-estimator-id-293\" type=\"checkbox\" ><label for=\"sk-estimator-id-293\" class=\"sk-toggleable__label sk-toggleable__label-arrow\">estimator: OrdinalClassifier</label><div class=\"sk-toggleable__content\"><pre>&lt;__main__.OrdinalClassifier object at 0x12c880400&gt;</pre></div></div></div><div class=\"sk-serial\"><div class=\"sk-item sk-dashed-wrapped\"><div class=\"sk-parallel\"><div class=\"sk-parallel-item\"><div class=\"sk-item\"><div class=\"sk-label-container\"><div class=\"sk-label sk-toggleable\"><input class=\"sk-toggleable__control sk-hidden--visually\" id=\"sk-estimator-id-294\" type=\"checkbox\" ><label for=\"sk-estimator-id-294\" class=\"sk-toggleable__label sk-toggleable__label-arrow\">clf: DecisionTreeClassifier</label><div class=\"sk-toggleable__content\"><pre>DecisionTreeClassifier()</pre></div></div></div><div class=\"sk-serial\"><div class=\"sk-item\"><div class=\"sk-estimator sk-toggleable\"><input class=\"sk-toggleable__control sk-hidden--visually\" id=\"sk-estimator-id-295\" type=\"checkbox\" ><label for=\"sk-estimator-id-295\" class=\"sk-toggleable__label sk-toggleable__label-arrow\">DecisionTreeClassifier</label><div class=\"sk-toggleable__content\"><pre>DecisionTreeClassifier()</pre></div></div></div></div></div></div></div></div></div></div></div></div></div></div></div></div></div>"
      ],
      "text/plain": [
       "Pipeline(steps=[('columntransformer',\n",
       "                 ColumnTransformer(transformers=[('one-hot-encoder',\n",
       "                                                  OneHotEncoder(handle_unknown='ignore'),\n",
       "                                                  ['MTRANS']),\n",
       "                                                 ('passthrough', 'passthrough',\n",
       "                                                  ['Age', 'Height', 'Weight',\n",
       "                                                   'family_history_with_overweight',\n",
       "                                                   'FAVC', 'FCVC', 'NCP',\n",
       "                                                   'SMOKE', 'CH2O', 'SCC',\n",
       "                                                   'FAF', 'TUE',\n",
       "                                                   'Gender_Female',\n",
       "                                                   'CALC_numerical',\n",
       "                                                   'CAEC_numerical', 'WH'])])),\n",
       "                ('gridsearchcv',\n",
       "                 GridSearchCV(cv=2,\n",
       "                              estimator=<__main__.OrdinalClassifier object at 0x12c880400>,\n",
       "                              param_grid={'max_depth': [3, 5, 7, 9],\n",
       "                                          'min_samples_leaf': [1, 3, 5, 7, 9],\n",
       "                                          'min_samples_split': array([0.1, 0.2, 0.3, 0.4, 0.5])}))])"
      ]
     },
     "execution_count": 736,
     "metadata": {},
     "output_type": "execute_result"
    }
   ],
   "source": [
    "model.fit(X_train, y_train)"
   ]
  },
  {
   "cell_type": "code",
   "execution_count": 737,
   "id": "9e7b1f7d-da39-4f6a-993a-84d7c2892021",
   "metadata": {},
   "outputs": [
    {
     "data": {
      "text/plain": [
       "<__main__.OrdinalClassifier at 0x12c8f6070>"
      ]
     },
     "execution_count": 737,
     "metadata": {},
     "output_type": "execute_result"
    }
   ],
   "source": [
    "gs.best_estimator_"
   ]
  },
  {
   "cell_type": "code",
   "execution_count": 738,
   "id": "968e20d7-a2cb-4b8a-8d5e-bb5491c1acb4",
   "metadata": {},
   "outputs": [],
   "source": [
    "best_params=gs.best_params_"
   ]
  },
  {
   "cell_type": "code",
   "execution_count": 739,
   "id": "9eed2fb6-bd7f-488c-9380-d845c1dedc1d",
   "metadata": {},
   "outputs": [
    {
     "data": {
      "text/plain": [
       "{'max_depth': 5, 'min_samples_leaf': 3, 'min_samples_split': 0.1}"
      ]
     },
     "execution_count": 739,
     "metadata": {},
     "output_type": "execute_result"
    }
   ],
   "source": [
    "best_params"
   ]
  },
  {
   "cell_type": "code",
   "execution_count": 740,
   "id": "7a8edd40-017f-45fa-9ce4-7b6e219a4cc7",
   "metadata": {},
   "outputs": [
    {
     "data": {
      "text/plain": [
       "0.8062797551575607"
      ]
     },
     "execution_count": 740,
     "metadata": {},
     "output_type": "execute_result"
    }
   ],
   "source": [
    "gs.best_score_"
   ]
  },
  {
   "cell_type": "code",
   "execution_count": 741,
   "id": "1d045137-3da5-4165-b1db-1d02bc16fa04",
   "metadata": {},
   "outputs": [],
   "source": [
    "y_pred = model.predict(X_test)"
   ]
  },
  {
   "cell_type": "code",
   "execution_count": 742,
   "id": "eb8bc482-ea92-41de-9b02-3f18f6725a62",
   "metadata": {
    "scrolled": true
   },
   "outputs": [
    {
     "data": {
      "text/plain": [
       "0.7947976878612717"
      ]
     },
     "execution_count": 742,
     "metadata": {},
     "output_type": "execute_result"
    }
   ],
   "source": [
    "accuracy_score(y_pred, y_test)"
   ]
  },
  {
   "cell_type": "markdown",
   "id": "db557182-2020-4206-b123-619269a3d189",
   "metadata": {},
   "source": [
    "#### SVM"
   ]
  },
  {
   "cell_type": "code",
   "execution_count": 779,
   "id": "66675e54-9e03-40a2-ae20-f05f523c8d6c",
   "metadata": {},
   "outputs": [],
   "source": [
    "from sklearn.svm import SVC"
   ]
  },
  {
   "cell_type": "code",
   "execution_count": 780,
   "id": "0d439454-a695-4709-8728-ef641490b18c",
   "metadata": {},
   "outputs": [],
   "source": [
    "params = {\n",
    "        'C': [0.1, 1, 10, 100, 1000],  \n",
    "        'gamma': [1, 0.1, 0.01, 0.001, 0.0001],\n",
    "        'kernel': ['linear', 'rbf'],\n",
    "\n",
    "        }"
   ]
  },
  {
   "cell_type": "code",
   "execution_count": 781,
   "id": "b916446b-631a-43f4-baf8-d8318c2ec613",
   "metadata": {},
   "outputs": [],
   "source": [
    "gs=GridSearchCV(OrdinalClassifier(SVC(probability=True)),\n",
    "                      param_grid=params,\n",
    "                      cv=2,\n",
    "                      refit=True)"
   ]
  },
  {
   "cell_type": "code",
   "execution_count": 782,
   "id": "c5a7bf5b-3c2e-4e81-889b-304e155f0300",
   "metadata": {},
   "outputs": [],
   "source": [
    "model = make_pipeline(preprocessor, \n",
    "                      gs)"
   ]
  },
  {
   "cell_type": "code",
   "execution_count": 783,
   "id": "d20baa42-3b0c-4720-9c28-2ddbc9a58209",
   "metadata": {},
   "outputs": [
    {
     "data": {
      "text/html": [
       "<style>#sk-container-id-52 {color: black;background-color: white;}#sk-container-id-52 pre{padding: 0;}#sk-container-id-52 div.sk-toggleable {background-color: white;}#sk-container-id-52 label.sk-toggleable__label {cursor: pointer;display: block;width: 100%;margin-bottom: 0;padding: 0.3em;box-sizing: border-box;text-align: center;}#sk-container-id-52 label.sk-toggleable__label-arrow:before {content: \"▸\";float: left;margin-right: 0.25em;color: #696969;}#sk-container-id-52 label.sk-toggleable__label-arrow:hover:before {color: black;}#sk-container-id-52 div.sk-estimator:hover label.sk-toggleable__label-arrow:before {color: black;}#sk-container-id-52 div.sk-toggleable__content {max-height: 0;max-width: 0;overflow: hidden;text-align: left;background-color: #f0f8ff;}#sk-container-id-52 div.sk-toggleable__content pre {margin: 0.2em;color: black;border-radius: 0.25em;background-color: #f0f8ff;}#sk-container-id-52 input.sk-toggleable__control:checked~div.sk-toggleable__content {max-height: 200px;max-width: 100%;overflow: auto;}#sk-container-id-52 input.sk-toggleable__control:checked~label.sk-toggleable__label-arrow:before {content: \"▾\";}#sk-container-id-52 div.sk-estimator input.sk-toggleable__control:checked~label.sk-toggleable__label {background-color: #d4ebff;}#sk-container-id-52 div.sk-label input.sk-toggleable__control:checked~label.sk-toggleable__label {background-color: #d4ebff;}#sk-container-id-52 input.sk-hidden--visually {border: 0;clip: rect(1px 1px 1px 1px);clip: rect(1px, 1px, 1px, 1px);height: 1px;margin: -1px;overflow: hidden;padding: 0;position: absolute;width: 1px;}#sk-container-id-52 div.sk-estimator {font-family: monospace;background-color: #f0f8ff;border: 1px dotted black;border-radius: 0.25em;box-sizing: border-box;margin-bottom: 0.5em;}#sk-container-id-52 div.sk-estimator:hover {background-color: #d4ebff;}#sk-container-id-52 div.sk-parallel-item::after {content: \"\";width: 100%;border-bottom: 1px solid gray;flex-grow: 1;}#sk-container-id-52 div.sk-label:hover label.sk-toggleable__label {background-color: #d4ebff;}#sk-container-id-52 div.sk-serial::before {content: \"\";position: absolute;border-left: 1px solid gray;box-sizing: border-box;top: 0;bottom: 0;left: 50%;z-index: 0;}#sk-container-id-52 div.sk-serial {display: flex;flex-direction: column;align-items: center;background-color: white;padding-right: 0.2em;padding-left: 0.2em;position: relative;}#sk-container-id-52 div.sk-item {position: relative;z-index: 1;}#sk-container-id-52 div.sk-parallel {display: flex;align-items: stretch;justify-content: center;background-color: white;position: relative;}#sk-container-id-52 div.sk-item::before, #sk-container-id-52 div.sk-parallel-item::before {content: \"\";position: absolute;border-left: 1px solid gray;box-sizing: border-box;top: 0;bottom: 0;left: 50%;z-index: -1;}#sk-container-id-52 div.sk-parallel-item {display: flex;flex-direction: column;z-index: 1;position: relative;background-color: white;}#sk-container-id-52 div.sk-parallel-item:first-child::after {align-self: flex-end;width: 50%;}#sk-container-id-52 div.sk-parallel-item:last-child::after {align-self: flex-start;width: 50%;}#sk-container-id-52 div.sk-parallel-item:only-child::after {width: 0;}#sk-container-id-52 div.sk-dashed-wrapped {border: 1px dashed gray;margin: 0 0.4em 0.5em 0.4em;box-sizing: border-box;padding-bottom: 0.4em;background-color: white;}#sk-container-id-52 div.sk-label label {font-family: monospace;font-weight: bold;display: inline-block;line-height: 1.2em;}#sk-container-id-52 div.sk-label-container {text-align: center;}#sk-container-id-52 div.sk-container {/* jupyter's `normalize.less` sets `[hidden] { display: none; }` but bootstrap.min.css set `[hidden] { display: none !important; }` so we also need the `!important` here to be able to override the default hidden behavior on the sphinx rendered scikit-learn.org. See: https://github.com/scikit-learn/scikit-learn/issues/21755 */display: inline-block !important;position: relative;}#sk-container-id-52 div.sk-text-repr-fallback {display: none;}</style><div id=\"sk-container-id-52\" class=\"sk-top-container\"><div class=\"sk-text-repr-fallback\"><pre>Pipeline(steps=[(&#x27;columntransformer&#x27;,\n",
       "                 ColumnTransformer(transformers=[(&#x27;one-hot-encoder&#x27;,\n",
       "                                                  OneHotEncoder(handle_unknown=&#x27;ignore&#x27;),\n",
       "                                                  [&#x27;MTRANS&#x27;]),\n",
       "                                                 (&#x27;passthrough&#x27;, &#x27;passthrough&#x27;,\n",
       "                                                  [&#x27;Age&#x27;, &#x27;Height&#x27;, &#x27;Weight&#x27;,\n",
       "                                                   &#x27;family_history_with_overweight&#x27;,\n",
       "                                                   &#x27;FAVC&#x27;, &#x27;FCVC&#x27;, &#x27;NCP&#x27;,\n",
       "                                                   &#x27;SMOKE&#x27;, &#x27;CH2O&#x27;, &#x27;SCC&#x27;,\n",
       "                                                   &#x27;FAF&#x27;, &#x27;TUE&#x27;,\n",
       "                                                   &#x27;Gender_Female&#x27;,\n",
       "                                                   &#x27;CALC_numerical&#x27;,\n",
       "                                                   &#x27;CAEC_numerical&#x27;, &#x27;WH&#x27;])])),\n",
       "                (&#x27;gridsearchcv&#x27;,\n",
       "                 GridSearchCV(cv=2,\n",
       "                              estimator=&lt;__main__.OrdinalClassifier object at 0x12cc528e0&gt;,\n",
       "                              param_grid={&#x27;C&#x27;: [0.1, 1, 10, 100, 1000],\n",
       "                                          &#x27;gamma&#x27;: [1, 0.1, 0.01, 0.001,\n",
       "                                                    0.0001],\n",
       "                                          &#x27;kernel&#x27;: [&#x27;linear&#x27;, &#x27;rbf&#x27;]}))])</pre><b>In a Jupyter environment, please rerun this cell to show the HTML representation or trust the notebook. <br />On GitHub, the HTML representation is unable to render, please try loading this page with nbviewer.org.</b></div><div class=\"sk-container\" hidden><div class=\"sk-item sk-dashed-wrapped\"><div class=\"sk-label-container\"><div class=\"sk-label sk-toggleable\"><input class=\"sk-toggleable__control sk-hidden--visually\" id=\"sk-estimator-id-316\" type=\"checkbox\" ><label for=\"sk-estimator-id-316\" class=\"sk-toggleable__label sk-toggleable__label-arrow\">Pipeline</label><div class=\"sk-toggleable__content\"><pre>Pipeline(steps=[(&#x27;columntransformer&#x27;,\n",
       "                 ColumnTransformer(transformers=[(&#x27;one-hot-encoder&#x27;,\n",
       "                                                  OneHotEncoder(handle_unknown=&#x27;ignore&#x27;),\n",
       "                                                  [&#x27;MTRANS&#x27;]),\n",
       "                                                 (&#x27;passthrough&#x27;, &#x27;passthrough&#x27;,\n",
       "                                                  [&#x27;Age&#x27;, &#x27;Height&#x27;, &#x27;Weight&#x27;,\n",
       "                                                   &#x27;family_history_with_overweight&#x27;,\n",
       "                                                   &#x27;FAVC&#x27;, &#x27;FCVC&#x27;, &#x27;NCP&#x27;,\n",
       "                                                   &#x27;SMOKE&#x27;, &#x27;CH2O&#x27;, &#x27;SCC&#x27;,\n",
       "                                                   &#x27;FAF&#x27;, &#x27;TUE&#x27;,\n",
       "                                                   &#x27;Gender_Female&#x27;,\n",
       "                                                   &#x27;CALC_numerical&#x27;,\n",
       "                                                   &#x27;CAEC_numerical&#x27;, &#x27;WH&#x27;])])),\n",
       "                (&#x27;gridsearchcv&#x27;,\n",
       "                 GridSearchCV(cv=2,\n",
       "                              estimator=&lt;__main__.OrdinalClassifier object at 0x12cc528e0&gt;,\n",
       "                              param_grid={&#x27;C&#x27;: [0.1, 1, 10, 100, 1000],\n",
       "                                          &#x27;gamma&#x27;: [1, 0.1, 0.01, 0.001,\n",
       "                                                    0.0001],\n",
       "                                          &#x27;kernel&#x27;: [&#x27;linear&#x27;, &#x27;rbf&#x27;]}))])</pre></div></div></div><div class=\"sk-serial\"><div class=\"sk-item sk-dashed-wrapped\"><div class=\"sk-label-container\"><div class=\"sk-label sk-toggleable\"><input class=\"sk-toggleable__control sk-hidden--visually\" id=\"sk-estimator-id-317\" type=\"checkbox\" ><label for=\"sk-estimator-id-317\" class=\"sk-toggleable__label sk-toggleable__label-arrow\">columntransformer: ColumnTransformer</label><div class=\"sk-toggleable__content\"><pre>ColumnTransformer(transformers=[(&#x27;one-hot-encoder&#x27;,\n",
       "                                 OneHotEncoder(handle_unknown=&#x27;ignore&#x27;),\n",
       "                                 [&#x27;MTRANS&#x27;]),\n",
       "                                (&#x27;passthrough&#x27;, &#x27;passthrough&#x27;,\n",
       "                                 [&#x27;Age&#x27;, &#x27;Height&#x27;, &#x27;Weight&#x27;,\n",
       "                                  &#x27;family_history_with_overweight&#x27;, &#x27;FAVC&#x27;,\n",
       "                                  &#x27;FCVC&#x27;, &#x27;NCP&#x27;, &#x27;SMOKE&#x27;, &#x27;CH2O&#x27;, &#x27;SCC&#x27;, &#x27;FAF&#x27;,\n",
       "                                  &#x27;TUE&#x27;, &#x27;Gender_Female&#x27;, &#x27;CALC_numerical&#x27;,\n",
       "                                  &#x27;CAEC_numerical&#x27;, &#x27;WH&#x27;])])</pre></div></div></div><div class=\"sk-parallel\"><div class=\"sk-parallel-item\"><div class=\"sk-item\"><div class=\"sk-label-container\"><div class=\"sk-label sk-toggleable\"><input class=\"sk-toggleable__control sk-hidden--visually\" id=\"sk-estimator-id-318\" type=\"checkbox\" ><label for=\"sk-estimator-id-318\" class=\"sk-toggleable__label sk-toggleable__label-arrow\">one-hot-encoder</label><div class=\"sk-toggleable__content\"><pre>[&#x27;MTRANS&#x27;]</pre></div></div></div><div class=\"sk-serial\"><div class=\"sk-item\"><div class=\"sk-estimator sk-toggleable\"><input class=\"sk-toggleable__control sk-hidden--visually\" id=\"sk-estimator-id-319\" type=\"checkbox\" ><label for=\"sk-estimator-id-319\" class=\"sk-toggleable__label sk-toggleable__label-arrow\">OneHotEncoder</label><div class=\"sk-toggleable__content\"><pre>OneHotEncoder(handle_unknown=&#x27;ignore&#x27;)</pre></div></div></div></div></div></div><div class=\"sk-parallel-item\"><div class=\"sk-item\"><div class=\"sk-label-container\"><div class=\"sk-label sk-toggleable\"><input class=\"sk-toggleable__control sk-hidden--visually\" id=\"sk-estimator-id-320\" type=\"checkbox\" ><label for=\"sk-estimator-id-320\" class=\"sk-toggleable__label sk-toggleable__label-arrow\">passthrough</label><div class=\"sk-toggleable__content\"><pre>[&#x27;Age&#x27;, &#x27;Height&#x27;, &#x27;Weight&#x27;, &#x27;family_history_with_overweight&#x27;, &#x27;FAVC&#x27;, &#x27;FCVC&#x27;, &#x27;NCP&#x27;, &#x27;SMOKE&#x27;, &#x27;CH2O&#x27;, &#x27;SCC&#x27;, &#x27;FAF&#x27;, &#x27;TUE&#x27;, &#x27;Gender_Female&#x27;, &#x27;CALC_numerical&#x27;, &#x27;CAEC_numerical&#x27;, &#x27;WH&#x27;]</pre></div></div></div><div class=\"sk-serial\"><div class=\"sk-item\"><div class=\"sk-estimator sk-toggleable\"><input class=\"sk-toggleable__control sk-hidden--visually\" id=\"sk-estimator-id-321\" type=\"checkbox\" ><label for=\"sk-estimator-id-321\" class=\"sk-toggleable__label sk-toggleable__label-arrow\">passthrough</label><div class=\"sk-toggleable__content\"><pre>passthrough</pre></div></div></div></div></div></div></div></div><div class=\"sk-item sk-dashed-wrapped\"><div class=\"sk-label-container\"><div class=\"sk-label sk-toggleable\"><input class=\"sk-toggleable__control sk-hidden--visually\" id=\"sk-estimator-id-322\" type=\"checkbox\" ><label for=\"sk-estimator-id-322\" class=\"sk-toggleable__label sk-toggleable__label-arrow\">gridsearchcv: GridSearchCV</label><div class=\"sk-toggleable__content\"><pre>GridSearchCV(cv=2, estimator=&lt;__main__.OrdinalClassifier object at 0x12cc528e0&gt;,\n",
       "             param_grid={&#x27;C&#x27;: [0.1, 1, 10, 100, 1000],\n",
       "                         &#x27;gamma&#x27;: [1, 0.1, 0.01, 0.001, 0.0001],\n",
       "                         &#x27;kernel&#x27;: [&#x27;linear&#x27;, &#x27;rbf&#x27;]})</pre></div></div></div><div class=\"sk-parallel\"><div class=\"sk-parallel-item\"><div class=\"sk-item\"><div class=\"sk-label-container\"><div class=\"sk-label sk-toggleable\"><input class=\"sk-toggleable__control sk-hidden--visually\" id=\"sk-estimator-id-323\" type=\"checkbox\" ><label for=\"sk-estimator-id-323\" class=\"sk-toggleable__label sk-toggleable__label-arrow\">estimator: OrdinalClassifier</label><div class=\"sk-toggleable__content\"><pre>&lt;__main__.OrdinalClassifier object at 0x12cc528e0&gt;</pre></div></div></div><div class=\"sk-serial\"><div class=\"sk-item sk-dashed-wrapped\"><div class=\"sk-parallel\"><div class=\"sk-parallel-item\"><div class=\"sk-item\"><div class=\"sk-label-container\"><div class=\"sk-label sk-toggleable\"><input class=\"sk-toggleable__control sk-hidden--visually\" id=\"sk-estimator-id-324\" type=\"checkbox\" ><label for=\"sk-estimator-id-324\" class=\"sk-toggleable__label sk-toggleable__label-arrow\">clf: SVC</label><div class=\"sk-toggleable__content\"><pre>SVC(probability=True)</pre></div></div></div><div class=\"sk-serial\"><div class=\"sk-item\"><div class=\"sk-estimator sk-toggleable\"><input class=\"sk-toggleable__control sk-hidden--visually\" id=\"sk-estimator-id-325\" type=\"checkbox\" ><label for=\"sk-estimator-id-325\" class=\"sk-toggleable__label sk-toggleable__label-arrow\">SVC</label><div class=\"sk-toggleable__content\"><pre>SVC(probability=True)</pre></div></div></div></div></div></div></div></div></div></div></div></div></div></div></div></div></div>"
      ],
      "text/plain": [
       "Pipeline(steps=[('columntransformer',\n",
       "                 ColumnTransformer(transformers=[('one-hot-encoder',\n",
       "                                                  OneHotEncoder(handle_unknown='ignore'),\n",
       "                                                  ['MTRANS']),\n",
       "                                                 ('passthrough', 'passthrough',\n",
       "                                                  ['Age', 'Height', 'Weight',\n",
       "                                                   'family_history_with_overweight',\n",
       "                                                   'FAVC', 'FCVC', 'NCP',\n",
       "                                                   'SMOKE', 'CH2O', 'SCC',\n",
       "                                                   'FAF', 'TUE',\n",
       "                                                   'Gender_Female',\n",
       "                                                   'CALC_numerical',\n",
       "                                                   'CAEC_numerical', 'WH'])])),\n",
       "                ('gridsearchcv',\n",
       "                 GridSearchCV(cv=2,\n",
       "                              estimator=<__main__.OrdinalClassifier object at 0x12cc528e0>,\n",
       "                              param_grid={'C': [0.1, 1, 10, 100, 1000],\n",
       "                                          'gamma': [1, 0.1, 0.01, 0.001,\n",
       "                                                    0.0001],\n",
       "                                          'kernel': ['linear', 'rbf']}))])"
      ]
     },
     "execution_count": 783,
     "metadata": {},
     "output_type": "execute_result"
    }
   ],
   "source": [
    "model.fit(X_train, y_train)"
   ]
  },
  {
   "cell_type": "code",
   "execution_count": 784,
   "id": "5e685b57-30e0-42fb-8b31-2e096e86686d",
   "metadata": {},
   "outputs": [],
   "source": [
    "best_params=gs.best_params_"
   ]
  },
  {
   "cell_type": "code",
   "execution_count": 785,
   "id": "63182137-2333-4dab-840c-e1599f41f664",
   "metadata": {},
   "outputs": [
    {
     "data": {
      "text/plain": [
       "{'C': 1000, 'gamma': 0.001, 'kernel': 'rbf'}"
      ]
     },
     "execution_count": 785,
     "metadata": {},
     "output_type": "execute_result"
    }
   ],
   "source": [
    "best_params"
   ]
  },
  {
   "cell_type": "code",
   "execution_count": 786,
   "id": "71030dac-4a81-4798-86fd-ea0f24c0353d",
   "metadata": {},
   "outputs": [
    {
     "data": {
      "text/plain": [
       "0.8796758104738155"
      ]
     },
     "execution_count": 786,
     "metadata": {},
     "output_type": "execute_result"
    }
   ],
   "source": [
    "gs.best_score_"
   ]
  },
  {
   "cell_type": "code",
   "execution_count": 787,
   "id": "bb0ff257-9633-43b0-ad13-47799ec7deeb",
   "metadata": {},
   "outputs": [],
   "source": [
    "y_pred = model.predict(X_test)"
   ]
  },
  {
   "cell_type": "code",
   "execution_count": 788,
   "id": "994de75d-dd71-4ec7-a8fc-509d79d9939c",
   "metadata": {},
   "outputs": [
    {
     "data": {
      "text/plain": [
       "0.8885677585099551"
      ]
     },
     "execution_count": 788,
     "metadata": {},
     "output_type": "execute_result"
    }
   ],
   "source": [
    "accuracy_score(y_pred, y_test)"
   ]
  },
  {
   "cell_type": "markdown",
   "id": "66366ebd-ad50-4d61-a339-c1010633f726",
   "metadata": {},
   "source": [
    "### Test Data"
   ]
  },
  {
   "cell_type": "code",
   "execution_count": 891,
   "id": "acd02c02-c727-48ae-a5b8-45b4a3ae488e",
   "metadata": {},
   "outputs": [],
   "source": [
    "test=pd.read_csv('test.csv')"
   ]
  },
  {
   "cell_type": "code",
   "execution_count": 892,
   "id": "2afd641d-5843-4ff9-9f25-deefe7b67122",
   "metadata": {},
   "outputs": [],
   "source": [
    "test_clean=data_cleaning(test)"
   ]
  },
  {
   "cell_type": "code",
   "execution_count": 893,
   "id": "e2fc40d1-c641-493d-8680-049a2e998c1e",
   "metadata": {},
   "outputs": [],
   "source": [
    "test_clean['pred_class']=model_reg.predict(test_clean)"
   ]
  },
  {
   "cell_type": "code",
   "execution_count": 894,
   "id": "6803256a-4099-4595-b92d-f3a9bea917f6",
=======
   "execution_count": 524,
   "id": "80d2e0da-8e23-496c-bdc2-62ae22acc6a8",
>>>>>>> 2bc5832c1e434469df2bc6cc8a5ae0ae5a09d85c
   "metadata": {},
   "outputs": [
    {
     "data": {
      "text/html": [
       "<div>\n",
       "<style scoped>\n",
       "    .dataframe tbody tr th:only-of-type {\n",
       "        vertical-align: middle;\n",
       "    }\n",
       "\n",
       "    .dataframe tbody tr th {\n",
       "        vertical-align: top;\n",
       "    }\n",
       "\n",
       "    .dataframe thead th {\n",
       "        text-align: right;\n",
       "    }\n",
       "</style>\n",
       "<table border=\"1\" class=\"dataframe\">\n",
       "  <thead>\n",
       "    <tr style=\"text-align: right;\">\n",
       "      <th></th>\n",
<<<<<<< HEAD
       "      <th>id</th>\n",
       "      <th>Gender</th>\n",
=======
>>>>>>> 2bc5832c1e434469df2bc6cc8a5ae0ae5a09d85c
       "      <th>Age</th>\n",
       "      <th>Height</th>\n",
       "      <th>Weight</th>\n",
       "      <th>family_history_with_overweight</th>\n",
       "      <th>FAVC</th>\n",
       "      <th>FCVC</th>\n",
       "      <th>NCP</th>\n",
<<<<<<< HEAD
       "      <th>CAEC</th>\n",
       "      <th>...</th>\n",
       "      <th>SCC</th>\n",
       "      <th>FAF</th>\n",
       "      <th>TUE</th>\n",
       "      <th>CALC</th>\n",
       "      <th>MTRANS</th>\n",
=======
       "      <th>SMOKE</th>\n",
       "      <th>CH2O</th>\n",
       "      <th>SCC</th>\n",
       "      <th>FAF</th>\n",
       "      <th>TUE</th>\n",
>>>>>>> 2bc5832c1e434469df2bc6cc8a5ae0ae5a09d85c
       "      <th>Gender_Female</th>\n",
       "      <th>CALC_numerical</th>\n",
       "      <th>CAEC_numerical</th>\n",
       "      <th>WH</th>\n",
<<<<<<< HEAD
       "      <th>pred_class</th>\n",
=======
>>>>>>> 2bc5832c1e434469df2bc6cc8a5ae0ae5a09d85c
       "    </tr>\n",
       "  </thead>\n",
       "  <tbody>\n",
       "    <tr>\n",
       "      <th>0</th>\n",
<<<<<<< HEAD
       "      <td>20758</td>\n",
       "      <td>Male</td>\n",
       "      <td>26.899886</td>\n",
       "      <td>1.848294</td>\n",
       "      <td>120.644178</td>\n",
       "      <td>1</td>\n",
       "      <td>1</td>\n",
       "      <td>2.938616</td>\n",
       "      <td>3.000000</td>\n",
       "      <td>Sometimes</td>\n",
       "      <td>...</td>\n",
       "      <td>0</td>\n",
       "      <td>0.855400</td>\n",
       "      <td>0.000000</td>\n",
       "      <td>Sometimes</td>\n",
       "      <td>Public_Transportation</td>\n",
       "      <td>0</td>\n",
       "      <td>0.3</td>\n",
       "      <td>0.3</td>\n",
       "      <td>65.273262</td>\n",
       "      <td>3</td>\n",
       "    </tr>\n",
       "    <tr>\n",
       "      <th>1</th>\n",
       "      <td>20759</td>\n",
       "      <td>Female</td>\n",
       "      <td>21.000000</td>\n",
       "      <td>1.600000</td>\n",
       "      <td>66.000000</td>\n",
       "      <td>1</td>\n",
       "      <td>1</td>\n",
       "      <td>2.000000</td>\n",
       "      <td>1.000000</td>\n",
       "      <td>Sometimes</td>\n",
       "      <td>...</td>\n",
       "      <td>0</td>\n",
       "      <td>1.000000</td>\n",
       "      <td>0.000000</td>\n",
       "      <td>Sometimes</td>\n",
       "      <td>Public_Transportation</td>\n",
       "      <td>1</td>\n",
       "      <td>0.3</td>\n",
       "      <td>0.3</td>\n",
       "      <td>41.250000</td>\n",
       "      <td>5</td>\n",
       "    </tr>\n",
       "    <tr>\n",
       "      <th>2</th>\n",
       "      <td>20760</td>\n",
       "      <td>Female</td>\n",
       "      <td>26.000000</td>\n",
       "      <td>1.643355</td>\n",
       "      <td>111.600553</td>\n",
       "      <td>1</td>\n",
       "      <td>1</td>\n",
       "      <td>3.000000</td>\n",
       "      <td>3.000000</td>\n",
       "      <td>Sometimes</td>\n",
       "      <td>...</td>\n",
       "      <td>0</td>\n",
       "      <td>0.000000</td>\n",
       "      <td>0.250502</td>\n",
       "      <td>Sometimes</td>\n",
       "      <td>Public_Transportation</td>\n",
       "      <td>1</td>\n",
       "      <td>0.3</td>\n",
       "      <td>0.3</td>\n",
       "      <td>67.910192</td>\n",
       "      <td>4</td>\n",
       "    </tr>\n",
       "    <tr>\n",
       "      <th>3</th>\n",
       "      <td>20761</td>\n",
       "      <td>Male</td>\n",
       "      <td>20.979254</td>\n",
       "      <td>1.553127</td>\n",
       "      <td>103.669116</td>\n",
       "      <td>1</td>\n",
       "      <td>1</td>\n",
       "      <td>2.000000</td>\n",
       "      <td>2.977909</td>\n",
       "      <td>Sometimes</td>\n",
       "      <td>...</td>\n",
       "      <td>0</td>\n",
       "      <td>0.094851</td>\n",
       "      <td>0.000000</td>\n",
       "      <td>Sometimes</td>\n",
       "      <td>Public_Transportation</td>\n",
       "      <td>0</td>\n",
       "      <td>0.3</td>\n",
       "      <td>0.3</td>\n",
       "      <td>66.748641</td>\n",
       "      <td>2</td>\n",
       "    </tr>\n",
       "    <tr>\n",
       "      <th>4</th>\n",
       "      <td>20762</td>\n",
       "      <td>Female</td>\n",
       "      <td>26.000000</td>\n",
       "      <td>1.627396</td>\n",
       "      <td>104.835346</td>\n",
       "      <td>1</td>\n",
       "      <td>1</td>\n",
       "      <td>3.000000</td>\n",
       "      <td>3.000000</td>\n",
       "      <td>Sometimes</td>\n",
       "      <td>...</td>\n",
       "      <td>0</td>\n",
       "      <td>0.000000</td>\n",
       "      <td>0.741069</td>\n",
       "      <td>Sometimes</td>\n",
       "      <td>Public_Transportation</td>\n",
       "      <td>1</td>\n",
       "      <td>0.3</td>\n",
       "      <td>0.3</td>\n",
       "      <td>64.419076</td>\n",
       "      <td>4</td>\n",
=======
       "      <td>24.443011</td>\n",
       "      <td>1.699998</td>\n",
       "      <td>81.669950</td>\n",
       "      <td>1</td>\n",
       "      <td>1</td>\n",
       "      <td>2.000000</td>\n",
       "      <td>2.983297</td>\n",
       "      <td>0</td>\n",
       "      <td>2.763573</td>\n",
       "      <td>0</td>\n",
       "      <td>0.000000</td>\n",
       "      <td>0.976473</td>\n",
       "      <td>0</td>\n",
       "      <td>0.3</td>\n",
       "      <td>0.3</td>\n",
       "      <td>48.041204</td>\n",
       "    </tr>\n",
       "    <tr>\n",
       "      <th>1</th>\n",
       "      <td>18.000000</td>\n",
       "      <td>1.560000</td>\n",
       "      <td>57.000000</td>\n",
       "      <td>1</td>\n",
       "      <td>1</td>\n",
       "      <td>2.000000</td>\n",
       "      <td>3.000000</td>\n",
       "      <td>0</td>\n",
       "      <td>2.000000</td>\n",
       "      <td>0</td>\n",
       "      <td>1.000000</td>\n",
       "      <td>1.000000</td>\n",
       "      <td>1</td>\n",
       "      <td>0.0</td>\n",
       "      <td>0.6</td>\n",
       "      <td>36.538462</td>\n",
       "    </tr>\n",
       "    <tr>\n",
       "      <th>2</th>\n",
       "      <td>18.000000</td>\n",
       "      <td>1.711460</td>\n",
       "      <td>50.165754</td>\n",
       "      <td>1</td>\n",
       "      <td>1</td>\n",
       "      <td>1.880534</td>\n",
       "      <td>1.411685</td>\n",
       "      <td>0</td>\n",
       "      <td>1.910378</td>\n",
       "      <td>0</td>\n",
       "      <td>0.866045</td>\n",
       "      <td>1.673584</td>\n",
       "      <td>1</td>\n",
       "      <td>0.0</td>\n",
       "      <td>0.3</td>\n",
       "      <td>29.311672</td>\n",
       "    </tr>\n",
       "    <tr>\n",
       "      <th>3</th>\n",
       "      <td>20.952737</td>\n",
       "      <td>1.710730</td>\n",
       "      <td>131.274851</td>\n",
       "      <td>1</td>\n",
       "      <td>1</td>\n",
       "      <td>3.000000</td>\n",
       "      <td>3.000000</td>\n",
       "      <td>0</td>\n",
       "      <td>1.674061</td>\n",
       "      <td>0</td>\n",
       "      <td>1.467863</td>\n",
       "      <td>0.780199</td>\n",
       "      <td>1</td>\n",
       "      <td>0.3</td>\n",
       "      <td>0.3</td>\n",
       "      <td>76.736160</td>\n",
       "    </tr>\n",
       "    <tr>\n",
       "      <th>4</th>\n",
       "      <td>31.641081</td>\n",
       "      <td>1.914186</td>\n",
       "      <td>93.798055</td>\n",
       "      <td>1</td>\n",
       "      <td>1</td>\n",
       "      <td>2.679664</td>\n",
       "      <td>1.971472</td>\n",
       "      <td>0</td>\n",
       "      <td>1.979848</td>\n",
       "      <td>0</td>\n",
       "      <td>1.967973</td>\n",
       "      <td>0.931721</td>\n",
       "      <td>0</td>\n",
       "      <td>0.3</td>\n",
       "      <td>0.3</td>\n",
       "      <td>49.001536</td>\n",
>>>>>>> 2bc5832c1e434469df2bc6cc8a5ae0ae5a09d85c
       "    </tr>\n",
       "    <tr>\n",
       "      <th>...</th>\n",
       "      <td>...</td>\n",
       "      <td>...</td>\n",
       "      <td>...</td>\n",
       "      <td>...</td>\n",
       "      <td>...</td>\n",
       "      <td>...</td>\n",
       "      <td>...</td>\n",
       "      <td>...</td>\n",
       "      <td>...</td>\n",
       "      <td>...</td>\n",
       "      <td>...</td>\n",
       "      <td>...</td>\n",
       "      <td>...</td>\n",
       "      <td>...</td>\n",
       "      <td>...</td>\n",
       "      <td>...</td>\n",
<<<<<<< HEAD
       "      <td>...</td>\n",
       "      <td>...</td>\n",
       "      <td>...</td>\n",
       "      <td>...</td>\n",
       "      <td>...</td>\n",
       "    </tr>\n",
       "    <tr>\n",
       "      <th>13835</th>\n",
       "      <td>34593</td>\n",
       "      <td>Male</td>\n",
       "      <td>23.327836</td>\n",
       "      <td>1.721384</td>\n",
       "      <td>78.030383</td>\n",
       "      <td>1</td>\n",
       "      <td>0</td>\n",
       "      <td>2.813234</td>\n",
       "      <td>3.000000</td>\n",
       "      <td>Sometimes</td>\n",
       "      <td>...</td>\n",
       "      <td>0</td>\n",
       "      <td>0.807076</td>\n",
       "      <td>0.778632</td>\n",
       "      <td>Sometimes</td>\n",
       "      <td>Public_Transportation</td>\n",
       "      <td>0</td>\n",
       "      <td>0.3</td>\n",
       "      <td>0.3</td>\n",
       "      <td>45.330027</td>\n",
       "      <td>6</td>\n",
       "    </tr>\n",
       "    <tr>\n",
       "      <th>13836</th>\n",
       "      <td>34594</td>\n",
       "      <td>Female</td>\n",
       "      <td>29.000000</td>\n",
       "      <td>1.590000</td>\n",
       "      <td>62.000000</td>\n",
       "      <td>0</td>\n",
       "      <td>1</td>\n",
       "      <td>3.000000</td>\n",
       "      <td>3.000000</td>\n",
       "      <td>Sometimes</td>\n",
       "      <td>...</td>\n",
       "      <td>0</td>\n",
       "      <td>0.000000</td>\n",
       "      <td>0.000000</td>\n",
       "      <td>Sometimes</td>\n",
       "      <td>Public_Transportation</td>\n",
       "      <td>1</td>\n",
       "      <td>0.3</td>\n",
       "      <td>0.3</td>\n",
       "      <td>38.993711</td>\n",
       "      <td>1</td>\n",
       "    </tr>\n",
       "    <tr>\n",
       "      <th>13837</th>\n",
       "      <td>34595</td>\n",
       "      <td>Female</td>\n",
       "      <td>22.935612</td>\n",
       "      <td>1.585547</td>\n",
       "      <td>44.376637</td>\n",
       "      <td>0</td>\n",
       "      <td>1</td>\n",
       "      <td>3.000000</td>\n",
       "      <td>2.273740</td>\n",
       "      <td>Frequently</td>\n",
       "      <td>...</td>\n",
       "      <td>0</td>\n",
       "      <td>1.949840</td>\n",
       "      <td>1.000000</td>\n",
       "      <td>Sometimes</td>\n",
       "      <td>Public_Transportation</td>\n",
       "      <td>1</td>\n",
       "      <td>0.3</td>\n",
       "      <td>0.6</td>\n",
       "      <td>27.988219</td>\n",
       "      <td>0</td>\n",
       "    </tr>\n",
       "    <tr>\n",
       "      <th>13838</th>\n",
       "      <td>34596</td>\n",
       "      <td>Male</td>\n",
       "      <td>21.000000</td>\n",
       "      <td>1.620000</td>\n",
       "      <td>53.000000</td>\n",
       "      <td>1</td>\n",
       "      <td>1</td>\n",
       "      <td>2.000000</td>\n",
       "      <td>3.000000</td>\n",
       "      <td>Sometimes</td>\n",
       "      <td>...</td>\n",
       "      <td>0</td>\n",
       "      <td>3.000000</td>\n",
       "      <td>2.000000</td>\n",
       "      <td>no</td>\n",
       "      <td>Public_Transportation</td>\n",
       "      <td>0</td>\n",
       "      <td>0.0</td>\n",
       "      <td>0.3</td>\n",
       "      <td>32.716049</td>\n",
       "      <td>1</td>\n",
       "    </tr>\n",
       "    <tr>\n",
       "      <th>13839</th>\n",
       "      <td>34597</td>\n",
       "      <td>Male</td>\n",
       "      <td>26.490926</td>\n",
       "      <td>1.812259</td>\n",
       "      <td>120.980508</td>\n",
       "      <td>1</td>\n",
       "      <td>1</td>\n",
       "      <td>2.744994</td>\n",
       "      <td>3.000000</td>\n",
       "      <td>Sometimes</td>\n",
       "      <td>...</td>\n",
       "      <td>0</td>\n",
       "      <td>1.304291</td>\n",
       "      <td>0.630866</td>\n",
       "      <td>Sometimes</td>\n",
       "      <td>Public_Transportation</td>\n",
       "      <td>0</td>\n",
       "      <td>0.3</td>\n",
       "      <td>0.3</td>\n",
       "      <td>66.756743</td>\n",
       "      <td>3</td>\n",
       "    </tr>\n",
       "  </tbody>\n",
       "</table>\n",
       "<p>13840 rows × 22 columns</p>\n",
       "</div>"
      ],
      "text/plain": [
       "          id  Gender        Age    Height      Weight  \\\n",
       "0      20758    Male  26.899886  1.848294  120.644178   \n",
       "1      20759  Female  21.000000  1.600000   66.000000   \n",
       "2      20760  Female  26.000000  1.643355  111.600553   \n",
       "3      20761    Male  20.979254  1.553127  103.669116   \n",
       "4      20762  Female  26.000000  1.627396  104.835346   \n",
       "...      ...     ...        ...       ...         ...   \n",
       "13835  34593    Male  23.327836  1.721384   78.030383   \n",
       "13836  34594  Female  29.000000  1.590000   62.000000   \n",
       "13837  34595  Female  22.935612  1.585547   44.376637   \n",
       "13838  34596    Male  21.000000  1.620000   53.000000   \n",
       "13839  34597    Male  26.490926  1.812259  120.980508   \n",
       "\n",
       "       family_history_with_overweight  FAVC      FCVC       NCP        CAEC  \\\n",
       "0                                   1     1  2.938616  3.000000   Sometimes   \n",
       "1                                   1     1  2.000000  1.000000   Sometimes   \n",
       "2                                   1     1  3.000000  3.000000   Sometimes   \n",
       "3                                   1     1  2.000000  2.977909   Sometimes   \n",
       "4                                   1     1  3.000000  3.000000   Sometimes   \n",
       "...                               ...   ...       ...       ...         ...   \n",
       "13835                               1     0  2.813234  3.000000   Sometimes   \n",
       "13836                               0     1  3.000000  3.000000   Sometimes   \n",
       "13837                               0     1  3.000000  2.273740  Frequently   \n",
       "13838                               1     1  2.000000  3.000000   Sometimes   \n",
       "13839                               1     1  2.744994  3.000000   Sometimes   \n",
       "\n",
       "       ...  SCC       FAF       TUE       CALC                 MTRANS  \\\n",
       "0      ...    0  0.855400  0.000000  Sometimes  Public_Transportation   \n",
       "1      ...    0  1.000000  0.000000  Sometimes  Public_Transportation   \n",
       "2      ...    0  0.000000  0.250502  Sometimes  Public_Transportation   \n",
       "3      ...    0  0.094851  0.000000  Sometimes  Public_Transportation   \n",
       "4      ...    0  0.000000  0.741069  Sometimes  Public_Transportation   \n",
       "...    ...  ...       ...       ...        ...                    ...   \n",
       "13835  ...    0  0.807076  0.778632  Sometimes  Public_Transportation   \n",
       "13836  ...    0  0.000000  0.000000  Sometimes  Public_Transportation   \n",
       "13837  ...    0  1.949840  1.000000  Sometimes  Public_Transportation   \n",
       "13838  ...    0  3.000000  2.000000         no  Public_Transportation   \n",
       "13839  ...    0  1.304291  0.630866  Sometimes  Public_Transportation   \n",
       "\n",
       "      Gender_Female CALC_numerical  CAEC_numerical         WH  pred_class  \n",
       "0                 0            0.3             0.3  65.273262           3  \n",
       "1                 1            0.3             0.3  41.250000           5  \n",
       "2                 1            0.3             0.3  67.910192           4  \n",
       "3                 0            0.3             0.3  66.748641           2  \n",
       "4                 1            0.3             0.3  64.419076           4  \n",
       "...             ...            ...             ...        ...         ...  \n",
       "13835             0            0.3             0.3  45.330027           6  \n",
       "13836             1            0.3             0.3  38.993711           1  \n",
       "13837             1            0.3             0.6  27.988219           0  \n",
       "13838             0            0.0             0.3  32.716049           1  \n",
       "13839             0            0.3             0.3  66.756743           3  \n",
       "\n",
       "[13840 rows x 22 columns]"
      ]
     },
     "execution_count": 894,
=======
       "    </tr>\n",
       "    <tr>\n",
       "      <th>20753</th>\n",
       "      <td>25.137087</td>\n",
       "      <td>1.766626</td>\n",
       "      <td>114.187096</td>\n",
       "      <td>1</td>\n",
       "      <td>1</td>\n",
       "      <td>2.919584</td>\n",
       "      <td>3.000000</td>\n",
       "      <td>0</td>\n",
       "      <td>2.151809</td>\n",
       "      <td>0</td>\n",
       "      <td>1.330519</td>\n",
       "      <td>0.196680</td>\n",
       "      <td>0</td>\n",
       "      <td>0.3</td>\n",
       "      <td>0.3</td>\n",
       "      <td>64.635693</td>\n",
       "    </tr>\n",
       "    <tr>\n",
       "      <th>20754</th>\n",
       "      <td>18.000000</td>\n",
       "      <td>1.710000</td>\n",
       "      <td>50.000000</td>\n",
       "      <td>0</td>\n",
       "      <td>1</td>\n",
       "      <td>3.000000</td>\n",
       "      <td>4.000000</td>\n",
       "      <td>0</td>\n",
       "      <td>1.000000</td>\n",
       "      <td>0</td>\n",
       "      <td>2.000000</td>\n",
       "      <td>1.000000</td>\n",
       "      <td>0</td>\n",
       "      <td>0.3</td>\n",
       "      <td>0.6</td>\n",
       "      <td>29.239766</td>\n",
       "    </tr>\n",
       "    <tr>\n",
       "      <th>20755</th>\n",
       "      <td>20.101026</td>\n",
       "      <td>1.819557</td>\n",
       "      <td>105.580491</td>\n",
       "      <td>1</td>\n",
       "      <td>1</td>\n",
       "      <td>2.407817</td>\n",
       "      <td>3.000000</td>\n",
       "      <td>0</td>\n",
       "      <td>2.000000</td>\n",
       "      <td>0</td>\n",
       "      <td>1.158040</td>\n",
       "      <td>1.198439</td>\n",
       "      <td>0</td>\n",
       "      <td>0.0</td>\n",
       "      <td>0.3</td>\n",
       "      <td>58.025383</td>\n",
       "    </tr>\n",
       "    <tr>\n",
       "      <th>20756</th>\n",
       "      <td>33.852953</td>\n",
       "      <td>1.700000</td>\n",
       "      <td>83.520113</td>\n",
       "      <td>1</td>\n",
       "      <td>1</td>\n",
       "      <td>2.671238</td>\n",
       "      <td>1.971472</td>\n",
       "      <td>0</td>\n",
       "      <td>2.144838</td>\n",
       "      <td>0</td>\n",
       "      <td>0.000000</td>\n",
       "      <td>0.973834</td>\n",
       "      <td>0</td>\n",
       "      <td>0.0</td>\n",
       "      <td>0.3</td>\n",
       "      <td>49.129478</td>\n",
       "    </tr>\n",
       "    <tr>\n",
       "      <th>20757</th>\n",
       "      <td>26.680376</td>\n",
       "      <td>1.816547</td>\n",
       "      <td>118.134898</td>\n",
       "      <td>1</td>\n",
       "      <td>1</td>\n",
       "      <td>3.000000</td>\n",
       "      <td>3.000000</td>\n",
       "      <td>0</td>\n",
       "      <td>2.003563</td>\n",
       "      <td>0</td>\n",
       "      <td>0.684487</td>\n",
       "      <td>0.713823</td>\n",
       "      <td>0</td>\n",
       "      <td>0.3</td>\n",
       "      <td>0.3</td>\n",
       "      <td>65.032668</td>\n",
       "    </tr>\n",
       "  </tbody>\n",
       "</table>\n",
       "<p>20758 rows × 16 columns</p>\n",
       "</div>"
      ],
      "text/plain": [
       "             Age    Height      Weight  family_history_with_overweight  FAVC  \\\n",
       "0      24.443011  1.699998   81.669950                               1     1   \n",
       "1      18.000000  1.560000   57.000000                               1     1   \n",
       "2      18.000000  1.711460   50.165754                               1     1   \n",
       "3      20.952737  1.710730  131.274851                               1     1   \n",
       "4      31.641081  1.914186   93.798055                               1     1   \n",
       "...          ...       ...         ...                             ...   ...   \n",
       "20753  25.137087  1.766626  114.187096                               1     1   \n",
       "20754  18.000000  1.710000   50.000000                               0     1   \n",
       "20755  20.101026  1.819557  105.580491                               1     1   \n",
       "20756  33.852953  1.700000   83.520113                               1     1   \n",
       "20757  26.680376  1.816547  118.134898                               1     1   \n",
       "\n",
       "           FCVC       NCP  SMOKE      CH2O  SCC       FAF       TUE  \\\n",
       "0      2.000000  2.983297      0  2.763573    0  0.000000  0.976473   \n",
       "1      2.000000  3.000000      0  2.000000    0  1.000000  1.000000   \n",
       "2      1.880534  1.411685      0  1.910378    0  0.866045  1.673584   \n",
       "3      3.000000  3.000000      0  1.674061    0  1.467863  0.780199   \n",
       "4      2.679664  1.971472      0  1.979848    0  1.967973  0.931721   \n",
       "...         ...       ...    ...       ...  ...       ...       ...   \n",
       "20753  2.919584  3.000000      0  2.151809    0  1.330519  0.196680   \n",
       "20754  3.000000  4.000000      0  1.000000    0  2.000000  1.000000   \n",
       "20755  2.407817  3.000000      0  2.000000    0  1.158040  1.198439   \n",
       "20756  2.671238  1.971472      0  2.144838    0  0.000000  0.973834   \n",
       "20757  3.000000  3.000000      0  2.003563    0  0.684487  0.713823   \n",
       "\n",
       "       Gender_Female  CALC_numerical  CAEC_numerical         WH  \n",
       "0                  0             0.3             0.3  48.041204  \n",
       "1                  1             0.0             0.6  36.538462  \n",
       "2                  1             0.0             0.3  29.311672  \n",
       "3                  1             0.3             0.3  76.736160  \n",
       "4                  0             0.3             0.3  49.001536  \n",
       "...              ...             ...             ...        ...  \n",
       "20753              0             0.3             0.3  64.635693  \n",
       "20754              0             0.3             0.6  29.239766  \n",
       "20755              0             0.0             0.3  58.025383  \n",
       "20756              0             0.0             0.3  49.129478  \n",
       "20757              0             0.3             0.3  65.032668  \n",
       "\n",
       "[20758 rows x 16 columns]"
      ]
     },
     "execution_count": 524,
     "metadata": {},
     "output_type": "execute_result"
    }
   ],
   "source": [
    "df[numerical_columns]"
   ]
  },
  {
   "cell_type": "markdown",
   "id": "b1523c25-4870-4b6e-9370-f6fbd11a7f8b",
   "metadata": {},
   "source": [
    "### Multi Class Classification"
   ]
  },
  {
   "cell_type": "code",
   "execution_count": 525,
   "id": "30ccfefa-4640-4b2f-848f-2adb2fc4236f",
   "metadata": {},
   "outputs": [],
   "source": [
    "preprocessor = ColumnTransformer(\n",
    "    [\n",
    "        (\"one-hot-encoder\", categorical_preprocessor, ['MTRANS']),\n",
    "        (\"passthrough\", 'passthrough', numerical_columns),\n",
    "    ]\n",
    ")"
   ]
  },
  {
   "cell_type": "code",
   "execution_count": 526,
   "id": "ef428ac5-bc5f-449a-b771-a01effe57402",
   "metadata": {},
   "outputs": [],
   "source": [
    "params = {\n",
    "        'min_child_weight': [ 5, 7, 9],\n",
    "        'max_depth': [ 7, 8, 9],\n",
    "        'subsample': [0.7, 0.85, 1.0],\n",
    "        'colsample_bytree': [0.4, 0.6, 0.8],\n",
    "        'learning_rate': [0.01, 0.05, 0.1, 0.2],\n",
    "\n",
    "        }"
   ]
  },
  {
   "cell_type": "code",
   "execution_count": 527,
   "id": "46cd09c2-b974-4874-a535-5fae98bf7123",
   "metadata": {},
   "outputs": [],
   "source": [
    "gs=GridSearchCV(xgb.XGBClassifier(objective=\"multi:softprob\", nthread=2),\n",
    "                      param_grid=params,\n",
    "                      cv=2,\n",
    "                      refit=True)"
   ]
  },
  {
   "cell_type": "code",
   "execution_count": 528,
   "id": "a7f4582b-c4e2-43f7-8f37-43282ebace4d",
   "metadata": {},
   "outputs": [],
   "source": [
    "model = make_pipeline(preprocessor, \n",
    "                      gs)"
   ]
  },
  {
   "cell_type": "code",
   "execution_count": 529,
   "id": "58dbd146-e836-4da1-9c76-c6531309431f",
   "metadata": {},
   "outputs": [
    {
     "data": {
      "text/html": [
       "<style>#sk-container-id-41 {color: black;background-color: white;}#sk-container-id-41 pre{padding: 0;}#sk-container-id-41 div.sk-toggleable {background-color: white;}#sk-container-id-41 label.sk-toggleable__label {cursor: pointer;display: block;width: 100%;margin-bottom: 0;padding: 0.3em;box-sizing: border-box;text-align: center;}#sk-container-id-41 label.sk-toggleable__label-arrow:before {content: \"▸\";float: left;margin-right: 0.25em;color: #696969;}#sk-container-id-41 label.sk-toggleable__label-arrow:hover:before {color: black;}#sk-container-id-41 div.sk-estimator:hover label.sk-toggleable__label-arrow:before {color: black;}#sk-container-id-41 div.sk-toggleable__content {max-height: 0;max-width: 0;overflow: hidden;text-align: left;background-color: #f0f8ff;}#sk-container-id-41 div.sk-toggleable__content pre {margin: 0.2em;color: black;border-radius: 0.25em;background-color: #f0f8ff;}#sk-container-id-41 input.sk-toggleable__control:checked~div.sk-toggleable__content {max-height: 200px;max-width: 100%;overflow: auto;}#sk-container-id-41 input.sk-toggleable__control:checked~label.sk-toggleable__label-arrow:before {content: \"▾\";}#sk-container-id-41 div.sk-estimator input.sk-toggleable__control:checked~label.sk-toggleable__label {background-color: #d4ebff;}#sk-container-id-41 div.sk-label input.sk-toggleable__control:checked~label.sk-toggleable__label {background-color: #d4ebff;}#sk-container-id-41 input.sk-hidden--visually {border: 0;clip: rect(1px 1px 1px 1px);clip: rect(1px, 1px, 1px, 1px);height: 1px;margin: -1px;overflow: hidden;padding: 0;position: absolute;width: 1px;}#sk-container-id-41 div.sk-estimator {font-family: monospace;background-color: #f0f8ff;border: 1px dotted black;border-radius: 0.25em;box-sizing: border-box;margin-bottom: 0.5em;}#sk-container-id-41 div.sk-estimator:hover {background-color: #d4ebff;}#sk-container-id-41 div.sk-parallel-item::after {content: \"\";width: 100%;border-bottom: 1px solid gray;flex-grow: 1;}#sk-container-id-41 div.sk-label:hover label.sk-toggleable__label {background-color: #d4ebff;}#sk-container-id-41 div.sk-serial::before {content: \"\";position: absolute;border-left: 1px solid gray;box-sizing: border-box;top: 0;bottom: 0;left: 50%;z-index: 0;}#sk-container-id-41 div.sk-serial {display: flex;flex-direction: column;align-items: center;background-color: white;padding-right: 0.2em;padding-left: 0.2em;position: relative;}#sk-container-id-41 div.sk-item {position: relative;z-index: 1;}#sk-container-id-41 div.sk-parallel {display: flex;align-items: stretch;justify-content: center;background-color: white;position: relative;}#sk-container-id-41 div.sk-item::before, #sk-container-id-41 div.sk-parallel-item::before {content: \"\";position: absolute;border-left: 1px solid gray;box-sizing: border-box;top: 0;bottom: 0;left: 50%;z-index: -1;}#sk-container-id-41 div.sk-parallel-item {display: flex;flex-direction: column;z-index: 1;position: relative;background-color: white;}#sk-container-id-41 div.sk-parallel-item:first-child::after {align-self: flex-end;width: 50%;}#sk-container-id-41 div.sk-parallel-item:last-child::after {align-self: flex-start;width: 50%;}#sk-container-id-41 div.sk-parallel-item:only-child::after {width: 0;}#sk-container-id-41 div.sk-dashed-wrapped {border: 1px dashed gray;margin: 0 0.4em 0.5em 0.4em;box-sizing: border-box;padding-bottom: 0.4em;background-color: white;}#sk-container-id-41 div.sk-label label {font-family: monospace;font-weight: bold;display: inline-block;line-height: 1.2em;}#sk-container-id-41 div.sk-label-container {text-align: center;}#sk-container-id-41 div.sk-container {/* jupyter's `normalize.less` sets `[hidden] { display: none; }` but bootstrap.min.css set `[hidden] { display: none !important; }` so we also need the `!important` here to be able to override the default hidden behavior on the sphinx rendered scikit-learn.org. See: https://github.com/scikit-learn/scikit-learn/issues/21755 */display: inline-block !important;position: relative;}#sk-container-id-41 div.sk-text-repr-fallback {display: none;}</style><div id=\"sk-container-id-41\" class=\"sk-top-container\"><div class=\"sk-text-repr-fallback\"><pre>Pipeline(steps=[(&#x27;columntransformer&#x27;,\n",
       "                 ColumnTransformer(transformers=[(&#x27;one-hot-encoder&#x27;,\n",
       "                                                  OneHotEncoder(handle_unknown=&#x27;ignore&#x27;),\n",
       "                                                  [&#x27;MTRANS&#x27;]),\n",
       "                                                 (&#x27;passthrough&#x27;, &#x27;passthrough&#x27;,\n",
       "                                                  [&#x27;Age&#x27;, &#x27;Height&#x27;, &#x27;Weight&#x27;,\n",
       "                                                   &#x27;family_history_with_overweight&#x27;,\n",
       "                                                   &#x27;FAVC&#x27;, &#x27;FCVC&#x27;, &#x27;NCP&#x27;,\n",
       "                                                   &#x27;SMOKE&#x27;, &#x27;CH2O&#x27;, &#x27;SCC&#x27;,\n",
       "                                                   &#x27;FAF&#x27;, &#x27;TUE&#x27;,\n",
       "                                                   &#x27;Gender_Female&#x27;,\n",
       "                                                   &#x27;CALC_numerical&#x27;,\n",
       "                                                   &#x27;CAEC_numerical&#x27;, &#x27;WH&#x27;])])),\n",
       "                (&#x27;gridsearc...\n",
       "                                                      max_delta_step=None,\n",
       "                                                      max_depth=None,\n",
       "                                                      max_leaves=None,\n",
       "                                                      min_child_weight=None,\n",
       "                                                      missing=nan,\n",
       "                                                      monotone_constraints=None,\n",
       "                                                      multi_strategy=None,\n",
       "                                                      n_estimators=None,\n",
       "                                                      n_jobs=None, nthread=2,\n",
       "                                                      num_parallel_tree=None, ...),\n",
       "                              param_grid={&#x27;colsample_bytree&#x27;: [0.4, 0.6, 0.8],\n",
       "                                          &#x27;learning_rate&#x27;: [0.01, 0.05, 0.1,\n",
       "                                                            0.2],\n",
       "                                          &#x27;max_depth&#x27;: [7, 8, 9],\n",
       "                                          &#x27;min_child_weight&#x27;: [5, 7, 9],\n",
       "                                          &#x27;subsample&#x27;: [0.7, 0.85, 1.0]}))])</pre><b>In a Jupyter environment, please rerun this cell to show the HTML representation or trust the notebook. <br />On GitHub, the HTML representation is unable to render, please try loading this page with nbviewer.org.</b></div><div class=\"sk-container\" hidden><div class=\"sk-item sk-dashed-wrapped\"><div class=\"sk-label-container\"><div class=\"sk-label sk-toggleable\"><input class=\"sk-toggleable__control sk-hidden--visually\" id=\"sk-estimator-id-237\" type=\"checkbox\" ><label for=\"sk-estimator-id-237\" class=\"sk-toggleable__label sk-toggleable__label-arrow\">Pipeline</label><div class=\"sk-toggleable__content\"><pre>Pipeline(steps=[(&#x27;columntransformer&#x27;,\n",
       "                 ColumnTransformer(transformers=[(&#x27;one-hot-encoder&#x27;,\n",
       "                                                  OneHotEncoder(handle_unknown=&#x27;ignore&#x27;),\n",
       "                                                  [&#x27;MTRANS&#x27;]),\n",
       "                                                 (&#x27;passthrough&#x27;, &#x27;passthrough&#x27;,\n",
       "                                                  [&#x27;Age&#x27;, &#x27;Height&#x27;, &#x27;Weight&#x27;,\n",
       "                                                   &#x27;family_history_with_overweight&#x27;,\n",
       "                                                   &#x27;FAVC&#x27;, &#x27;FCVC&#x27;, &#x27;NCP&#x27;,\n",
       "                                                   &#x27;SMOKE&#x27;, &#x27;CH2O&#x27;, &#x27;SCC&#x27;,\n",
       "                                                   &#x27;FAF&#x27;, &#x27;TUE&#x27;,\n",
       "                                                   &#x27;Gender_Female&#x27;,\n",
       "                                                   &#x27;CALC_numerical&#x27;,\n",
       "                                                   &#x27;CAEC_numerical&#x27;, &#x27;WH&#x27;])])),\n",
       "                (&#x27;gridsearc...\n",
       "                                                      max_delta_step=None,\n",
       "                                                      max_depth=None,\n",
       "                                                      max_leaves=None,\n",
       "                                                      min_child_weight=None,\n",
       "                                                      missing=nan,\n",
       "                                                      monotone_constraints=None,\n",
       "                                                      multi_strategy=None,\n",
       "                                                      n_estimators=None,\n",
       "                                                      n_jobs=None, nthread=2,\n",
       "                                                      num_parallel_tree=None, ...),\n",
       "                              param_grid={&#x27;colsample_bytree&#x27;: [0.4, 0.6, 0.8],\n",
       "                                          &#x27;learning_rate&#x27;: [0.01, 0.05, 0.1,\n",
       "                                                            0.2],\n",
       "                                          &#x27;max_depth&#x27;: [7, 8, 9],\n",
       "                                          &#x27;min_child_weight&#x27;: [5, 7, 9],\n",
       "                                          &#x27;subsample&#x27;: [0.7, 0.85, 1.0]}))])</pre></div></div></div><div class=\"sk-serial\"><div class=\"sk-item sk-dashed-wrapped\"><div class=\"sk-label-container\"><div class=\"sk-label sk-toggleable\"><input class=\"sk-toggleable__control sk-hidden--visually\" id=\"sk-estimator-id-238\" type=\"checkbox\" ><label for=\"sk-estimator-id-238\" class=\"sk-toggleable__label sk-toggleable__label-arrow\">columntransformer: ColumnTransformer</label><div class=\"sk-toggleable__content\"><pre>ColumnTransformer(transformers=[(&#x27;one-hot-encoder&#x27;,\n",
       "                                 OneHotEncoder(handle_unknown=&#x27;ignore&#x27;),\n",
       "                                 [&#x27;MTRANS&#x27;]),\n",
       "                                (&#x27;passthrough&#x27;, &#x27;passthrough&#x27;,\n",
       "                                 [&#x27;Age&#x27;, &#x27;Height&#x27;, &#x27;Weight&#x27;,\n",
       "                                  &#x27;family_history_with_overweight&#x27;, &#x27;FAVC&#x27;,\n",
       "                                  &#x27;FCVC&#x27;, &#x27;NCP&#x27;, &#x27;SMOKE&#x27;, &#x27;CH2O&#x27;, &#x27;SCC&#x27;, &#x27;FAF&#x27;,\n",
       "                                  &#x27;TUE&#x27;, &#x27;Gender_Female&#x27;, &#x27;CALC_numerical&#x27;,\n",
       "                                  &#x27;CAEC_numerical&#x27;, &#x27;WH&#x27;])])</pre></div></div></div><div class=\"sk-parallel\"><div class=\"sk-parallel-item\"><div class=\"sk-item\"><div class=\"sk-label-container\"><div class=\"sk-label sk-toggleable\"><input class=\"sk-toggleable__control sk-hidden--visually\" id=\"sk-estimator-id-239\" type=\"checkbox\" ><label for=\"sk-estimator-id-239\" class=\"sk-toggleable__label sk-toggleable__label-arrow\">one-hot-encoder</label><div class=\"sk-toggleable__content\"><pre>[&#x27;MTRANS&#x27;]</pre></div></div></div><div class=\"sk-serial\"><div class=\"sk-item\"><div class=\"sk-estimator sk-toggleable\"><input class=\"sk-toggleable__control sk-hidden--visually\" id=\"sk-estimator-id-240\" type=\"checkbox\" ><label for=\"sk-estimator-id-240\" class=\"sk-toggleable__label sk-toggleable__label-arrow\">OneHotEncoder</label><div class=\"sk-toggleable__content\"><pre>OneHotEncoder(handle_unknown=&#x27;ignore&#x27;)</pre></div></div></div></div></div></div><div class=\"sk-parallel-item\"><div class=\"sk-item\"><div class=\"sk-label-container\"><div class=\"sk-label sk-toggleable\"><input class=\"sk-toggleable__control sk-hidden--visually\" id=\"sk-estimator-id-241\" type=\"checkbox\" ><label for=\"sk-estimator-id-241\" class=\"sk-toggleable__label sk-toggleable__label-arrow\">passthrough</label><div class=\"sk-toggleable__content\"><pre>[&#x27;Age&#x27;, &#x27;Height&#x27;, &#x27;Weight&#x27;, &#x27;family_history_with_overweight&#x27;, &#x27;FAVC&#x27;, &#x27;FCVC&#x27;, &#x27;NCP&#x27;, &#x27;SMOKE&#x27;, &#x27;CH2O&#x27;, &#x27;SCC&#x27;, &#x27;FAF&#x27;, &#x27;TUE&#x27;, &#x27;Gender_Female&#x27;, &#x27;CALC_numerical&#x27;, &#x27;CAEC_numerical&#x27;, &#x27;WH&#x27;]</pre></div></div></div><div class=\"sk-serial\"><div class=\"sk-item\"><div class=\"sk-estimator sk-toggleable\"><input class=\"sk-toggleable__control sk-hidden--visually\" id=\"sk-estimator-id-242\" type=\"checkbox\" ><label for=\"sk-estimator-id-242\" class=\"sk-toggleable__label sk-toggleable__label-arrow\">passthrough</label><div class=\"sk-toggleable__content\"><pre>passthrough</pre></div></div></div></div></div></div></div></div><div class=\"sk-item sk-dashed-wrapped\"><div class=\"sk-label-container\"><div class=\"sk-label sk-toggleable\"><input class=\"sk-toggleable__control sk-hidden--visually\" id=\"sk-estimator-id-243\" type=\"checkbox\" ><label for=\"sk-estimator-id-243\" class=\"sk-toggleable__label sk-toggleable__label-arrow\">gridsearchcv: GridSearchCV</label><div class=\"sk-toggleable__content\"><pre>GridSearchCV(cv=2,\n",
       "             estimator=XGBClassifier(base_score=None, booster=None,\n",
       "                                     callbacks=None, colsample_bylevel=None,\n",
       "                                     colsample_bynode=None,\n",
       "                                     colsample_bytree=None, device=None,\n",
       "                                     early_stopping_rounds=None,\n",
       "                                     enable_categorical=False, eval_metric=None,\n",
       "                                     feature_types=None, gamma=None,\n",
       "                                     grow_policy=None, importance_type=None,\n",
       "                                     interaction_constraints=None,\n",
       "                                     learning_rate=None,...\n",
       "                                     max_delta_step=None, max_depth=None,\n",
       "                                     max_leaves=None, min_child_weight=None,\n",
       "                                     missing=nan, monotone_constraints=None,\n",
       "                                     multi_strategy=None, n_estimators=None,\n",
       "                                     n_jobs=None, nthread=2,\n",
       "                                     num_parallel_tree=None, ...),\n",
       "             param_grid={&#x27;colsample_bytree&#x27;: [0.4, 0.6, 0.8],\n",
       "                         &#x27;learning_rate&#x27;: [0.01, 0.05, 0.1, 0.2],\n",
       "                         &#x27;max_depth&#x27;: [7, 8, 9], &#x27;min_child_weight&#x27;: [5, 7, 9],\n",
       "                         &#x27;subsample&#x27;: [0.7, 0.85, 1.0]})</pre></div></div></div><div class=\"sk-parallel\"><div class=\"sk-parallel-item\"><div class=\"sk-item\"><div class=\"sk-label-container\"><div class=\"sk-label sk-toggleable\"><input class=\"sk-toggleable__control sk-hidden--visually\" id=\"sk-estimator-id-244\" type=\"checkbox\" ><label for=\"sk-estimator-id-244\" class=\"sk-toggleable__label sk-toggleable__label-arrow\">estimator: XGBClassifier</label><div class=\"sk-toggleable__content\"><pre>XGBClassifier(base_score=None, booster=None, callbacks=None,\n",
       "              colsample_bylevel=None, colsample_bynode=None,\n",
       "              colsample_bytree=None, device=None, early_stopping_rounds=None,\n",
       "              enable_categorical=False, eval_metric=None, feature_types=None,\n",
       "              gamma=None, grow_policy=None, importance_type=None,\n",
       "              interaction_constraints=None, learning_rate=None, max_bin=None,\n",
       "              max_cat_threshold=None, max_cat_to_onehot=None,\n",
       "              max_delta_step=None, max_depth=None, max_leaves=None,\n",
       "              min_child_weight=None, missing=nan, monotone_constraints=None,\n",
       "              multi_strategy=None, n_estimators=None, n_jobs=None, nthread=2,\n",
       "              num_parallel_tree=None, ...)</pre></div></div></div><div class=\"sk-serial\"><div class=\"sk-item\"><div class=\"sk-estimator sk-toggleable\"><input class=\"sk-toggleable__control sk-hidden--visually\" id=\"sk-estimator-id-245\" type=\"checkbox\" ><label for=\"sk-estimator-id-245\" class=\"sk-toggleable__label sk-toggleable__label-arrow\">XGBClassifier</label><div class=\"sk-toggleable__content\"><pre>XGBClassifier(base_score=None, booster=None, callbacks=None,\n",
       "              colsample_bylevel=None, colsample_bynode=None,\n",
       "              colsample_bytree=None, device=None, early_stopping_rounds=None,\n",
       "              enable_categorical=False, eval_metric=None, feature_types=None,\n",
       "              gamma=None, grow_policy=None, importance_type=None,\n",
       "              interaction_constraints=None, learning_rate=None, max_bin=None,\n",
       "              max_cat_threshold=None, max_cat_to_onehot=None,\n",
       "              max_delta_step=None, max_depth=None, max_leaves=None,\n",
       "              min_child_weight=None, missing=nan, monotone_constraints=None,\n",
       "              multi_strategy=None, n_estimators=None, n_jobs=None, nthread=2,\n",
       "              num_parallel_tree=None, ...)</pre></div></div></div></div></div></div></div></div></div></div></div></div>"
      ],
      "text/plain": [
       "Pipeline(steps=[('columntransformer',\n",
       "                 ColumnTransformer(transformers=[('one-hot-encoder',\n",
       "                                                  OneHotEncoder(handle_unknown='ignore'),\n",
       "                                                  ['MTRANS']),\n",
       "                                                 ('passthrough', 'passthrough',\n",
       "                                                  ['Age', 'Height', 'Weight',\n",
       "                                                   'family_history_with_overweight',\n",
       "                                                   'FAVC', 'FCVC', 'NCP',\n",
       "                                                   'SMOKE', 'CH2O', 'SCC',\n",
       "                                                   'FAF', 'TUE',\n",
       "                                                   'Gender_Female',\n",
       "                                                   'CALC_numerical',\n",
       "                                                   'CAEC_numerical', 'WH'])])),\n",
       "                ('gridsearc...\n",
       "                                                      max_delta_step=None,\n",
       "                                                      max_depth=None,\n",
       "                                                      max_leaves=None,\n",
       "                                                      min_child_weight=None,\n",
       "                                                      missing=nan,\n",
       "                                                      monotone_constraints=None,\n",
       "                                                      multi_strategy=None,\n",
       "                                                      n_estimators=None,\n",
       "                                                      n_jobs=None, nthread=2,\n",
       "                                                      num_parallel_tree=None, ...),\n",
       "                              param_grid={'colsample_bytree': [0.4, 0.6, 0.8],\n",
       "                                          'learning_rate': [0.01, 0.05, 0.1,\n",
       "                                                            0.2],\n",
       "                                          'max_depth': [7, 8, 9],\n",
       "                                          'min_child_weight': [5, 7, 9],\n",
       "                                          'subsample': [0.7, 0.85, 1.0]}))])"
      ]
     },
     "execution_count": 529,
     "metadata": {},
     "output_type": "execute_result"
    }
   ],
   "source": [
    "model.fit(X_train, y_train)"
   ]
  },
  {
   "cell_type": "code",
   "execution_count": 530,
   "id": "ee30b6f2-cf13-4576-880a-4c5811c7c295",
   "metadata": {},
   "outputs": [
    {
     "data": {
      "text/html": [
       "<style>#sk-container-id-42 {color: black;background-color: white;}#sk-container-id-42 pre{padding: 0;}#sk-container-id-42 div.sk-toggleable {background-color: white;}#sk-container-id-42 label.sk-toggleable__label {cursor: pointer;display: block;width: 100%;margin-bottom: 0;padding: 0.3em;box-sizing: border-box;text-align: center;}#sk-container-id-42 label.sk-toggleable__label-arrow:before {content: \"▸\";float: left;margin-right: 0.25em;color: #696969;}#sk-container-id-42 label.sk-toggleable__label-arrow:hover:before {color: black;}#sk-container-id-42 div.sk-estimator:hover label.sk-toggleable__label-arrow:before {color: black;}#sk-container-id-42 div.sk-toggleable__content {max-height: 0;max-width: 0;overflow: hidden;text-align: left;background-color: #f0f8ff;}#sk-container-id-42 div.sk-toggleable__content pre {margin: 0.2em;color: black;border-radius: 0.25em;background-color: #f0f8ff;}#sk-container-id-42 input.sk-toggleable__control:checked~div.sk-toggleable__content {max-height: 200px;max-width: 100%;overflow: auto;}#sk-container-id-42 input.sk-toggleable__control:checked~label.sk-toggleable__label-arrow:before {content: \"▾\";}#sk-container-id-42 div.sk-estimator input.sk-toggleable__control:checked~label.sk-toggleable__label {background-color: #d4ebff;}#sk-container-id-42 div.sk-label input.sk-toggleable__control:checked~label.sk-toggleable__label {background-color: #d4ebff;}#sk-container-id-42 input.sk-hidden--visually {border: 0;clip: rect(1px 1px 1px 1px);clip: rect(1px, 1px, 1px, 1px);height: 1px;margin: -1px;overflow: hidden;padding: 0;position: absolute;width: 1px;}#sk-container-id-42 div.sk-estimator {font-family: monospace;background-color: #f0f8ff;border: 1px dotted black;border-radius: 0.25em;box-sizing: border-box;margin-bottom: 0.5em;}#sk-container-id-42 div.sk-estimator:hover {background-color: #d4ebff;}#sk-container-id-42 div.sk-parallel-item::after {content: \"\";width: 100%;border-bottom: 1px solid gray;flex-grow: 1;}#sk-container-id-42 div.sk-label:hover label.sk-toggleable__label {background-color: #d4ebff;}#sk-container-id-42 div.sk-serial::before {content: \"\";position: absolute;border-left: 1px solid gray;box-sizing: border-box;top: 0;bottom: 0;left: 50%;z-index: 0;}#sk-container-id-42 div.sk-serial {display: flex;flex-direction: column;align-items: center;background-color: white;padding-right: 0.2em;padding-left: 0.2em;position: relative;}#sk-container-id-42 div.sk-item {position: relative;z-index: 1;}#sk-container-id-42 div.sk-parallel {display: flex;align-items: stretch;justify-content: center;background-color: white;position: relative;}#sk-container-id-42 div.sk-item::before, #sk-container-id-42 div.sk-parallel-item::before {content: \"\";position: absolute;border-left: 1px solid gray;box-sizing: border-box;top: 0;bottom: 0;left: 50%;z-index: -1;}#sk-container-id-42 div.sk-parallel-item {display: flex;flex-direction: column;z-index: 1;position: relative;background-color: white;}#sk-container-id-42 div.sk-parallel-item:first-child::after {align-self: flex-end;width: 50%;}#sk-container-id-42 div.sk-parallel-item:last-child::after {align-self: flex-start;width: 50%;}#sk-container-id-42 div.sk-parallel-item:only-child::after {width: 0;}#sk-container-id-42 div.sk-dashed-wrapped {border: 1px dashed gray;margin: 0 0.4em 0.5em 0.4em;box-sizing: border-box;padding-bottom: 0.4em;background-color: white;}#sk-container-id-42 div.sk-label label {font-family: monospace;font-weight: bold;display: inline-block;line-height: 1.2em;}#sk-container-id-42 div.sk-label-container {text-align: center;}#sk-container-id-42 div.sk-container {/* jupyter's `normalize.less` sets `[hidden] { display: none; }` but bootstrap.min.css set `[hidden] { display: none !important; }` so we also need the `!important` here to be able to override the default hidden behavior on the sphinx rendered scikit-learn.org. See: https://github.com/scikit-learn/scikit-learn/issues/21755 */display: inline-block !important;position: relative;}#sk-container-id-42 div.sk-text-repr-fallback {display: none;}</style><div id=\"sk-container-id-42\" class=\"sk-top-container\"><div class=\"sk-text-repr-fallback\"><pre>XGBClassifier(base_score=None, booster=None, callbacks=None,\n",
       "              colsample_bylevel=None, colsample_bynode=None,\n",
       "              colsample_bytree=0.4, device=None, early_stopping_rounds=None,\n",
       "              enable_categorical=False, eval_metric=None, feature_types=None,\n",
       "              gamma=None, grow_policy=None, importance_type=None,\n",
       "              interaction_constraints=None, learning_rate=0.1, max_bin=None,\n",
       "              max_cat_threshold=None, max_cat_to_onehot=None,\n",
       "              max_delta_step=None, max_depth=9, max_leaves=None,\n",
       "              min_child_weight=5, missing=nan, monotone_constraints=None,\n",
       "              multi_strategy=None, n_estimators=None, n_jobs=None, nthread=2,\n",
       "              num_parallel_tree=None, ...)</pre><b>In a Jupyter environment, please rerun this cell to show the HTML representation or trust the notebook. <br />On GitHub, the HTML representation is unable to render, please try loading this page with nbviewer.org.</b></div><div class=\"sk-container\" hidden><div class=\"sk-item\"><div class=\"sk-estimator sk-toggleable\"><input class=\"sk-toggleable__control sk-hidden--visually\" id=\"sk-estimator-id-246\" type=\"checkbox\" checked><label for=\"sk-estimator-id-246\" class=\"sk-toggleable__label sk-toggleable__label-arrow\">XGBClassifier</label><div class=\"sk-toggleable__content\"><pre>XGBClassifier(base_score=None, booster=None, callbacks=None,\n",
       "              colsample_bylevel=None, colsample_bynode=None,\n",
       "              colsample_bytree=0.4, device=None, early_stopping_rounds=None,\n",
       "              enable_categorical=False, eval_metric=None, feature_types=None,\n",
       "              gamma=None, grow_policy=None, importance_type=None,\n",
       "              interaction_constraints=None, learning_rate=0.1, max_bin=None,\n",
       "              max_cat_threshold=None, max_cat_to_onehot=None,\n",
       "              max_delta_step=None, max_depth=9, max_leaves=None,\n",
       "              min_child_weight=5, missing=nan, monotone_constraints=None,\n",
       "              multi_strategy=None, n_estimators=None, n_jobs=None, nthread=2,\n",
       "              num_parallel_tree=None, ...)</pre></div></div></div></div></div>"
      ],
      "text/plain": [
       "XGBClassifier(base_score=None, booster=None, callbacks=None,\n",
       "              colsample_bylevel=None, colsample_bynode=None,\n",
       "              colsample_bytree=0.4, device=None, early_stopping_rounds=None,\n",
       "              enable_categorical=False, eval_metric=None, feature_types=None,\n",
       "              gamma=None, grow_policy=None, importance_type=None,\n",
       "              interaction_constraints=None, learning_rate=0.1, max_bin=None,\n",
       "              max_cat_threshold=None, max_cat_to_onehot=None,\n",
       "              max_delta_step=None, max_depth=9, max_leaves=None,\n",
       "              min_child_weight=5, missing=nan, monotone_constraints=None,\n",
       "              multi_strategy=None, n_estimators=None, n_jobs=None, nthread=2,\n",
       "              num_parallel_tree=None, ...)"
      ]
     },
     "execution_count": 530,
     "metadata": {},
     "output_type": "execute_result"
    }
   ],
   "source": [
    "gs.best_estimator_"
   ]
  },
  {
   "cell_type": "code",
   "execution_count": 531,
   "id": "f8abab05-7858-4fcb-af9a-278fede254f7",
   "metadata": {},
   "outputs": [],
   "source": [
    "best_params=gs.best_params_"
   ]
  },
  {
   "cell_type": "code",
   "execution_count": 532,
   "id": "1b3bb648-6b81-46c5-966f-25e0b2c74fab",
   "metadata": {},
   "outputs": [
    {
     "data": {
      "text/plain": [
       "{'colsample_bytree': 0.4,\n",
       " 'learning_rate': 0.1,\n",
       " 'max_depth': 9,\n",
       " 'min_child_weight': 5,\n",
       " 'subsample': 0.85}"
      ]
     },
     "execution_count": 532,
     "metadata": {},
     "output_type": "execute_result"
    }
   ],
   "source": [
    "best_params"
   ]
  },
  {
   "cell_type": "code",
   "execution_count": 533,
   "id": "21c672d4-df1a-4d6d-9036-5a8b8e6f25a2",
   "metadata": {},
   "outputs": [
    {
     "data": {
      "text/plain": [
       "0.9076739968261165"
      ]
     },
     "execution_count": 533,
     "metadata": {},
     "output_type": "execute_result"
    }
   ],
   "source": [
    "gs.best_score_"
   ]
  },
  {
   "cell_type": "code",
   "execution_count": 534,
   "id": "1b4897d3-f702-43e7-86b6-1cfad1e57d1a",
   "metadata": {},
   "outputs": [],
   "source": [
    "y_pred = model.predict(X_test)"
   ]
  },
  {
   "cell_type": "code",
   "execution_count": 535,
   "id": "3185313c-db27-4f43-9693-1e2e2c9664c1",
   "metadata": {
    "scrolled": true
   },
   "outputs": [
    {
     "data": {
      "text/plain": [
       "0.909762363519589"
      ]
     },
     "execution_count": 535,
     "metadata": {},
     "output_type": "execute_result"
    }
   ],
   "source": [
    "accuracy_score(y_pred, y_test)"
   ]
  },
  {
   "cell_type": "markdown",
   "id": "f5c35801-f995-45e1-8224-736791ef7efb",
   "metadata": {},
   "source": [
    "#### Fitting in Best Param from GridSearch"
   ]
  },
  {
   "cell_type": "code",
   "execution_count": 536,
   "id": "0d0fbdc6-047c-4ec2-975d-f5372621ce20",
   "metadata": {},
   "outputs": [],
   "source": [
    "from sklearn.feature_selection import SelectFromModel\n",
    "\n",
    "model_reg = make_pipeline(preprocessor, \n",
    "                      xgb.XGBClassifier(**best_params))"
   ]
  },
  {
   "cell_type": "code",
   "execution_count": 537,
   "id": "24390f35-77bb-4425-8e98-0f118726e95a",
   "metadata": {},
   "outputs": [
    {
     "data": {
      "text/html": [
       "<style>#sk-container-id-43 {color: black;background-color: white;}#sk-container-id-43 pre{padding: 0;}#sk-container-id-43 div.sk-toggleable {background-color: white;}#sk-container-id-43 label.sk-toggleable__label {cursor: pointer;display: block;width: 100%;margin-bottom: 0;padding: 0.3em;box-sizing: border-box;text-align: center;}#sk-container-id-43 label.sk-toggleable__label-arrow:before {content: \"▸\";float: left;margin-right: 0.25em;color: #696969;}#sk-container-id-43 label.sk-toggleable__label-arrow:hover:before {color: black;}#sk-container-id-43 div.sk-estimator:hover label.sk-toggleable__label-arrow:before {color: black;}#sk-container-id-43 div.sk-toggleable__content {max-height: 0;max-width: 0;overflow: hidden;text-align: left;background-color: #f0f8ff;}#sk-container-id-43 div.sk-toggleable__content pre {margin: 0.2em;color: black;border-radius: 0.25em;background-color: #f0f8ff;}#sk-container-id-43 input.sk-toggleable__control:checked~div.sk-toggleable__content {max-height: 200px;max-width: 100%;overflow: auto;}#sk-container-id-43 input.sk-toggleable__control:checked~label.sk-toggleable__label-arrow:before {content: \"▾\";}#sk-container-id-43 div.sk-estimator input.sk-toggleable__control:checked~label.sk-toggleable__label {background-color: #d4ebff;}#sk-container-id-43 div.sk-label input.sk-toggleable__control:checked~label.sk-toggleable__label {background-color: #d4ebff;}#sk-container-id-43 input.sk-hidden--visually {border: 0;clip: rect(1px 1px 1px 1px);clip: rect(1px, 1px, 1px, 1px);height: 1px;margin: -1px;overflow: hidden;padding: 0;position: absolute;width: 1px;}#sk-container-id-43 div.sk-estimator {font-family: monospace;background-color: #f0f8ff;border: 1px dotted black;border-radius: 0.25em;box-sizing: border-box;margin-bottom: 0.5em;}#sk-container-id-43 div.sk-estimator:hover {background-color: #d4ebff;}#sk-container-id-43 div.sk-parallel-item::after {content: \"\";width: 100%;border-bottom: 1px solid gray;flex-grow: 1;}#sk-container-id-43 div.sk-label:hover label.sk-toggleable__label {background-color: #d4ebff;}#sk-container-id-43 div.sk-serial::before {content: \"\";position: absolute;border-left: 1px solid gray;box-sizing: border-box;top: 0;bottom: 0;left: 50%;z-index: 0;}#sk-container-id-43 div.sk-serial {display: flex;flex-direction: column;align-items: center;background-color: white;padding-right: 0.2em;padding-left: 0.2em;position: relative;}#sk-container-id-43 div.sk-item {position: relative;z-index: 1;}#sk-container-id-43 div.sk-parallel {display: flex;align-items: stretch;justify-content: center;background-color: white;position: relative;}#sk-container-id-43 div.sk-item::before, #sk-container-id-43 div.sk-parallel-item::before {content: \"\";position: absolute;border-left: 1px solid gray;box-sizing: border-box;top: 0;bottom: 0;left: 50%;z-index: -1;}#sk-container-id-43 div.sk-parallel-item {display: flex;flex-direction: column;z-index: 1;position: relative;background-color: white;}#sk-container-id-43 div.sk-parallel-item:first-child::after {align-self: flex-end;width: 50%;}#sk-container-id-43 div.sk-parallel-item:last-child::after {align-self: flex-start;width: 50%;}#sk-container-id-43 div.sk-parallel-item:only-child::after {width: 0;}#sk-container-id-43 div.sk-dashed-wrapped {border: 1px dashed gray;margin: 0 0.4em 0.5em 0.4em;box-sizing: border-box;padding-bottom: 0.4em;background-color: white;}#sk-container-id-43 div.sk-label label {font-family: monospace;font-weight: bold;display: inline-block;line-height: 1.2em;}#sk-container-id-43 div.sk-label-container {text-align: center;}#sk-container-id-43 div.sk-container {/* jupyter's `normalize.less` sets `[hidden] { display: none; }` but bootstrap.min.css set `[hidden] { display: none !important; }` so we also need the `!important` here to be able to override the default hidden behavior on the sphinx rendered scikit-learn.org. See: https://github.com/scikit-learn/scikit-learn/issues/21755 */display: inline-block !important;position: relative;}#sk-container-id-43 div.sk-text-repr-fallback {display: none;}</style><div id=\"sk-container-id-43\" class=\"sk-top-container\"><div class=\"sk-text-repr-fallback\"><pre>Pipeline(steps=[(&#x27;columntransformer&#x27;,\n",
       "                 ColumnTransformer(transformers=[(&#x27;one-hot-encoder&#x27;,\n",
       "                                                  OneHotEncoder(handle_unknown=&#x27;ignore&#x27;),\n",
       "                                                  [&#x27;MTRANS&#x27;]),\n",
       "                                                 (&#x27;passthrough&#x27;, &#x27;passthrough&#x27;,\n",
       "                                                  [&#x27;Age&#x27;, &#x27;Height&#x27;, &#x27;Weight&#x27;,\n",
       "                                                   &#x27;family_history_with_overweight&#x27;,\n",
       "                                                   &#x27;FAVC&#x27;, &#x27;FCVC&#x27;, &#x27;NCP&#x27;,\n",
       "                                                   &#x27;SMOKE&#x27;, &#x27;CH2O&#x27;, &#x27;SCC&#x27;,\n",
       "                                                   &#x27;FAF&#x27;, &#x27;TUE&#x27;,\n",
       "                                                   &#x27;Gender_Female&#x27;,\n",
       "                                                   &#x27;CALC_numerical&#x27;,\n",
       "                                                   &#x27;CAEC_numerical&#x27;, &#x27;WH&#x27;])])),\n",
       "                (&#x27;xgbclassi...\n",
       "                               feature_types=None, gamma=None, grow_policy=None,\n",
       "                               importance_type=None,\n",
       "                               interaction_constraints=None, learning_rate=0.1,\n",
       "                               max_bin=None, max_cat_threshold=None,\n",
       "                               max_cat_to_onehot=None, max_delta_step=None,\n",
       "                               max_depth=9, max_leaves=None, min_child_weight=5,\n",
       "                               missing=nan, monotone_constraints=None,\n",
       "                               multi_strategy=None, n_estimators=None,\n",
       "                               n_jobs=None, num_parallel_tree=None,\n",
       "                               objective=&#x27;multi:softprob&#x27;, ...))])</pre><b>In a Jupyter environment, please rerun this cell to show the HTML representation or trust the notebook. <br />On GitHub, the HTML representation is unable to render, please try loading this page with nbviewer.org.</b></div><div class=\"sk-container\" hidden><div class=\"sk-item sk-dashed-wrapped\"><div class=\"sk-label-container\"><div class=\"sk-label sk-toggleable\"><input class=\"sk-toggleable__control sk-hidden--visually\" id=\"sk-estimator-id-247\" type=\"checkbox\" ><label for=\"sk-estimator-id-247\" class=\"sk-toggleable__label sk-toggleable__label-arrow\">Pipeline</label><div class=\"sk-toggleable__content\"><pre>Pipeline(steps=[(&#x27;columntransformer&#x27;,\n",
       "                 ColumnTransformer(transformers=[(&#x27;one-hot-encoder&#x27;,\n",
       "                                                  OneHotEncoder(handle_unknown=&#x27;ignore&#x27;),\n",
       "                                                  [&#x27;MTRANS&#x27;]),\n",
       "                                                 (&#x27;passthrough&#x27;, &#x27;passthrough&#x27;,\n",
       "                                                  [&#x27;Age&#x27;, &#x27;Height&#x27;, &#x27;Weight&#x27;,\n",
       "                                                   &#x27;family_history_with_overweight&#x27;,\n",
       "                                                   &#x27;FAVC&#x27;, &#x27;FCVC&#x27;, &#x27;NCP&#x27;,\n",
       "                                                   &#x27;SMOKE&#x27;, &#x27;CH2O&#x27;, &#x27;SCC&#x27;,\n",
       "                                                   &#x27;FAF&#x27;, &#x27;TUE&#x27;,\n",
       "                                                   &#x27;Gender_Female&#x27;,\n",
       "                                                   &#x27;CALC_numerical&#x27;,\n",
       "                                                   &#x27;CAEC_numerical&#x27;, &#x27;WH&#x27;])])),\n",
       "                (&#x27;xgbclassi...\n",
       "                               feature_types=None, gamma=None, grow_policy=None,\n",
       "                               importance_type=None,\n",
       "                               interaction_constraints=None, learning_rate=0.1,\n",
       "                               max_bin=None, max_cat_threshold=None,\n",
       "                               max_cat_to_onehot=None, max_delta_step=None,\n",
       "                               max_depth=9, max_leaves=None, min_child_weight=5,\n",
       "                               missing=nan, monotone_constraints=None,\n",
       "                               multi_strategy=None, n_estimators=None,\n",
       "                               n_jobs=None, num_parallel_tree=None,\n",
       "                               objective=&#x27;multi:softprob&#x27;, ...))])</pre></div></div></div><div class=\"sk-serial\"><div class=\"sk-item sk-dashed-wrapped\"><div class=\"sk-label-container\"><div class=\"sk-label sk-toggleable\"><input class=\"sk-toggleable__control sk-hidden--visually\" id=\"sk-estimator-id-248\" type=\"checkbox\" ><label for=\"sk-estimator-id-248\" class=\"sk-toggleable__label sk-toggleable__label-arrow\">columntransformer: ColumnTransformer</label><div class=\"sk-toggleable__content\"><pre>ColumnTransformer(transformers=[(&#x27;one-hot-encoder&#x27;,\n",
       "                                 OneHotEncoder(handle_unknown=&#x27;ignore&#x27;),\n",
       "                                 [&#x27;MTRANS&#x27;]),\n",
       "                                (&#x27;passthrough&#x27;, &#x27;passthrough&#x27;,\n",
       "                                 [&#x27;Age&#x27;, &#x27;Height&#x27;, &#x27;Weight&#x27;,\n",
       "                                  &#x27;family_history_with_overweight&#x27;, &#x27;FAVC&#x27;,\n",
       "                                  &#x27;FCVC&#x27;, &#x27;NCP&#x27;, &#x27;SMOKE&#x27;, &#x27;CH2O&#x27;, &#x27;SCC&#x27;, &#x27;FAF&#x27;,\n",
       "                                  &#x27;TUE&#x27;, &#x27;Gender_Female&#x27;, &#x27;CALC_numerical&#x27;,\n",
       "                                  &#x27;CAEC_numerical&#x27;, &#x27;WH&#x27;])])</pre></div></div></div><div class=\"sk-parallel\"><div class=\"sk-parallel-item\"><div class=\"sk-item\"><div class=\"sk-label-container\"><div class=\"sk-label sk-toggleable\"><input class=\"sk-toggleable__control sk-hidden--visually\" id=\"sk-estimator-id-249\" type=\"checkbox\" ><label for=\"sk-estimator-id-249\" class=\"sk-toggleable__label sk-toggleable__label-arrow\">one-hot-encoder</label><div class=\"sk-toggleable__content\"><pre>[&#x27;MTRANS&#x27;]</pre></div></div></div><div class=\"sk-serial\"><div class=\"sk-item\"><div class=\"sk-estimator sk-toggleable\"><input class=\"sk-toggleable__control sk-hidden--visually\" id=\"sk-estimator-id-250\" type=\"checkbox\" ><label for=\"sk-estimator-id-250\" class=\"sk-toggleable__label sk-toggleable__label-arrow\">OneHotEncoder</label><div class=\"sk-toggleable__content\"><pre>OneHotEncoder(handle_unknown=&#x27;ignore&#x27;)</pre></div></div></div></div></div></div><div class=\"sk-parallel-item\"><div class=\"sk-item\"><div class=\"sk-label-container\"><div class=\"sk-label sk-toggleable\"><input class=\"sk-toggleable__control sk-hidden--visually\" id=\"sk-estimator-id-251\" type=\"checkbox\" ><label for=\"sk-estimator-id-251\" class=\"sk-toggleable__label sk-toggleable__label-arrow\">passthrough</label><div class=\"sk-toggleable__content\"><pre>[&#x27;Age&#x27;, &#x27;Height&#x27;, &#x27;Weight&#x27;, &#x27;family_history_with_overweight&#x27;, &#x27;FAVC&#x27;, &#x27;FCVC&#x27;, &#x27;NCP&#x27;, &#x27;SMOKE&#x27;, &#x27;CH2O&#x27;, &#x27;SCC&#x27;, &#x27;FAF&#x27;, &#x27;TUE&#x27;, &#x27;Gender_Female&#x27;, &#x27;CALC_numerical&#x27;, &#x27;CAEC_numerical&#x27;, &#x27;WH&#x27;]</pre></div></div></div><div class=\"sk-serial\"><div class=\"sk-item\"><div class=\"sk-estimator sk-toggleable\"><input class=\"sk-toggleable__control sk-hidden--visually\" id=\"sk-estimator-id-252\" type=\"checkbox\" ><label for=\"sk-estimator-id-252\" class=\"sk-toggleable__label sk-toggleable__label-arrow\">passthrough</label><div class=\"sk-toggleable__content\"><pre>passthrough</pre></div></div></div></div></div></div></div></div><div class=\"sk-item\"><div class=\"sk-estimator sk-toggleable\"><input class=\"sk-toggleable__control sk-hidden--visually\" id=\"sk-estimator-id-253\" type=\"checkbox\" ><label for=\"sk-estimator-id-253\" class=\"sk-toggleable__label sk-toggleable__label-arrow\">XGBClassifier</label><div class=\"sk-toggleable__content\"><pre>XGBClassifier(base_score=None, booster=None, callbacks=None,\n",
       "              colsample_bylevel=None, colsample_bynode=None,\n",
       "              colsample_bytree=0.4, device=None, early_stopping_rounds=None,\n",
       "              enable_categorical=False, eval_metric=None, feature_types=None,\n",
       "              gamma=None, grow_policy=None, importance_type=None,\n",
       "              interaction_constraints=None, learning_rate=0.1, max_bin=None,\n",
       "              max_cat_threshold=None, max_cat_to_onehot=None,\n",
       "              max_delta_step=None, max_depth=9, max_leaves=None,\n",
       "              min_child_weight=5, missing=nan, monotone_constraints=None,\n",
       "              multi_strategy=None, n_estimators=None, n_jobs=None,\n",
       "              num_parallel_tree=None, objective=&#x27;multi:softprob&#x27;, ...)</pre></div></div></div></div></div></div></div>"
      ],
      "text/plain": [
       "Pipeline(steps=[('columntransformer',\n",
       "                 ColumnTransformer(transformers=[('one-hot-encoder',\n",
       "                                                  OneHotEncoder(handle_unknown='ignore'),\n",
       "                                                  ['MTRANS']),\n",
       "                                                 ('passthrough', 'passthrough',\n",
       "                                                  ['Age', 'Height', 'Weight',\n",
       "                                                   'family_history_with_overweight',\n",
       "                                                   'FAVC', 'FCVC', 'NCP',\n",
       "                                                   'SMOKE', 'CH2O', 'SCC',\n",
       "                                                   'FAF', 'TUE',\n",
       "                                                   'Gender_Female',\n",
       "                                                   'CALC_numerical',\n",
       "                                                   'CAEC_numerical', 'WH'])])),\n",
       "                ('xgbclassi...\n",
       "                               feature_types=None, gamma=None, grow_policy=None,\n",
       "                               importance_type=None,\n",
       "                               interaction_constraints=None, learning_rate=0.1,\n",
       "                               max_bin=None, max_cat_threshold=None,\n",
       "                               max_cat_to_onehot=None, max_delta_step=None,\n",
       "                               max_depth=9, max_leaves=None, min_child_weight=5,\n",
       "                               missing=nan, monotone_constraints=None,\n",
       "                               multi_strategy=None, n_estimators=None,\n",
       "                               n_jobs=None, num_parallel_tree=None,\n",
       "                               objective='multi:softprob', ...))])"
      ]
     },
     "execution_count": 537,
     "metadata": {},
     "output_type": "execute_result"
    }
   ],
   "source": [
    "model_reg.fit(X_train, y_train)"
   ]
  },
  {
   "cell_type": "code",
   "execution_count": 538,
   "id": "a3e88608-dd17-4236-8b5c-40d38b5034a4",
   "metadata": {},
   "outputs": [
    {
     "name": "stdout",
     "output_type": "stream",
     "text": [
      "Feature Importance:\n",
      "Feature 1: MTRANS_Automobile - Importance: 0.031315550208091736\n",
      "Feature 2: MTRANS_Bike - Importance: 0.0\n",
      "Feature 3: MTRANS_Motorbike - Importance: 0.0\n",
      "Feature 4: MTRANS_Public_Transportation - Importance: 0.016656074672937393\n",
      "Feature 5: MTRANS_Walking - Importance: 0.010904516093432903\n",
      "Feature 6: numerical_Age - Importance: 0.034129053354263306\n",
      "Feature 7: numerical_Height - Importance: 0.024195274338126183\n",
      "Feature 8: numerical_Weight - Importance: 0.11323197185993195\n",
      "Feature 9: numerical_family_history_with_overweight - Importance: 0.053490862250328064\n",
      "Feature 10: numerical_FAVC - Importance: 0.03879859670996666\n",
      "Feature 11: numerical_FCVC - Importance: 0.07468608021736145\n",
      "Feature 12: numerical_NCP - Importance: 0.0245345588773489\n",
      "Feature 13: numerical_SMOKE - Importance: 0.025435645133256912\n",
      "Feature 14: numerical_CH2O - Importance: 0.02712598629295826\n",
      "Feature 15: numerical_SCC - Importance: 0.03537195548415184\n",
      "Feature 16: numerical_FAF - Importance: 0.01891106367111206\n",
      "Feature 17: numerical_TUE - Importance: 0.025565987452864647\n",
      "Feature 18: numerical_Gender_Female - Importance: 0.22423090040683746\n",
      "Feature 19: numerical_CALC_numerical - Importance: 0.030069850385189056\n",
      "Feature 20: numerical_CAEC_numerical - Importance: 0.04387521743774414\n",
      "Feature 21: numerical_WH - Importance: 0.14747090637683868\n"
     ]
    }
   ],
   "source": [
    "# col names\n",
    "one_hot_encoder_feature_names = model_reg.named_steps['columntransformer'].named_transformers_['one-hot-encoder'].get_feature_names_out(input_features=['MTRANS'])\n",
    "all_col_names = one_hot_encoder_feature_names.tolist() + [f'numerical_{idx}' for idx in numerical_columns]  # Convert numerical column indices to strings\n",
    "\n",
    "feature_importances = model_reg.steps[-1][1].feature_importances_\n",
    "\n",
    "# Print feature importance\n",
    "print(\"Feature Importance:\")\n",
    "for i, (col_name, importance) in enumerate(zip(all_col_names, feature_importances)):\n",
    "    print(f\"Feature {i+1}: {col_name} - Importance: {importance}\")"
   ]
  },
  {
   "cell_type": "code",
   "execution_count": 539,
   "id": "9303937c-2101-4e5f-8150-ee6d997179ab",
   "metadata": {},
   "outputs": [
    {
     "data": {
      "text/plain": [
       "0.909762363519589"
      ]
     },
     "execution_count": 539,
>>>>>>> 2bc5832c1e434469df2bc6cc8a5ae0ae5a09d85c
     "metadata": {},
     "output_type": "execute_result"
    }
   ],
   "source": [
<<<<<<< HEAD
    "test_clean"
=======
    "model_reg.score(X_test, y_test)"
   ]
  },
  {
   "cell_type": "markdown",
   "id": "b0350602-c77a-421d-b3c2-ac359bb428cb",
   "metadata": {},
   "source": [
    "### Visualization"
   ]
  },
  {
   "cell_type": "code",
   "execution_count": 540,
   "id": "20ce3dd5-2a99-4210-bdbc-c6beedafeb95",
   "metadata": {},
   "outputs": [],
   "source": [
    "import matplotlib.pyplot as plt"
   ]
  },
  {
   "cell_type": "code",
   "execution_count": 541,
   "id": "f46f7b36-6903-4d2c-91ef-e870855f548f",
   "metadata": {},
   "outputs": [
    {
     "data": {
      "image/png": "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\n",
      "text/plain": [
       "<Figure size 1000x600 with 1 Axes>"
      ]
     },
     "metadata": {},
     "output_type": "display_data"
    }
   ],
   "source": [
    "# Plot bar chart\n",
    "plt.figure(figsize=(10, 6))\n",
    "plt.barh(all_col_names, feature_importances, color='skyblue')\n",
    "plt.xlabel('Importance')\n",
    "plt.ylabel('Feature')\n",
    "plt.title('Feature Importance')\n",
    "plt.gca().invert_yaxis()\n",
    "plt.show()"
   ]
  },
  {
   "cell_type": "code",
   "execution_count": 542,
   "id": "c9a3f41f-a630-417a-81cd-6e89023a245e",
   "metadata": {},
   "outputs": [],
   "source": [
    "test_result=X_test.copy()"
   ]
  },
  {
   "cell_type": "code",
   "execution_count": 543,
   "id": "a47e4a00-6717-4e15-a9b0-940f50ea849f",
   "metadata": {},
   "outputs": [],
   "source": [
    "test_result['pred']= y_pred\n",
    "test_result['actual']= y_test"
   ]
  },
  {
   "cell_type": "code",
   "execution_count": 544,
   "id": "093062ff-370a-4de5-b9b4-daf400031a1f",
   "metadata": {},
   "outputs": [],
   "source": [
    "test_result['corr']=np.where(test_result['pred']==test_result['actual'], 1, 0)"
   ]
  },
  {
   "cell_type": "code",
   "execution_count": 545,
   "id": "b832ca5a-a160-4597-8528-eaeebfe6b999",
   "metadata": {},
   "outputs": [],
   "source": [
    "test_result['actual_le']=le.inverse_transform(test_result['actual'])"
>>>>>>> 2bc5832c1e434469df2bc6cc8a5ae0ae5a09d85c
   ]
  },
  {
   "cell_type": "code",
<<<<<<< HEAD
   "execution_count": 895,
   "id": "cfe26db4-d77c-4217-ad8d-996ab16777e0",
   "metadata": {},
   "outputs": [],
   "source": [
    "test_clean['pred_label']=le.inverse_transform(test_clean['pred_class'])"
=======
   "execution_count": 546,
   "id": "59d50db9-9c4b-4477-b836-0fb56bf08b73",
   "metadata": {},
   "outputs": [],
   "source": [
    "test_result.to_clipboard()"
>>>>>>> 2bc5832c1e434469df2bc6cc8a5ae0ae5a09d85c
   ]
  },
  {
   "cell_type": "code",
<<<<<<< HEAD
   "execution_count": 897,
   "id": "51e43112-288c-4536-944b-dca1a17e7a60",
   "metadata": {},
   "outputs": [],
   "source": [
    "test_clean.rename(columns={'pred_label': 'NObeyesdad'})[['id', 'NObeyesdad']].to_csv('obesity_risk_submission1.csv', index=False)"
=======
   "execution_count": 547,
   "id": "3a68443e-0889-4d1b-9420-519b0d3bfeda",
   "metadata": {},
   "outputs": [],
   "source": [
    "test_result[test_result['pred']!=test_result['actual']].to_clipboard()"
   ]
  },
  {
   "cell_type": "markdown",
   "id": "7d6a5f28-ce0e-4771-9ffd-dceb4ef942b0",
   "metadata": {},
   "source": [
    "### Ordinal Regression"
>>>>>>> 2bc5832c1e434469df2bc6cc8a5ae0ae5a09d85c
   ]
  },
  {
   "cell_type": "code",
<<<<<<< HEAD
   "execution_count": 827,
   "id": "7e34824c-eeca-4094-a35f-557a4c70a7fd",
   "metadata": {},
   "outputs": [
    {
     "name": "stderr",
     "output_type": "stream",
     "text": [
      "/var/folders/6n/mn293n895jxcn389nx9f2c3m0000gn/T/ipykernel_60284/3723693877.py:1: FutureWarning: The default value of numeric_only in DataFrameGroupBy.mean is deprecated. In a future version, numeric_only will default to False. Either specify numeric_only or select only columns which should be valid for the function.\n",
      "  test_clean.groupby('pred_label').mean()\n"
     ]
    },
    {
     "data": {
      "text/html": [
       "<div>\n",
       "<style scoped>\n",
       "    .dataframe tbody tr th:only-of-type {\n",
       "        vertical-align: middle;\n",
       "    }\n",
       "\n",
       "    .dataframe tbody tr th {\n",
       "        vertical-align: top;\n",
       "    }\n",
       "\n",
       "    .dataframe thead th {\n",
       "        text-align: right;\n",
       "    }\n",
       "</style>\n",
       "<table border=\"1\" class=\"dataframe\">\n",
       "  <thead>\n",
       "    <tr style=\"text-align: right;\">\n",
       "      <th></th>\n",
       "      <th>id</th>\n",
       "      <th>Age</th>\n",
       "      <th>Height</th>\n",
       "      <th>Weight</th>\n",
       "      <th>family_history_with_overweight</th>\n",
       "      <th>FAVC</th>\n",
       "      <th>FCVC</th>\n",
       "      <th>NCP</th>\n",
       "      <th>SMOKE</th>\n",
       "      <th>CH2O</th>\n",
       "      <th>SCC</th>\n",
       "      <th>FAF</th>\n",
       "      <th>TUE</th>\n",
       "      <th>Gender_Female</th>\n",
       "      <th>CALC_numerical</th>\n",
       "      <th>CAEC_numerical</th>\n",
       "      <th>WH</th>\n",
       "      <th>pred_class</th>\n",
       "    </tr>\n",
       "    <tr>\n",
       "      <th>pred_label</th>\n",
       "      <th></th>\n",
       "      <th></th>\n",
       "      <th></th>\n",
       "      <th></th>\n",
       "      <th></th>\n",
       "      <th></th>\n",
       "      <th></th>\n",
       "      <th></th>\n",
       "      <th></th>\n",
       "      <th></th>\n",
       "      <th></th>\n",
       "      <th></th>\n",
       "      <th></th>\n",
       "      <th></th>\n",
       "      <th></th>\n",
       "      <th></th>\n",
       "      <th></th>\n",
       "      <th></th>\n",
       "    </tr>\n",
       "  </thead>\n",
       "  <tbody>\n",
       "    <tr>\n",
       "      <th>Insufficient_Weight</th>\n",
       "      <td>27734.920281</td>\n",
       "      <td>19.337428</td>\n",
       "      <td>1.685526</td>\n",
       "      <td>49.546844</td>\n",
       "      <td>0.419109</td>\n",
       "      <td>0.860492</td>\n",
       "      <td>2.464388</td>\n",
       "      <td>2.918369</td>\n",
       "      <td>0.003517</td>\n",
       "      <td>1.785754</td>\n",
       "      <td>0.092614</td>\n",
       "      <td>1.207878</td>\n",
       "      <td>0.812741</td>\n",
       "      <td>0.640680</td>\n",
       "      <td>0.199941</td>\n",
       "      <td>0.447831</td>\n",
       "      <td>29.337709</td>\n",
       "      <td>0.0</td>\n",
       "    </tr>\n",
       "    <tr>\n",
       "      <th>Normal_Weight</th>\n",
       "      <td>27687.566542</td>\n",
       "      <td>20.890465</td>\n",
       "      <td>1.667136</td>\n",
       "      <td>61.243001</td>\n",
       "      <td>0.596064</td>\n",
       "      <td>0.831771</td>\n",
       "      <td>2.385441</td>\n",
       "      <td>2.884102</td>\n",
       "      <td>0.016870</td>\n",
       "      <td>1.796952</td>\n",
       "      <td>0.058575</td>\n",
       "      <td>1.162053</td>\n",
       "      <td>0.652515</td>\n",
       "      <td>0.544986</td>\n",
       "      <td>0.200141</td>\n",
       "      <td>0.434911</td>\n",
       "      <td>36.651575</td>\n",
       "      <td>1.0</td>\n",
       "    </tr>\n",
       "    <tr>\n",
       "      <th>Obesity_Type_I</th>\n",
       "      <td>27805.548721</td>\n",
       "      <td>23.032311</td>\n",
       "      <td>1.689786</td>\n",
       "      <td>74.430758</td>\n",
       "      <td>0.703525</td>\n",
       "      <td>0.908086</td>\n",
       "      <td>2.250694</td>\n",
       "      <td>2.513818</td>\n",
       "      <td>0.008984</td>\n",
       "      <td>2.088798</td>\n",
       "      <td>0.109883</td>\n",
       "      <td>1.105235</td>\n",
       "      <td>0.561618</td>\n",
       "      <td>0.431237</td>\n",
       "      <td>0.279889</td>\n",
       "      <td>0.323981</td>\n",
       "      <td>43.962140</td>\n",
       "      <td>2.0</td>\n",
       "    </tr>\n",
       "    <tr>\n",
       "      <th>Obesity_Type_II</th>\n",
       "      <td>27603.484447</td>\n",
       "      <td>26.451579</td>\n",
       "      <td>1.707046</td>\n",
       "      <td>82.027775</td>\n",
       "      <td>0.919355</td>\n",
       "      <td>0.763249</td>\n",
       "      <td>2.234766</td>\n",
       "      <td>2.572459</td>\n",
       "      <td>0.014401</td>\n",
       "      <td>2.022351</td>\n",
       "      <td>0.003456</td>\n",
       "      <td>1.050921</td>\n",
       "      <td>0.691545</td>\n",
       "      <td>0.293779</td>\n",
       "      <td>0.201671</td>\n",
       "      <td>0.330127</td>\n",
       "      <td>48.006050</td>\n",
       "      <td>3.0</td>\n",
       "    </tr>\n",
       "    <tr>\n",
       "      <th>Obesity_Type_III</th>\n",
       "      <td>27623.728855</td>\n",
       "      <td>25.366993</td>\n",
       "      <td>1.687713</td>\n",
       "      <td>91.884906</td>\n",
       "      <td>0.984050</td>\n",
       "      <td>0.961334</td>\n",
       "      <td>2.096568</td>\n",
       "      <td>2.440930</td>\n",
       "      <td>0.009183</td>\n",
       "      <td>2.113993</td>\n",
       "      <td>0.005317</td>\n",
       "      <td>0.960176</td>\n",
       "      <td>0.699767</td>\n",
       "      <td>0.459642</td>\n",
       "      <td>0.167182</td>\n",
       "      <td>0.322040</td>\n",
       "      <td>54.316733</td>\n",
       "      <td>4.0</td>\n",
       "    </tr>\n",
       "    <tr>\n",
       "      <th>Overweight_Level_I</th>\n",
       "      <td>27663.830118</td>\n",
       "      <td>27.526815</td>\n",
       "      <td>1.785217</td>\n",
       "      <td>116.278101</td>\n",
       "      <td>0.999529</td>\n",
       "      <td>0.984000</td>\n",
       "      <td>2.433799</td>\n",
       "      <td>2.782338</td>\n",
       "      <td>0.037176</td>\n",
       "      <td>1.965919</td>\n",
       "      <td>0.002353</td>\n",
       "      <td>1.045991</td>\n",
       "      <td>0.381854</td>\n",
       "      <td>0.000471</td>\n",
       "      <td>0.257365</td>\n",
       "      <td>0.305271</td>\n",
       "      <td>65.116939</td>\n",
       "      <td>5.0</td>\n",
       "    </tr>\n",
       "    <tr>\n",
       "      <th>Overweight_Level_II</th>\n",
       "      <td>27663.799848</td>\n",
       "      <td>24.288804</td>\n",
       "      <td>1.672152</td>\n",
       "      <td>116.995692</td>\n",
       "      <td>1.000000</td>\n",
       "      <td>0.999238</td>\n",
       "      <td>3.000000</td>\n",
       "      <td>3.000000</td>\n",
       "      <td>0.000762</td>\n",
       "      <td>2.347531</td>\n",
       "      <td>0.000000</td>\n",
       "      <td>0.500976</td>\n",
       "      <td>0.535742</td>\n",
       "      <td>1.000000</td>\n",
       "      <td>0.300114</td>\n",
       "      <td>0.300000</td>\n",
       "      <td>69.833422</td>\n",
       "      <td>6.0</td>\n",
       "    </tr>\n",
       "  </tbody>\n",
       "</table>\n",
       "</div>"
      ],
      "text/plain": [
       "                               id        Age    Height      Weight  \\\n",
       "pred_label                                                           \n",
       "Insufficient_Weight  27734.920281  19.337428  1.685526   49.546844   \n",
       "Normal_Weight        27687.566542  20.890465  1.667136   61.243001   \n",
       "Obesity_Type_I       27805.548721  23.032311  1.689786   74.430758   \n",
       "Obesity_Type_II      27603.484447  26.451579  1.707046   82.027775   \n",
       "Obesity_Type_III     27623.728855  25.366993  1.687713   91.884906   \n",
       "Overweight_Level_I   27663.830118  27.526815  1.785217  116.278101   \n",
       "Overweight_Level_II  27663.799848  24.288804  1.672152  116.995692   \n",
       "\n",
       "                     family_history_with_overweight      FAVC      FCVC  \\\n",
       "pred_label                                                                \n",
       "Insufficient_Weight                        0.419109  0.860492  2.464388   \n",
       "Normal_Weight                              0.596064  0.831771  2.385441   \n",
       "Obesity_Type_I                             0.703525  0.908086  2.250694   \n",
       "Obesity_Type_II                            0.919355  0.763249  2.234766   \n",
       "Obesity_Type_III                           0.984050  0.961334  2.096568   \n",
       "Overweight_Level_I                         0.999529  0.984000  2.433799   \n",
       "Overweight_Level_II                        1.000000  0.999238  3.000000   \n",
       "\n",
       "                          NCP     SMOKE      CH2O       SCC       FAF  \\\n",
       "pred_label                                                              \n",
       "Insufficient_Weight  2.918369  0.003517  1.785754  0.092614  1.207878   \n",
       "Normal_Weight        2.884102  0.016870  1.796952  0.058575  1.162053   \n",
       "Obesity_Type_I       2.513818  0.008984  2.088798  0.109883  1.105235   \n",
       "Obesity_Type_II      2.572459  0.014401  2.022351  0.003456  1.050921   \n",
       "Obesity_Type_III     2.440930  0.009183  2.113993  0.005317  0.960176   \n",
       "Overweight_Level_I   2.782338  0.037176  1.965919  0.002353  1.045991   \n",
       "Overweight_Level_II  3.000000  0.000762  2.347531  0.000000  0.500976   \n",
       "\n",
       "                          TUE  Gender_Female  CALC_numerical  CAEC_numerical  \\\n",
       "pred_label                                                                     \n",
       "Insufficient_Weight  0.812741       0.640680        0.199941        0.447831   \n",
       "Normal_Weight        0.652515       0.544986        0.200141        0.434911   \n",
       "Obesity_Type_I       0.561618       0.431237        0.279889        0.323981   \n",
       "Obesity_Type_II      0.691545       0.293779        0.201671        0.330127   \n",
       "Obesity_Type_III     0.699767       0.459642        0.167182        0.322040   \n",
       "Overweight_Level_I   0.381854       0.000471        0.257365        0.305271   \n",
       "Overweight_Level_II  0.535742       1.000000        0.300114        0.300000   \n",
       "\n",
       "                            WH  pred_class  \n",
       "pred_label                                  \n",
       "Insufficient_Weight  29.337709         0.0  \n",
       "Normal_Weight        36.651575         1.0  \n",
       "Obesity_Type_I       43.962140         2.0  \n",
       "Obesity_Type_II      48.006050         3.0  \n",
       "Obesity_Type_III     54.316733         4.0  \n",
       "Overweight_Level_I   65.116939         5.0  \n",
       "Overweight_Level_II  69.833422         6.0  "
      ]
     },
     "execution_count": 827,
=======
   "execution_count": 549,
   "id": "d8a2a946-fa37-4489-9cfc-fb4394211c0b",
   "metadata": {},
   "outputs": [
    {
     "data": {
      "text/plain": [
       "0     Overweight_Level_II\n",
       "1           Normal_Weight\n",
       "2     Insufficient_Weight\n",
       "3        Obesity_Type_III\n",
       "6         Obesity_Type_II\n",
       "8      Overweight_Level_I\n",
       "12         Obesity_Type_I\n",
       "Name: NObeyesdad, dtype: object"
      ]
     },
     "execution_count": 549,
>>>>>>> 2bc5832c1e434469df2bc6cc8a5ae0ae5a09d85c
     "metadata": {},
     "output_type": "execute_result"
    }
   ],
   "source": [
<<<<<<< HEAD
    "test_clean.groupby('pred_label').mean()"
=======
    "df['NObeyesdad'].drop_duplicates()"
   ]
  },
  {
   "cell_type": "code",
   "execution_count": 550,
   "id": "cbb62e73-4653-4d12-96f2-26c1cc100506",
   "metadata": {},
   "outputs": [],
   "source": [
    "obmapper = {'Insufficient_Weight': 0,\n",
    "           'Normal_Weight': 1, \n",
    "           'Overweight_Level_I': 2,\n",
    "           'Overweight_Level_II': 3, \n",
    "           'Obesity_Type_I': 4,\n",
    "           'Obesity_Type_II': 5,\n",
    "           'Obesity_Type_III': 6}"
   ]
  },
  {
   "cell_type": "code",
   "execution_count": 552,
   "id": "f0ff5924-ba4d-441f-a22a-a83316189cd6",
   "metadata": {},
   "outputs": [],
   "source": [
    "df['NObeyesdad_num']=df['NObeyesdad'].replace(obmapper)"
>>>>>>> 2bc5832c1e434469df2bc6cc8a5ae0ae5a09d85c
   ]
  },
  {
   "cell_type": "code",
   "execution_count": null,
<<<<<<< HEAD
   "id": "9a0615e3-cd53-4ddb-be9a-f582befb1950",
=======
   "id": "521a4802-5b48-44ec-9940-20a72cfa4550",
>>>>>>> 2bc5832c1e434469df2bc6cc8a5ae0ae5a09d85c
   "metadata": {},
   "outputs": [],
   "source": []
  }
 ],
 "metadata": {
  "kernelspec": {
   "display_name": "kaggle_env",
   "language": "python",
   "name": "kaggle_env"
  },
  "language_info": {
   "codemirror_mode": {
    "name": "ipython",
    "version": 3
   },
   "file_extension": ".py",
   "mimetype": "text/x-python",
   "name": "python",
   "nbconvert_exporter": "python",
   "pygments_lexer": "ipython3",
   "version": "3.9.7"
  }
 },
 "nbformat": 4,
 "nbformat_minor": 5
}
